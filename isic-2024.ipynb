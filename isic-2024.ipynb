{
 "cells": [
  {
   "attachments": {
    "04412498-8f68-46f8-910b-0aa1a001d654.png": {
     "image/png": "[encoded data removed]"
    }
   },
   "cell_type": "markdown",
   "id": "b9e4dd84",
   "metadata": {
    "papermill": {
     "duration": 0.015929,
     "end_time": "2025-03-22T15:07:30.248398",
     "exception": false,
     "start_time": "2025-03-22T15:07:30.232469",
     "status": "completed"
    },
    "tags": []
   },
   "source": [
    "# Malignant or Benign Training\n",
    "\n",
    "![Untitled.png](attachment:04412498-8f68-46f8-910b-0aa1a001d654.png)"
   ]
  },
  {
   "cell_type": "code",
   "execution_count": 1,
   "id": "b2ad74b8",
   "metadata": {
    "_cell_guid": "b1076dfc-b9ad-4769-8c92-a6c4dae69d19",
    "_uuid": "8f2839f25d086af736a60e9eeb907d3b93b6e0e5",
    "execution": {
     "iopub.execute_input": "2025-03-22T15:07:30.281722Z",
     "iopub.status.busy": "2025-03-22T15:07:30.281397Z",
     "iopub.status.idle": "2025-03-22T15:07:46.529688Z",
     "shell.execute_reply": "2025-03-22T15:07:46.528948Z"
    },
    "papermill": {
     "duration": 16.266801,
     "end_time": "2025-03-22T15:07:46.531809",
     "exception": false,
     "start_time": "2025-03-22T15:07:30.265008",
     "status": "completed"
    },
    "tags": []
   },
   "outputs": [
    {
     "name": "stderr",
     "output_type": "stream",
     "text": [
      "2025-03-22 15:07:33.408018: E external/local_xla/xla/stream_executor/cuda/cuda_dnn.cc:9261] Unable to register cuDNN factory: Attempting to register factory for plugin cuDNN when one has already been registered\n",
      "2025-03-22 15:07:33.408166: E external/local_xla/xla/stream_executor/cuda/cuda_fft.cc:607] Unable to register cuFFT factory: Attempting to register factory for plugin cuFFT when one has already been registered\n",
      "2025-03-22 15:07:33.572953: E external/local_xla/xla/stream_executor/cuda/cuda_blas.cc:1515] Unable to register cuBLAS factory: Attempting to register factory for plugin cuBLAS when one has already been registered\n"
     ]
    },
    {
     "name": "stdout",
     "output_type": "stream",
     "text": [
      "Num GPUs Available:  2\n"
     ]
    }
   ],
   "source": [
    "\n",
    "import numpy as np # linear algebra\n",
    "import pandas as pd # data processing, CSV file I/O (e.g. pd.read_csv)\n",
    "import tensorflow as tf\n",
    "print(\"Num GPUs Available: \", len(tf.config.experimental.list_physical_devices('GPU')))\n",
    "from tensorflow import keras\n",
    "from tensorflow.keras import layers # Might have just abandoned this \n",
    "from tensorflow.keras.layers import Input, Conv2D, MaxPooling2D, Flatten, Dense, BatchNormalization, Dropout\n",
    "from tensorflow.keras.models import Model\n",
    "from sklearn.preprocessing import StandardScaler\n",
    "from sklearn.preprocessing import MinMaxScaler\n",
    "from sklearn.model_selection import train_test_split \n",
    "from sklearn.feature_selection import mutual_info_regression\n",
    "from sklearn.metrics import mean_absolute_error, accuracy_score  # Import accuracy_score for da training process\n",
    "from sklearn.experimental import enable_iterative_imputer\n",
    "from sklearn.impute import IterativeImputer\n",
    "from sklearn.ensemble import RandomForestRegressor\n",
    "from imblearn.over_sampling import SMOTE\n",
    "from sklearn.model_selection import StratifiedKFold, cross_val_score\n",
    "import concurrent.futures\n",
    "from catboost import CatBoostClassifier\n",
    "\n",
    "import h5py \n",
    "import matplotlib.pyplot as plt # For graphing/ viewing the images stored\n",
    "import numpy as np # Used a numpy array to store resized images \n",
    "from PIL import Image\n",
    "import io\n",
    "from xgboost import XGBRegressor\n",
    "import os\n",
    "import sqlite3\n",
    "\n",
    "pd.set_option('display.max_rows', None)\n",
    "pd.set_option('display.max_columns', None)\n",
    "pd.set_option('display.max_colwidth', None)"
   ]
  },
  {
   "cell_type": "code",
   "execution_count": 2,
   "id": "94cbb5b4",
   "metadata": {
    "execution": {
     "iopub.execute_input": "2025-03-22T15:07:46.566624Z",
     "iopub.status.busy": "2025-03-22T15:07:46.566056Z",
     "iopub.status.idle": "2025-03-22T15:07:54.289272Z",
     "shell.execute_reply": "2025-03-22T15:07:54.288249Z"
    },
    "papermill": {
     "duration": 7.742626,
     "end_time": "2025-03-22T15:07:54.291414",
     "exception": false,
     "start_time": "2025-03-22T15:07:46.548788",
     "status": "completed"
    },
    "tags": []
   },
   "outputs": [
    {
     "name": "stderr",
     "output_type": "stream",
     "text": [
      "/tmp/ipykernel_24/2859553381.py:1: DtypeWarning: Columns (51,52) have mixed types. Specify dtype option on import or set low_memory=False.\n",
      "  training_meta_data = pd.read_csv('/kaggle/input/isic-2024-challenge/train-metadata.csv')\n"
     ]
    },
    {
     "name": "stdout",
     "output_type": "stream",
     "text": [
      "done\n"
     ]
    }
   ],
   "source": [
    "training_meta_data = pd.read_csv('/kaggle/input/isic-2024-challenge/train-metadata.csv')\n",
    "testing_meta_data = pd.read_csv('/kaggle/input/isic-2024-challenge/test-metadata.csv')\n",
    "print('done')"
   ]
  },
  {
   "cell_type": "code",
   "execution_count": 3,
   "id": "de03d24e",
   "metadata": {
    "execution": {
     "iopub.execute_input": "2025-03-22T15:07:54.326900Z",
     "iopub.status.busy": "2025-03-22T15:07:54.326265Z",
     "iopub.status.idle": "2025-03-22T15:07:54.369305Z",
     "shell.execute_reply": "2025-03-22T15:07:54.368402Z"
    },
    "papermill": {
     "duration": 0.062274,
     "end_time": "2025-03-22T15:07:54.371044",
     "exception": false,
     "start_time": "2025-03-22T15:07:54.308770",
     "status": "completed"
    },
    "tags": []
   },
   "outputs": [
    {
     "data": {
      "text/html": [
       "<div>\n",
       "<style scoped>\n",
       "    .dataframe tbody tr th:only-of-type {\n",
       "        vertical-align: middle;\n",
       "    }\n",
       "\n",
       "    .dataframe tbody tr th {\n",
       "        vertical-align: top;\n",
       "    }\n",
       "\n",
       "    .dataframe thead th {\n",
       "        text-align: right;\n",
       "    }\n",
       "</style>\n",
       "<table border=\"1\" class=\"dataframe\">\n",
       "  <thead>\n",
       "    <tr style=\"text-align: right;\">\n",
       "      <th></th>\n",
       "      <th>isic_id</th>\n",
       "      <th>target</th>\n",
       "      <th>patient_id</th>\n",
       "      <th>age_approx</th>\n",
       "      <th>sex</th>\n",
       "      <th>anatom_site_general</th>\n",
       "      <th>clin_size_long_diam_mm</th>\n",
       "      <th>image_type</th>\n",
       "      <th>tbp_tile_type</th>\n",
       "      <th>tbp_lv_A</th>\n",
       "      <th>tbp_lv_Aext</th>\n",
       "      <th>tbp_lv_B</th>\n",
       "      <th>tbp_lv_Bext</th>\n",
       "      <th>tbp_lv_C</th>\n",
       "      <th>tbp_lv_Cext</th>\n",
       "      <th>tbp_lv_H</th>\n",
       "      <th>tbp_lv_Hext</th>\n",
       "      <th>tbp_lv_L</th>\n",
       "      <th>tbp_lv_Lext</th>\n",
       "      <th>tbp_lv_areaMM2</th>\n",
       "      <th>tbp_lv_area_perim_ratio</th>\n",
       "      <th>tbp_lv_color_std_mean</th>\n",
       "      <th>tbp_lv_deltaA</th>\n",
       "      <th>tbp_lv_deltaB</th>\n",
       "      <th>tbp_lv_deltaL</th>\n",
       "      <th>tbp_lv_deltaLB</th>\n",
       "      <th>tbp_lv_deltaLBnorm</th>\n",
       "      <th>tbp_lv_eccentricity</th>\n",
       "      <th>tbp_lv_location</th>\n",
       "      <th>tbp_lv_location_simple</th>\n",
       "      <th>tbp_lv_minorAxisMM</th>\n",
       "      <th>tbp_lv_nevi_confidence</th>\n",
       "      <th>tbp_lv_norm_border</th>\n",
       "      <th>tbp_lv_norm_color</th>\n",
       "      <th>tbp_lv_perimeterMM</th>\n",
       "      <th>tbp_lv_radial_color_std_max</th>\n",
       "      <th>tbp_lv_stdL</th>\n",
       "      <th>tbp_lv_stdLExt</th>\n",
       "      <th>tbp_lv_symm_2axis</th>\n",
       "      <th>tbp_lv_symm_2axis_angle</th>\n",
       "      <th>tbp_lv_x</th>\n",
       "      <th>tbp_lv_y</th>\n",
       "      <th>tbp_lv_z</th>\n",
       "      <th>attribution</th>\n",
       "      <th>copyright_license</th>\n",
       "      <th>lesion_id</th>\n",
       "      <th>iddx_full</th>\n",
       "      <th>iddx_1</th>\n",
       "      <th>iddx_2</th>\n",
       "      <th>iddx_3</th>\n",
       "      <th>iddx_4</th>\n",
       "      <th>iddx_5</th>\n",
       "      <th>mel_mitotic_index</th>\n",
       "      <th>mel_thick_mm</th>\n",
       "      <th>tbp_lv_dnn_lesion_confidence</th>\n",
       "    </tr>\n",
       "  </thead>\n",
       "  <tbody>\n",
       "    <tr>\n",
       "      <th>0</th>\n",
       "      <td>ISIC_0015670</td>\n",
       "      <td>0</td>\n",
       "      <td>IP_1235828</td>\n",
       "      <td>60.0</td>\n",
       "      <td>male</td>\n",
       "      <td>lower extremity</td>\n",
       "      <td>3.04</td>\n",
       "      <td>TBP tile: close-up</td>\n",
       "      <td>3D: white</td>\n",
       "      <td>20.244422</td>\n",
       "      <td>16.261975</td>\n",
       "      <td>26.922447</td>\n",
       "      <td>23.954773</td>\n",
       "      <td>33.684638</td>\n",
       "      <td>28.953117</td>\n",
       "      <td>53.058545</td>\n",
       "      <td>55.828924</td>\n",
       "      <td>54.367448</td>\n",
       "      <td>62.025701</td>\n",
       "      <td>3.152561</td>\n",
       "      <td>27.47617</td>\n",
       "      <td>0.0</td>\n",
       "      <td>3.982447</td>\n",
       "      <td>2.967674</td>\n",
       "      <td>-7.658253</td>\n",
       "      <td>8.360566</td>\n",
       "      <td>5.784302</td>\n",
       "      <td>0.901302</td>\n",
       "      <td>Right Leg - Upper</td>\n",
       "      <td>Right Leg</td>\n",
       "      <td>1.543016</td>\n",
       "      <td>2.628592e-03</td>\n",
       "      <td>7.091360</td>\n",
       "      <td>0.0</td>\n",
       "      <td>9.307003</td>\n",
       "      <td>0.0</td>\n",
       "      <td>2.036195</td>\n",
       "      <td>2.637780</td>\n",
       "      <td>0.590476</td>\n",
       "      <td>85</td>\n",
       "      <td>-182.703552</td>\n",
       "      <td>613.493652</td>\n",
       "      <td>-42.427948</td>\n",
       "      <td>Memorial Sloan Kettering Cancer Center</td>\n",
       "      <td>CC-BY</td>\n",
       "      <td>NaN</td>\n",
       "      <td>Benign</td>\n",
       "      <td>Benign</td>\n",
       "      <td>NaN</td>\n",
       "      <td>NaN</td>\n",
       "      <td>NaN</td>\n",
       "      <td>NaN</td>\n",
       "      <td>NaN</td>\n",
       "      <td>NaN</td>\n",
       "      <td>97.517282</td>\n",
       "    </tr>\n",
       "    <tr>\n",
       "      <th>1</th>\n",
       "      <td>ISIC_0015845</td>\n",
       "      <td>0</td>\n",
       "      <td>IP_8170065</td>\n",
       "      <td>60.0</td>\n",
       "      <td>male</td>\n",
       "      <td>head/neck</td>\n",
       "      <td>1.10</td>\n",
       "      <td>TBP tile: close-up</td>\n",
       "      <td>3D: white</td>\n",
       "      <td>31.712570</td>\n",
       "      <td>25.364740</td>\n",
       "      <td>26.331000</td>\n",
       "      <td>24.549290</td>\n",
       "      <td>41.219030</td>\n",
       "      <td>35.299260</td>\n",
       "      <td>39.702910</td>\n",
       "      <td>44.064040</td>\n",
       "      <td>48.861520</td>\n",
       "      <td>55.362360</td>\n",
       "      <td>0.919497</td>\n",
       "      <td>12.23529</td>\n",
       "      <td>0.0</td>\n",
       "      <td>6.347830</td>\n",
       "      <td>1.781713</td>\n",
       "      <td>-6.500838</td>\n",
       "      <td>6.839008</td>\n",
       "      <td>4.987244</td>\n",
       "      <td>0.639885</td>\n",
       "      <td>Head &amp; Neck</td>\n",
       "      <td>Head &amp; Neck</td>\n",
       "      <td>0.821918</td>\n",
       "      <td>1.334303e-07</td>\n",
       "      <td>2.116402</td>\n",
       "      <td>0.0</td>\n",
       "      <td>3.354148</td>\n",
       "      <td>0.0</td>\n",
       "      <td>0.853227</td>\n",
       "      <td>3.912844</td>\n",
       "      <td>0.285714</td>\n",
       "      <td>55</td>\n",
       "      <td>-0.078308</td>\n",
       "      <td>1575.687000</td>\n",
       "      <td>57.174500</td>\n",
       "      <td>Memorial Sloan Kettering Cancer Center</td>\n",
       "      <td>CC-BY</td>\n",
       "      <td>IL_6727506</td>\n",
       "      <td>Benign</td>\n",
       "      <td>Benign</td>\n",
       "      <td>NaN</td>\n",
       "      <td>NaN</td>\n",
       "      <td>NaN</td>\n",
       "      <td>NaN</td>\n",
       "      <td>NaN</td>\n",
       "      <td>NaN</td>\n",
       "      <td>3.141455</td>\n",
       "    </tr>\n",
       "  </tbody>\n",
       "</table>\n",
       "</div>"
      ],
      "text/plain": [
       "        isic_id  target  patient_id  age_approx   sex anatom_site_general  \\\n",
       "0  ISIC_0015670       0  IP_1235828        60.0  male     lower extremity   \n",
       "1  ISIC_0015845       0  IP_8170065        60.0  male           head/neck   \n",
       "\n",
       "   clin_size_long_diam_mm          image_type tbp_tile_type   tbp_lv_A  \\\n",
       "0                    3.04  TBP tile: close-up     3D: white  20.244422   \n",
       "1                    1.10  TBP tile: close-up     3D: white  31.712570   \n",
       "\n",
       "   tbp_lv_Aext   tbp_lv_B  tbp_lv_Bext   tbp_lv_C  tbp_lv_Cext   tbp_lv_H  \\\n",
       "0    16.261975  26.922447    23.954773  33.684638    28.953117  53.058545   \n",
       "1    25.364740  26.331000    24.549290  41.219030    35.299260  39.702910   \n",
       "\n",
       "   tbp_lv_Hext   tbp_lv_L  tbp_lv_Lext  tbp_lv_areaMM2  \\\n",
       "0    55.828924  54.367448    62.025701        3.152561   \n",
       "1    44.064040  48.861520    55.362360        0.919497   \n",
       "\n",
       "   tbp_lv_area_perim_ratio  tbp_lv_color_std_mean  tbp_lv_deltaA  \\\n",
       "0                 27.47617                    0.0       3.982447   \n",
       "1                 12.23529                    0.0       6.347830   \n",
       "\n",
       "   tbp_lv_deltaB  tbp_lv_deltaL  tbp_lv_deltaLB  tbp_lv_deltaLBnorm  \\\n",
       "0       2.967674      -7.658253        8.360566            5.784302   \n",
       "1       1.781713      -6.500838        6.839008            4.987244   \n",
       "\n",
       "   tbp_lv_eccentricity    tbp_lv_location tbp_lv_location_simple  \\\n",
       "0             0.901302  Right Leg - Upper              Right Leg   \n",
       "1             0.639885        Head & Neck            Head & Neck   \n",
       "\n",
       "   tbp_lv_minorAxisMM  tbp_lv_nevi_confidence  tbp_lv_norm_border  \\\n",
       "0            1.543016            2.628592e-03            7.091360   \n",
       "1            0.821918            1.334303e-07            2.116402   \n",
       "\n",
       "   tbp_lv_norm_color  tbp_lv_perimeterMM  tbp_lv_radial_color_std_max  \\\n",
       "0                0.0            9.307003                          0.0   \n",
       "1                0.0            3.354148                          0.0   \n",
       "\n",
       "   tbp_lv_stdL  tbp_lv_stdLExt  tbp_lv_symm_2axis  tbp_lv_symm_2axis_angle  \\\n",
       "0     2.036195        2.637780           0.590476                       85   \n",
       "1     0.853227        3.912844           0.285714                       55   \n",
       "\n",
       "     tbp_lv_x     tbp_lv_y   tbp_lv_z                             attribution  \\\n",
       "0 -182.703552   613.493652 -42.427948  Memorial Sloan Kettering Cancer Center   \n",
       "1   -0.078308  1575.687000  57.174500  Memorial Sloan Kettering Cancer Center   \n",
       "\n",
       "  copyright_license   lesion_id iddx_full  iddx_1 iddx_2 iddx_3 iddx_4 iddx_5  \\\n",
       "0             CC-BY         NaN    Benign  Benign    NaN    NaN    NaN    NaN   \n",
       "1             CC-BY  IL_6727506    Benign  Benign    NaN    NaN    NaN    NaN   \n",
       "\n",
       "  mel_mitotic_index  mel_thick_mm  tbp_lv_dnn_lesion_confidence  \n",
       "0               NaN           NaN                     97.517282  \n",
       "1               NaN           NaN                      3.141455  "
      ]
     },
     "execution_count": 3,
     "metadata": {},
     "output_type": "execute_result"
    }
   ],
   "source": [
    "training_meta_data.head(2)"
   ]
  },
  {
   "cell_type": "code",
   "execution_count": 4,
   "id": "ca27da86",
   "metadata": {
    "execution": {
     "iopub.execute_input": "2025-03-22T15:07:54.404647Z",
     "iopub.status.busy": "2025-03-22T15:07:54.404290Z",
     "iopub.status.idle": "2025-03-22T15:07:54.507134Z",
     "shell.execute_reply": "2025-03-22T15:07:54.506292Z"
    },
    "papermill": {
     "duration": 0.121355,
     "end_time": "2025-03-22T15:07:54.508955",
     "exception": false,
     "start_time": "2025-03-22T15:07:54.387600",
     "status": "completed"
    },
    "tags": []
   },
   "outputs": [
    {
     "data": {
      "text/plain": [
       "(393, 55)"
      ]
     },
     "execution_count": 4,
     "metadata": {},
     "output_type": "execute_result"
    }
   ],
   "source": [
    "# Okay today we are splitting the benign data into two sets randomly, so we can have two whole models trained seperately and combine to give a prediction\n",
    "\n",
    "meta_malignant_cases = training_meta_data[training_meta_data['target'] == 1]\n",
    "meta_benign_cases = training_meta_data[training_meta_data['target'] == 0]\n",
    "meta_malignant_cases.shape"
   ]
  },
  {
   "cell_type": "code",
   "execution_count": 5,
   "id": "3047a7fb",
   "metadata": {
    "execution": {
     "iopub.execute_input": "2025-03-22T15:07:54.543295Z",
     "iopub.status.busy": "2025-03-22T15:07:54.542809Z",
     "iopub.status.idle": "2025-03-22T15:07:55.245009Z",
     "shell.execute_reply": "2025-03-22T15:07:55.243808Z"
    },
    "papermill": {
     "duration": 0.721616,
     "end_time": "2025-03-22T15:07:55.247324",
     "exception": false,
     "start_time": "2025-03-22T15:07:54.525708",
     "status": "completed"
    },
    "tags": []
   },
   "outputs": [
    {
     "name": "stdout",
     "output_type": "stream",
     "text": [
      "(400666, 55)\n",
      "(240399, 55)\n",
      "(40066, 55)\n",
      "(40067, 55)\n",
      "(40067, 55)\n",
      "(40067, 55)\n",
      "==========================================\n",
      "(240792, 55)\n",
      "(40459, 55)\n",
      "(40460, 55)\n",
      "(40460, 55)\n",
      "(40460, 55)\n"
     ]
    }
   ],
   "source": [
    "# So we will split the benign data seperately from the malingant data, becuase there is so little of it we just make both models learn of this small\n",
    "# set of malignasnt cases\n",
    "print(meta_benign_cases.shape)\n",
    "benign_cases_split_1, benign_cases_split_2 = train_test_split(meta_benign_cases, test_size=0.4, random_state=42)\n",
    "benign_cases_split_2, benign_cases_split_3 = train_test_split(benign_cases_split_2, test_size=0.5, random_state=42)\n",
    "benign_cases_split_2, benign_cases_split_4 = train_test_split(benign_cases_split_2, test_size=0.5, random_state=42)\n",
    "benign_cases_split_3, benign_cases_split_5 = train_test_split(benign_cases_split_3, test_size=0.5, random_state=42)\n",
    "\n",
    "print(benign_cases_split_1.shape) # For the main model in the ensemble\n",
    "print(benign_cases_split_2.shape) # For the lone xgboost\n",
    "print(benign_cases_split_3.shape) # For the lone cnn\n",
    "print(benign_cases_split_4.shape) # For the lone catboost\n",
    "print(benign_cases_split_5.shape) # For the lone catboost\n",
    "\n",
    "\n",
    "\n",
    "# Then we combine them again so now we have two large training sets for two seperate models. Its go time baybee\n",
    "training_meta_data_1 = pd.concat([meta_malignant_cases, benign_cases_split_1], axis=0)\n",
    "training_meta_data_2 = pd.concat([meta_malignant_cases, benign_cases_split_2], axis=0)\n",
    "training_meta_data_3 = pd.concat([meta_malignant_cases, benign_cases_split_3], axis=0)\n",
    "training_meta_data_4 = pd.concat([meta_malignant_cases, benign_cases_split_4], axis=0)\n",
    "training_meta_data_5 = pd.concat([meta_malignant_cases, benign_cases_split_5], axis=0)\n",
    "print('==========================================')\n",
    "print(training_meta_data_1.shape) # For the main model in the ensemble\n",
    "print(training_meta_data_2.shape) # For the lone xgboost\n",
    "print(training_meta_data_3.shape) # For the lone cnn\n",
    "print(training_meta_data_4.shape) # For the lone catboost\n",
    "print(training_meta_data_5.shape) # Maybe for the final nerual head "
   ]
  },
  {
   "cell_type": "markdown",
   "id": "63f2059c",
   "metadata": {
    "papermill": {
     "duration": 0.017113,
     "end_time": "2025-03-22T15:07:55.284762",
     "exception": false,
     "start_time": "2025-03-22T15:07:55.267649",
     "status": "completed"
    },
    "tags": []
   },
   "source": [
    "Now the idea is we dont need to change anythign about the image data, since we sort uusing ids, we will have two seperate  sql queries, two seperate instances of feature engineering, two serpeaste xgboosts and two sperate cnns, "
   ]
  },
  {
   "cell_type": "markdown",
   "id": "5cab8b0f",
   "metadata": {
    "papermill": {
     "duration": 0.016372,
     "end_time": "2025-03-22T15:07:55.317958",
     "exception": false,
     "start_time": "2025-03-22T15:07:55.301586",
     "status": "completed"
    },
    "tags": []
   },
   "source": [
    "## Read train Images"
   ]
  },
  {
   "cell_type": "markdown",
   "id": "4363a9d8",
   "metadata": {
    "papermill": {
     "duration": 0.016886,
     "end_time": "2025-03-22T15:07:55.350931",
     "exception": false,
     "start_time": "2025-03-22T15:07:55.334045",
     "status": "completed"
    },
    "tags": []
   },
   "source": [
    "### Get images and resize them from the HDF5 file"
   ]
  },
  {
   "cell_type": "code",
   "execution_count": 6,
   "id": "6bd07d7e",
   "metadata": {
    "execution": {
     "iopub.execute_input": "2025-03-22T15:07:55.427115Z",
     "iopub.status.busy": "2025-03-22T15:07:55.426276Z",
     "iopub.status.idle": "2025-03-22T15:12:02.757269Z",
     "shell.execute_reply": "2025-03-22T15:12:02.756118Z"
    },
    "papermill": {
     "duration": 247.409238,
     "end_time": "2025-03-22T15:12:02.776899",
     "exception": false,
     "start_time": "2025-03-22T15:07:55.367661",
     "status": "completed"
    },
    "tags": []
   },
   "outputs": [
    {
     "name": "stdout",
     "output_type": "stream",
     "text": [
      "(401059, 2)\n"
     ]
    }
   ],
   "source": [
    "# Here we shall get the images and ids from the HDF5 file containing this stuff, also lets resize all the iamges while we are at it\n",
    "\n",
    "def load_image(id, f):\n",
    "    image_data = f[id][()]  # Extract the image data\n",
    "    return (id, image_data)\n",
    "\n",
    "# Initialize an empty list to store the data and we will put it in a df later\n",
    "training_image_data = []\n",
    "\n",
    "with h5py.File('/kaggle/input/isic-2024-challenge/train-image.hdf5', 'r') as f:\n",
    "    with concurrent.futures.ThreadPoolExecutor() as executor:\n",
    "        futures = [executor.submit(load_image, id, f) for id in f.keys()]\n",
    "        for future in concurrent.futures.as_completed(futures):\n",
    "            training_image_data.append(future.result())\n",
    "\n",
    "\n",
    "# Convert the list to a DataFrame\n",
    "training_image_data = pd.DataFrame(training_image_data, columns=['isic_id', 'image_data'])\n",
    "\n",
    "\n",
    "print(training_image_data.shape)\n"
   ]
  },
  {
   "cell_type": "markdown",
   "id": "c6ff4b83",
   "metadata": {
    "papermill": {
     "duration": 0.016067,
     "end_time": "2025-03-22T15:12:02.809860",
     "exception": false,
     "start_time": "2025-03-22T15:12:02.793793",
     "status": "completed"
    },
    "tags": []
   },
   "source": [
    "## SQL Query for ids"
   ]
  },
  {
   "cell_type": "markdown",
   "id": "6b0dc35d",
   "metadata": {
    "papermill": {
     "duration": 0.015776,
     "end_time": "2025-03-22T15:12:02.841647",
     "exception": false,
     "start_time": "2025-03-22T15:12:02.825871",
     "status": "completed"
    },
    "tags": []
   },
   "source": [
    "### SQL for training set 1"
   ]
  },
  {
   "cell_type": "code",
   "execution_count": 7,
   "id": "3d6ec78c",
   "metadata": {
    "execution": {
     "iopub.execute_input": "2025-03-22T15:12:02.876788Z",
     "iopub.status.busy": "2025-03-22T15:12:02.876424Z",
     "iopub.status.idle": "2025-03-22T15:12:05.373622Z",
     "shell.execute_reply": "2025-03-22T15:12:05.372751Z"
    },
    "papermill": {
     "duration": 2.516206,
     "end_time": "2025-03-22T15:12:05.375357",
     "exception": false,
     "start_time": "2025-03-22T15:12:02.859151",
     "status": "completed"
    },
    "tags": []
   },
   "outputs": [
    {
     "data": {
      "text/plain": [
       "(240792, 1)"
      ]
     },
     "execution_count": 7,
     "metadata": {},
     "output_type": "execute_result"
    }
   ],
   "source": [
    "\n",
    "# SQLITE so we shall collect only the ids which have meta data AND image data  \n",
    "\n",
    "conn = sqlite3.connect(':memory:')\n",
    "\n",
    "# Write the DataFrame to the SQLite database\n",
    "training_meta_data_1['isic_id'].to_sql('training_meta_data_1', conn, index=False, if_exists='replace')\n",
    "training_image_data['isic_id'].to_sql('training_image_data', conn, index=False, if_exists='replace')\n",
    "\n",
    "# Perform SQL queries\n",
    "query = \"\"\"\n",
    "SELECT p.isic_id\n",
    "FROM `training_meta_data_1` AS p \n",
    "INNER JOIN `training_image_data` AS o\n",
    "    ON p.isic_id = o.isic_id\n",
    "ORDER BY p.isic_id\n",
    "\"\"\"\n",
    "training_ids_1 = pd.read_sql_query(query, conn)\n",
    "\n",
    "# Lets sort all the ids in order so when we are creating training and val sets for meta/image data, the entries are matching and in order\n",
    "training_ids_1 = training_ids_1.sort_values(by='isic_id', ascending=False)\n",
    "\n",
    "# Display the result\n",
    "training_ids_1.shape\n"
   ]
  },
  {
   "cell_type": "markdown",
   "id": "857b5e93",
   "metadata": {
    "papermill": {
     "duration": 0.016012,
     "end_time": "2025-03-22T15:12:05.408151",
     "exception": false,
     "start_time": "2025-03-22T15:12:05.392139",
     "status": "completed"
    },
    "tags": []
   },
   "source": [
    "### SQL for XGBOOST 2 training set"
   ]
  },
  {
   "cell_type": "code",
   "execution_count": 8,
   "id": "48a3dafb",
   "metadata": {
    "execution": {
     "iopub.execute_input": "2025-03-22T15:12:05.442499Z",
     "iopub.status.busy": "2025-03-22T15:12:05.441791Z",
     "iopub.status.idle": "2025-03-22T15:12:05.445829Z",
     "shell.execute_reply": "2025-03-22T15:12:05.445096Z"
    },
    "papermill": {
     "duration": 0.022991,
     "end_time": "2025-03-22T15:12:05.447409",
     "exception": false,
     "start_time": "2025-03-22T15:12:05.424418",
     "status": "completed"
    },
    "tags": []
   },
   "outputs": [],
   "source": [
    "\n",
    "# # SQLITE so we shall collect only the ids which have meta data AND image data  \n",
    "\n",
    "# # Write the DataFrame to the SQLite database\n",
    "# training_meta_data_2['isic_id'].to_sql('training_meta_data_2', conn, index=False, if_exists='replace')\n",
    "# training_image_data['isic_id'].to_sql('training_image_data', conn, index=False, if_exists='replace')\n",
    "\n",
    "# # Perform SQL queries\n",
    "# query = \"\"\"\n",
    "# SELECT p.isic_id\n",
    "# FROM `training_meta_data_2` AS p \n",
    "# INNER JOIN `training_image_data` AS o\n",
    "#     ON p.isic_id = o.isic_id\n",
    "# ORDER BY p.isic_id\n",
    "# \"\"\"\n",
    "# training_ids_2 = pd.read_sql_query(query, conn)\n",
    "\n",
    "# # Lets sort all the ids in order so when we are creating training and val sets for meta/image data, the entries are matching and in order\n",
    "# training_ids_2 = training_ids_2.sort_values(by='isic_id', ascending=False)\n",
    "\n",
    "# # Display the result\n",
    "# training_ids_2.shape"
   ]
  },
  {
   "cell_type": "markdown",
   "id": "0d177e95",
   "metadata": {
    "papermill": {
     "duration": 0.015884,
     "end_time": "2025-03-22T15:12:05.479664",
     "exception": false,
     "start_time": "2025-03-22T15:12:05.463780",
     "status": "completed"
    },
    "tags": []
   },
   "source": [
    "### SQL for CNN 2 training set"
   ]
  },
  {
   "cell_type": "code",
   "execution_count": 9,
   "id": "08fc662b",
   "metadata": {
    "execution": {
     "iopub.execute_input": "2025-03-22T15:12:05.513554Z",
     "iopub.status.busy": "2025-03-22T15:12:05.513231Z",
     "iopub.status.idle": "2025-03-22T15:12:06.562873Z",
     "shell.execute_reply": "2025-03-22T15:12:06.561985Z"
    },
    "papermill": {
     "duration": 1.068742,
     "end_time": "2025-03-22T15:12:06.564809",
     "exception": false,
     "start_time": "2025-03-22T15:12:05.496067",
     "status": "completed"
    },
    "tags": []
   },
   "outputs": [
    {
     "data": {
      "text/plain": [
       "(40460, 1)"
      ]
     },
     "execution_count": 9,
     "metadata": {},
     "output_type": "execute_result"
    }
   ],
   "source": [
    "# SQLITE so we shall collect only the ids which have meta data AND image data  \n",
    "\n",
    "# Write the DataFrame to the SQLite database\n",
    "training_meta_data_3['isic_id'].to_sql('training_meta_data_3', conn, index=False, if_exists='replace')\n",
    "training_image_data['isic_id'].to_sql('training_image_data', conn, index=False, if_exists='replace')\n",
    "\n",
    "# Perform SQL queries\n",
    "query = \"\"\"\n",
    "SELECT p.isic_id\n",
    "FROM `training_meta_data_3` AS p \n",
    "INNER JOIN `training_image_data` AS o\n",
    "    ON p.isic_id = o.isic_id\n",
    "ORDER BY p.isic_id\n",
    "\"\"\"\n",
    "training_ids_3 = pd.read_sql_query(query, conn)\n",
    "\n",
    "# Lets sort all the ids in order so when we are creating training and val sets for meta/image data, the entries are matching and in order\n",
    "training_ids_3 = training_ids_3.sort_values(by='isic_id', ascending=False)\n",
    "\n",
    "# Display the result\n",
    "training_ids_3.shape"
   ]
  },
  {
   "cell_type": "markdown",
   "id": "413fdad6",
   "metadata": {
    "papermill": {
     "duration": 0.016018,
     "end_time": "2025-03-22T15:12:06.598614",
     "exception": false,
     "start_time": "2025-03-22T15:12:06.582596",
     "status": "completed"
    },
    "tags": []
   },
   "source": [
    "### SQL for final neural head training set"
   ]
  },
  {
   "cell_type": "code",
   "execution_count": 10,
   "id": "47c3a96d",
   "metadata": {
    "execution": {
     "iopub.execute_input": "2025-03-22T15:12:06.632245Z",
     "iopub.status.busy": "2025-03-22T15:12:06.631959Z",
     "iopub.status.idle": "2025-03-22T15:12:07.675958Z",
     "shell.execute_reply": "2025-03-22T15:12:07.674994Z"
    },
    "papermill": {
     "duration": 1.063145,
     "end_time": "2025-03-22T15:12:07.677992",
     "exception": false,
     "start_time": "2025-03-22T15:12:06.614847",
     "status": "completed"
    },
    "tags": []
   },
   "outputs": [
    {
     "data": {
      "text/plain": [
       "(40460, 1)"
      ]
     },
     "execution_count": 10,
     "metadata": {},
     "output_type": "execute_result"
    }
   ],
   "source": [
    "# SQLITE so we shall collect only the ids which have meta data AND image data  \n",
    "\n",
    "# Write the DataFrame to the SQLite database\n",
    "training_meta_data_5['isic_id'].to_sql('training_meta_data_5', conn, index=False, if_exists='replace')\n",
    "training_image_data['isic_id'].to_sql('training_image_data', conn, index=False, if_exists='replace')\n",
    "\n",
    "# Perform SQL queries\n",
    "query = \"\"\"\n",
    "SELECT p.isic_id\n",
    "FROM `training_meta_data_5` AS p \n",
    "INNER JOIN `training_image_data` AS o\n",
    "    ON p.isic_id = o.isic_id\n",
    "ORDER BY p.isic_id\n",
    "\"\"\"\n",
    "training_ids_5 = pd.read_sql_query(query, conn)\n",
    "\n",
    "# Lets sort all the ids in order so when we are creating training and val sets for meta/image data, the entries are matching and in order\n",
    "training_ids_5 = training_ids_5.sort_values(by='isic_id', ascending=False)\n",
    "\n",
    "# Display the result\n",
    "training_ids_5.shape"
   ]
  },
  {
   "cell_type": "markdown",
   "id": "43e5ca02",
   "metadata": {
    "papermill": {
     "duration": 0.016259,
     "end_time": "2025-03-22T15:12:07.711780",
     "exception": false,
     "start_time": "2025-03-22T15:12:07.695521",
     "status": "completed"
    },
    "tags": []
   },
   "source": [
    "Now we split training set 1 and 2 into thier training and val sets"
   ]
  },
  {
   "cell_type": "code",
   "execution_count": 11,
   "id": "e21e951d",
   "metadata": {
    "execution": {
     "iopub.execute_input": "2025-03-22T15:12:07.745472Z",
     "iopub.status.busy": "2025-03-22T15:12:07.745144Z",
     "iopub.status.idle": "2025-03-22T15:12:07.776631Z",
     "shell.execute_reply": "2025-03-22T15:12:07.775502Z"
    },
    "papermill": {
     "duration": 0.050534,
     "end_time": "2025-03-22T15:12:07.778510",
     "exception": false,
     "start_time": "2025-03-22T15:12:07.727976",
     "status": "completed"
    },
    "tags": []
   },
   "outputs": [
    {
     "name": "stdout",
     "output_type": "stream",
     "text": [
      "(192633,)\n",
      "(48159,)\n",
      "108576    ISIC_4557061\n",
      "40325     ISIC_1730971\n",
      "Name: isic_id, dtype: object\n"
     ]
    }
   ],
   "source": [
    "# This is where we split the ids into trainig and validation sets\n",
    "\n",
    "train_ids_1, val_ids_1 = train_test_split(training_ids_1['isic_id'], test_size=0.2, random_state=42)\n",
    "print(train_ids_1.shape) # training set of ids \n",
    "print(val_ids_1.shape) # Val set of ids\n",
    "print(train_ids_1.head(2)) # first two entries of training ids"
   ]
  },
  {
   "cell_type": "code",
   "execution_count": 12,
   "id": "11f93bd3",
   "metadata": {
    "execution": {
     "iopub.execute_input": "2025-03-22T15:12:07.817619Z",
     "iopub.status.busy": "2025-03-22T15:12:07.816850Z",
     "iopub.status.idle": "2025-03-22T15:12:07.826121Z",
     "shell.execute_reply": "2025-03-22T15:12:07.825170Z"
    },
    "papermill": {
     "duration": 0.030543,
     "end_time": "2025-03-22T15:12:07.827888",
     "exception": false,
     "start_time": "2025-03-22T15:12:07.797345",
     "status": "completed"
    },
    "tags": []
   },
   "outputs": [
    {
     "name": "stdout",
     "output_type": "stream",
     "text": [
      "(32368,)\n",
      "(8092,)\n",
      "8331    ISIC_2123434\n",
      "2396    ISIC_0669651\n",
      "Name: isic_id, dtype: object\n"
     ]
    }
   ],
   "source": [
    "\n",
    "train_ids_3, val_ids_3 = train_test_split(training_ids_3['isic_id'], test_size=0.2, random_state=42)\n",
    "print(train_ids_3.shape) # training set of ids \n",
    "print(val_ids_3.shape) # Val set of ids\n",
    "print(train_ids_3.head(2)) # first two entries of training ids"
   ]
  },
  {
   "cell_type": "code",
   "execution_count": 13,
   "id": "ee4a1f3d",
   "metadata": {
    "execution": {
     "iopub.execute_input": "2025-03-22T15:12:07.862065Z",
     "iopub.status.busy": "2025-03-22T15:12:07.861836Z",
     "iopub.status.idle": "2025-03-22T15:12:07.871190Z",
     "shell.execute_reply": "2025-03-22T15:12:07.870258Z"
    },
    "papermill": {
     "duration": 0.028083,
     "end_time": "2025-03-22T15:12:07.872931",
     "exception": false,
     "start_time": "2025-03-22T15:12:07.844848",
     "status": "completed"
    },
    "tags": []
   },
   "outputs": [
    {
     "name": "stdout",
     "output_type": "stream",
     "text": [
      "(32368,)\n",
      "(8092,)\n",
      "8331    ISIC_2122603\n",
      "2396    ISIC_0657164\n",
      "Name: isic_id, dtype: object\n"
     ]
    }
   ],
   "source": [
    "train_ids_5, val_ids_5 = train_test_split(training_ids_5['isic_id'], test_size=0.2, random_state=42)\n",
    "print(train_ids_5.shape) # training set of ids \n",
    "print(val_ids_5.shape) # Val set of ids\n",
    "print(train_ids_5.head(2)) # first two entries of training ids"
   ]
  },
  {
   "cell_type": "markdown",
   "id": "e16d70bc",
   "metadata": {
    "papermill": {
     "duration": 0.016192,
     "end_time": "2025-03-22T15:12:07.906385",
     "exception": false,
     "start_time": "2025-03-22T15:12:07.890193",
     "status": "completed"
    },
    "tags": []
   },
   "source": [
    "### Now we use the train and val ids to get the actual train and val entries, but SEPERATELY for both training set 1 and 2"
   ]
  },
  {
   "cell_type": "code",
   "execution_count": 14,
   "id": "83ebdb1d",
   "metadata": {
    "execution": {
     "iopub.execute_input": "2025-03-22T15:12:07.940817Z",
     "iopub.status.busy": "2025-03-22T15:12:07.940585Z",
     "iopub.status.idle": "2025-03-22T15:12:08.617273Z",
     "shell.execute_reply": "2025-03-22T15:12:08.616210Z"
    },
    "papermill": {
     "duration": 0.696072,
     "end_time": "2025-03-22T15:12:08.619197",
     "exception": false,
     "start_time": "2025-03-22T15:12:07.923125",
     "status": "completed"
    },
    "tags": []
   },
   "outputs": [
    {
     "name": "stdout",
     "output_type": "stream",
     "text": [
      "(192633, 55)\n",
      "(192633, 2)\n"
     ]
    }
   ],
   "source": [
    "# Use the split training and val id sets to split meta data and image data into training and validation sets)\n",
    "\n",
    "meta_train_1 = training_meta_data_1[training_meta_data_1['isic_id'].isin(train_ids_1)]  \n",
    "meta_val_1 = training_meta_data_1[training_meta_data_1['isic_id'].isin(val_ids_1)]\n",
    "image_train_1 = training_image_data[training_image_data['isic_id'].isin(train_ids_1)] \n",
    "image_val_1 = training_image_data[training_image_data['isic_id'].isin(val_ids_1)]\n",
    "print(meta_train_1.shape)\n",
    "print(image_train_1.shape)"
   ]
  },
  {
   "cell_type": "code",
   "execution_count": 15,
   "id": "92edbc80",
   "metadata": {
    "execution": {
     "iopub.execute_input": "2025-03-22T15:12:08.654021Z",
     "iopub.status.busy": "2025-03-22T15:12:08.653784Z",
     "iopub.status.idle": "2025-03-22T15:12:08.691149Z",
     "shell.execute_reply": "2025-03-22T15:12:08.690220Z"
    },
    "papermill": {
     "duration": 0.05619,
     "end_time": "2025-03-22T15:12:08.692760",
     "exception": false,
     "start_time": "2025-03-22T15:12:08.636570",
     "status": "completed"
    },
    "tags": []
   },
   "outputs": [
    {
     "name": "stdout",
     "output_type": "stream",
     "text": [
      "(32367, 55)\n"
     ]
    }
   ],
   "source": [
    "# Use the split training and val id sets to split meta data and image data into training and validation sets) wE DO NOT NEED IMAGE DATA FOR THIS ONE\n",
    "\n",
    "# meta_train_2 = training_meta_data_2[training_meta_data_2['isic_id'].isin(train_ids_2)]  \n",
    "# meta_val_2 = training_meta_data_2[training_meta_data_2['isic_id'].isin(val_ids_2)]\n",
    "# image_train_2 = training_image_data[training_image_data['isic_id'].isin(train_ids_2)]\n",
    "# image_val_2 = training_image_data[training_image_data['isic_id'].isin(val_ids_2)]\n",
    "\n",
    "meta_train_2, meta_val_2 = train_test_split(training_meta_data_2, test_size=0.2, random_state=42)\n",
    "\n",
    "print(meta_train_2.shape)\n",
    "# print(image_train_2.shape)"
   ]
  },
  {
   "cell_type": "code",
   "execution_count": 16,
   "id": "f19b2fcf",
   "metadata": {
    "execution": {
     "iopub.execute_input": "2025-03-22T15:12:08.727705Z",
     "iopub.status.busy": "2025-03-22T15:12:08.727157Z",
     "iopub.status.idle": "2025-03-22T15:12:08.904734Z",
     "shell.execute_reply": "2025-03-22T15:12:08.903884Z"
    },
    "papermill": {
     "duration": 0.196944,
     "end_time": "2025-03-22T15:12:08.906573",
     "exception": false,
     "start_time": "2025-03-22T15:12:08.709629",
     "status": "completed"
    },
    "tags": []
   },
   "outputs": [
    {
     "name": "stdout",
     "output_type": "stream",
     "text": [
      "(32368, 2)\n"
     ]
    }
   ],
   "source": [
    "# Use the split training and val id sets to split meta data and image data into training and validation sets) Still using meta data cos I use this to \n",
    "# retrieve the target\n",
    "\n",
    "meta_train_3 = training_meta_data_3[training_meta_data_3['isic_id'].isin(train_ids_3)]  \n",
    "meta_val_3 = training_meta_data_3[training_meta_data_3['isic_id'].isin(val_ids_3)]\n",
    "image_train_3 = training_image_data[training_image_data['isic_id'].isin(train_ids_3)]\n",
    "image_val_3 = training_image_data[training_image_data['isic_id'].isin(val_ids_3)]\n",
    "# print(meta_train_3.shape)\n",
    "print(image_train_3.shape)"
   ]
  },
  {
   "cell_type": "code",
   "execution_count": 17,
   "id": "5da25585",
   "metadata": {
    "execution": {
     "iopub.execute_input": "2025-03-22T15:12:08.942955Z",
     "iopub.status.busy": "2025-03-22T15:12:08.942261Z",
     "iopub.status.idle": "2025-03-22T15:12:08.982707Z",
     "shell.execute_reply": "2025-03-22T15:12:08.981782Z"
    },
    "papermill": {
     "duration": 0.060574,
     "end_time": "2025-03-22T15:12:08.984645",
     "exception": false,
     "start_time": "2025-03-22T15:12:08.924071",
     "status": "completed"
    },
    "tags": []
   },
   "outputs": [
    {
     "name": "stdout",
     "output_type": "stream",
     "text": [
      "(32368, 55)\n"
     ]
    }
   ],
   "source": [
    "meta_train_4, meta_val_4 = train_test_split(training_meta_data_4, test_size=0.2, random_state=42)\n",
    "\n",
    "print(meta_train_4.shape)\n",
    "# print(image_train_4.shape)"
   ]
  },
  {
   "cell_type": "code",
   "execution_count": 18,
   "id": "77e41157",
   "metadata": {
    "execution": {
     "iopub.execute_input": "2025-03-22T15:12:09.022940Z",
     "iopub.status.busy": "2025-03-22T15:12:09.022266Z",
     "iopub.status.idle": "2025-03-22T15:12:09.197316Z",
     "shell.execute_reply": "2025-03-22T15:12:09.196274Z"
    },
    "papermill": {
     "duration": 0.194555,
     "end_time": "2025-03-22T15:12:09.199112",
     "exception": false,
     "start_time": "2025-03-22T15:12:09.004557",
     "status": "completed"
    },
    "tags": []
   },
   "outputs": [
    {
     "name": "stdout",
     "output_type": "stream",
     "text": [
      "(32368, 55)\n",
      "(32368, 2)\n"
     ]
    }
   ],
   "source": [
    "meta_train_5 = training_meta_data_5[training_meta_data_5['isic_id'].isin(train_ids_5)]  \n",
    "meta_val_5 = training_meta_data_5[training_meta_data_5['isic_id'].isin(val_ids_5)]\n",
    "image_train_5 = training_image_data[training_image_data['isic_id'].isin(train_ids_5)] \n",
    "image_val_5 = training_image_data[training_image_data['isic_id'].isin(val_ids_5)]\n",
    "print(meta_train_5.shape)\n",
    "print(image_train_5.shape)"
   ]
  },
  {
   "cell_type": "code",
   "execution_count": 19,
   "id": "2e47eb94",
   "metadata": {
    "execution": {
     "iopub.execute_input": "2025-03-22T15:12:09.235798Z",
     "iopub.status.busy": "2025-03-22T15:12:09.235085Z",
     "iopub.status.idle": "2025-03-22T15:12:09.240622Z",
     "shell.execute_reply": "2025-03-22T15:12:09.239783Z"
    },
    "papermill": {
     "duration": 0.025386,
     "end_time": "2025-03-22T15:12:09.242389",
     "exception": false,
     "start_time": "2025-03-22T15:12:09.217003",
     "status": "completed"
    },
    "tags": []
   },
   "outputs": [
    {
     "name": "stdout",
     "output_type": "stream",
     "text": [
      "(192633, 55)\n",
      "(48159, 55)\n",
      "(192633, 2)\n",
      "(48159, 2)\n",
      "-------------------------------------\n",
      "(32367, 55)\n",
      "(8092, 55)\n",
      "-------------------------------------\n",
      "(32368, 2)\n",
      "(8092, 2)\n",
      "-------------------------------------\n",
      "(32368, 2)\n",
      "(8092, 2)\n"
     ]
    }
   ],
   "source": [
    "print(meta_train_1.shape) ## Now we can see yes it has been split into train and val sets, and the train and val sets should be identical \n",
    "print(meta_val_1.shape)\n",
    "print(image_train_1.shape)\n",
    "print(image_val_1.shape)\n",
    "print('-------------------------------------')\n",
    "print(meta_train_2.shape) \n",
    "print(meta_val_2.shape)\n",
    "print('-------------------------------------')\n",
    "print(image_train_3.shape)\n",
    "print(image_val_3.shape)\n",
    "print('-------------------------------------')\n",
    "print(image_train_5.shape)\n",
    "print(image_val_5.shape)"
   ]
  },
  {
   "cell_type": "markdown",
   "id": "f534598a",
   "metadata": {
    "papermill": {
     "duration": 0.016711,
     "end_time": "2025-03-22T15:12:09.276966",
     "exception": false,
     "start_time": "2025-03-22T15:12:09.260255",
     "status": "completed"
    },
    "tags": []
   },
   "source": [
    "## Feature Engineering of meta data"
   ]
  },
  {
   "cell_type": "code",
   "execution_count": 20,
   "id": "cf118da5",
   "metadata": {
    "execution": {
     "iopub.execute_input": "2025-03-22T15:12:09.311899Z",
     "iopub.status.busy": "2025-03-22T15:12:09.311649Z",
     "iopub.status.idle": "2025-03-22T15:12:09.392362Z",
     "shell.execute_reply": "2025-03-22T15:12:09.391368Z"
    },
    "papermill": {
     "duration": 0.100396,
     "end_time": "2025-03-22T15:12:09.394201",
     "exception": false,
     "start_time": "2025-03-22T15:12:09.293805",
     "status": "completed"
    },
    "tags": []
   },
   "outputs": [
    {
     "name": "stdout",
     "output_type": "stream",
     "text": [
      "done\n"
     ]
    }
   ],
   "source": [
    "# Features I want to mess with\n",
    "\n",
    "features = ['target','sex', 'age_approx','clin_size_long_diam_mm','tbp_tile_type','tbp_lv_A','tbp_lv_Aext','tbp_lv_B','tbp_lv_Bext',\n",
    "           'tbp_lv_C','tbp_lv_Cext','tbp_lv_H','tbp_lv_Hext','tbp_lv_L','tbp_lv_Lext','tbp_lv_areaMM2','tbp_lv_area_perim_ratio',\n",
    "            'tbp_lv_color_std_mean','tbp_lv_deltaA','tbp_lv_deltaB','tbp_lv_deltaL','tbp_lv_deltaLBnorm','tbp_lv_eccentricity',\n",
    "            'tbp_lv_location','tbp_lv_minorAxisMM','tbp_lv_nevi_confidence','tbp_lv_norm_border','tbp_lv_norm_color',\n",
    "            'tbp_lv_perimeterMM','tbp_lv_radial_color_std_max','tbp_lv_stdL','tbp_lv_stdLExt','tbp_lv_symm_2axis','tbp_lv_symm_2axis_angle',\n",
    "           'tbp_lv_x','tbp_lv_y','tbp_lv_z']\n",
    "\n",
    "meta_train_df_1 = meta_train_1[features]\n",
    "meta_val_df_1 = meta_val_1[features]\n",
    "#  Now for training set 2 (XGBOOST)\n",
    "meta_train_df_2 = meta_train_2[features]\n",
    "meta_val_df_2 = meta_val_2[features]\n",
    "#  Now for training set 4 (CATBOOST)\n",
    "meta_train_df_4 = meta_train_4[features]\n",
    "meta_val_df_4 = meta_val_4[features]\n",
    "#  Now for training set 5 (Final HEAD)\n",
    "meta_train_df_5 = meta_train_5[features]\n",
    "meta_val_df_5 = meta_val_5[features]\n",
    "print('done')"
   ]
  },
  {
   "cell_type": "code",
   "execution_count": 21,
   "id": "f0f8b95e",
   "metadata": {
    "execution": {
     "iopub.execute_input": "2025-03-22T15:12:09.431317Z",
     "iopub.status.busy": "2025-03-22T15:12:09.431076Z",
     "iopub.status.idle": "2025-03-22T15:12:09.435327Z",
     "shell.execute_reply": "2025-03-22T15:12:09.434423Z"
    },
    "papermill": {
     "duration": 0.023496,
     "end_time": "2025-03-22T15:12:09.436865",
     "exception": false,
     "start_time": "2025-03-22T15:12:09.413369",
     "status": "completed"
    },
    "tags": []
   },
   "outputs": [
    {
     "name": "stdout",
     "output_type": "stream",
     "text": [
      "(192633, 37)\n",
      "(48159, 37)\n"
     ]
    }
   ],
   "source": [
    "print(meta_train_df_1.shape)\n",
    "print(meta_val_df_1.shape)"
   ]
  },
  {
   "cell_type": "code",
   "execution_count": 22,
   "id": "5e5c2596",
   "metadata": {
    "execution": {
     "iopub.execute_input": "2025-03-22T15:12:09.472464Z",
     "iopub.status.busy": "2025-03-22T15:12:09.471991Z",
     "iopub.status.idle": "2025-03-22T15:12:09.476238Z",
     "shell.execute_reply": "2025-03-22T15:12:09.475471Z"
    },
    "papermill": {
     "duration": 0.023354,
     "end_time": "2025-03-22T15:12:09.477805",
     "exception": false,
     "start_time": "2025-03-22T15:12:09.454451",
     "status": "completed"
    },
    "tags": []
   },
   "outputs": [
    {
     "name": "stdout",
     "output_type": "stream",
     "text": [
      "(32367, 37)\n",
      "(8092, 37)\n"
     ]
    }
   ],
   "source": [
    "print(meta_train_df_2.shape)\n",
    "print(meta_val_df_2.shape)"
   ]
  },
  {
   "cell_type": "code",
   "execution_count": 23,
   "id": "afe3cf28",
   "metadata": {
    "execution": {
     "iopub.execute_input": "2025-03-22T15:12:09.512525Z",
     "iopub.status.busy": "2025-03-22T15:12:09.512273Z",
     "iopub.status.idle": "2025-03-22T15:12:09.516094Z",
     "shell.execute_reply": "2025-03-22T15:12:09.515359Z"
    },
    "papermill": {
     "duration": 0.022934,
     "end_time": "2025-03-22T15:12:09.517674",
     "exception": false,
     "start_time": "2025-03-22T15:12:09.494740",
     "status": "completed"
    },
    "tags": []
   },
   "outputs": [
    {
     "name": "stdout",
     "output_type": "stream",
     "text": [
      "(32368, 37)\n",
      "(8092, 37)\n"
     ]
    }
   ],
   "source": [
    "print(meta_train_df_4.shape)\n",
    "print(meta_val_df_4.shape)"
   ]
  },
  {
   "cell_type": "code",
   "execution_count": 24,
   "id": "b3ced68c",
   "metadata": {
    "execution": {
     "iopub.execute_input": "2025-03-22T15:12:09.553566Z",
     "iopub.status.busy": "2025-03-22T15:12:09.553281Z",
     "iopub.status.idle": "2025-03-22T15:12:09.557239Z",
     "shell.execute_reply": "2025-03-22T15:12:09.556484Z"
    },
    "papermill": {
     "duration": 0.023454,
     "end_time": "2025-03-22T15:12:09.558942",
     "exception": false,
     "start_time": "2025-03-22T15:12:09.535488",
     "status": "completed"
    },
    "tags": []
   },
   "outputs": [
    {
     "name": "stdout",
     "output_type": "stream",
     "text": [
      "(32368, 37)\n",
      "(8092, 37)\n"
     ]
    }
   ],
   "source": [
    "print(meta_train_df_5.shape)\n",
    "print(meta_val_df_5.shape)"
   ]
  },
  {
   "cell_type": "markdown",
   "id": "6caf2e0c",
   "metadata": {
    "papermill": {
     "duration": 0.016717,
     "end_time": "2025-03-22T15:12:09.593480",
     "exception": false,
     "start_time": "2025-03-22T15:12:09.576763",
     "status": "completed"
    },
    "tags": []
   },
   "source": [
    "### Feature engineering function to modify features in train and val sets"
   ]
  },
  {
   "cell_type": "code",
   "execution_count": 25,
   "id": "d4a69c19",
   "metadata": {
    "execution": {
     "iopub.execute_input": "2025-03-22T15:12:09.629007Z",
     "iopub.status.busy": "2025-03-22T15:12:09.628304Z",
     "iopub.status.idle": "2025-03-22T15:12:09.935791Z",
     "shell.execute_reply": "2025-03-22T15:12:09.935077Z"
    },
    "papermill": {
     "duration": 0.327433,
     "end_time": "2025-03-22T15:12:09.937762",
     "exception": false,
     "start_time": "2025-03-22T15:12:09.610329",
     "status": "completed"
    },
    "tags": []
   },
   "outputs": [
    {
     "name": "stdout",
     "output_type": "stream",
     "text": [
      "done\n"
     ]
    },
    {
     "name": "stderr",
     "output_type": "stream",
     "text": [
      "/tmp/ipykernel_24/894760655.py:6: FutureWarning: A value is trying to be set on a copy of a DataFrame or Series through chained assignment using an inplace method.\n",
      "The behavior will change in pandas 3.0. This inplace method will never work because the intermediate object on which we are setting values always behaves as a copy.\n",
      "\n",
      "For example, when doing 'df[col].method(value, inplace=True)', try using 'df.method({col: value}, inplace=True)' or df[col] = df[col].method(value) instead, to perform the operation inplace on the original object.\n",
      "\n",
      "\n",
      "  dataset['sex'].fillna('Unknown', inplace=True) # Fill nan sex with unknown\n",
      "/tmp/ipykernel_24/894760655.py:6: SettingWithCopyWarning: \n",
      "A value is trying to be set on a copy of a slice from a DataFrame\n",
      "\n",
      "See the caveats in the documentation: https://pandas.pydata.org/pandas-docs/stable/user_guide/indexing.html#returning-a-view-versus-a-copy\n",
      "  dataset['sex'].fillna('Unknown', inplace=True) # Fill nan sex with unknown\n",
      "/tmp/ipykernel_24/894760655.py:7: FutureWarning: A value is trying to be set on a copy of a DataFrame or Series through chained assignment using an inplace method.\n",
      "The behavior will change in pandas 3.0. This inplace method will never work because the intermediate object on which we are setting values always behaves as a copy.\n",
      "\n",
      "For example, when doing 'df[col].method(value, inplace=True)', try using 'df.method({col: value}, inplace=True)' or df[col] = df[col].method(value) instead, to perform the operation inplace on the original object.\n",
      "\n",
      "\n",
      "  dataset['age_approx'].fillna(dataset['age_approx'].mean(), inplace=True) # Fill unknown ages with mean age\n",
      "/tmp/ipykernel_24/894760655.py:7: SettingWithCopyWarning: \n",
      "A value is trying to be set on a copy of a slice from a DataFrame\n",
      "\n",
      "See the caveats in the documentation: https://pandas.pydata.org/pandas-docs/stable/user_guide/indexing.html#returning-a-view-versus-a-copy\n",
      "  dataset['age_approx'].fillna(dataset['age_approx'].mean(), inplace=True) # Fill unknown ages with mean age\n"
     ]
    }
   ],
   "source": [
    "\n",
    "## This shall edit the features the same way in both training and validation sets\n",
    "\n",
    "\n",
    "def feature_engineer(dataset, training_columns=None):\n",
    "    # Fill NaN values with a placeholder\n",
    "    dataset['sex'].fillna('Unknown', inplace=True) # Fill nan sex with unknown\n",
    "    dataset['age_approx'].fillna(dataset['age_approx'].mean(), inplace=True) # Fill unknown ages with mean age \n",
    "\n",
    "    \n",
    "    columns = ['sex', 'tbp_tile_type', 'tbp_lv_location']  # Columns to be one-hot encoded\n",
    "    dataset = pd.get_dummies(dataset, columns=columns)\n",
    "    \n",
    "     # Normalize all columns except the target AND one hot encoded columns (Dont want to affect the one hot encoded ones)\n",
    "    target_col = 'target'  # Replace with your actual target column name\n",
    "    feature_cols = [col for col in dataset.columns if col != target_col and dataset[col].dtype != 'bool']\n",
    "    scaler = MinMaxScaler()\n",
    "    dataset[feature_cols] = scaler.fit_transform(dataset[feature_cols])\n",
    "    \n",
    "    # For all one hot encoded columns, turn into binary columns\n",
    "    for column in dataset.select_dtypes(include=['bool']).columns: \n",
    "        dataset[column] = dataset[column].astype(int)\n",
    "\n",
    "    \n",
    "    # Just making sure this is int type    \n",
    "    dataset['age_approx'] = dataset['age_approx'].astype(int) # Convert ages into int types\n",
    "    \n",
    "    # If training_columns is provided, reindex the dataset to ensure it has the same columns\n",
    "    if training_columns is not None:\n",
    "        dataset = dataset.reindex(columns=training_columns, fill_value=0)\n",
    "        \n",
    "    \n",
    "    return dataset\n",
    "\n",
    "print('done')\n",
    "\n",
    "training_columns = feature_engineer(meta_train_1[features]).columns\n"
   ]
  },
  {
   "cell_type": "code",
   "execution_count": 26,
   "id": "61889360",
   "metadata": {
    "execution": {
     "iopub.execute_input": "2025-03-22T15:12:09.974213Z",
     "iopub.status.busy": "2025-03-22T15:12:09.973906Z",
     "iopub.status.idle": "2025-03-22T15:12:10.671529Z",
     "shell.execute_reply": "2025-03-22T15:12:10.670589Z"
    },
    "papermill": {
     "duration": 0.717984,
     "end_time": "2025-03-22T15:12:10.673763",
     "exception": false,
     "start_time": "2025-03-22T15:12:09.955779",
     "status": "completed"
    },
    "tags": []
   },
   "outputs": [
    {
     "name": "stderr",
     "output_type": "stream",
     "text": [
      "/tmp/ipykernel_24/894760655.py:6: FutureWarning: A value is trying to be set on a copy of a DataFrame or Series through chained assignment using an inplace method.\n",
      "The behavior will change in pandas 3.0. This inplace method will never work because the intermediate object on which we are setting values always behaves as a copy.\n",
      "\n",
      "For example, when doing 'df[col].method(value, inplace=True)', try using 'df.method({col: value}, inplace=True)' or df[col] = df[col].method(value) instead, to perform the operation inplace on the original object.\n",
      "\n",
      "\n",
      "  dataset['sex'].fillna('Unknown', inplace=True) # Fill nan sex with unknown\n",
      "/tmp/ipykernel_24/894760655.py:6: SettingWithCopyWarning: \n",
      "A value is trying to be set on a copy of a slice from a DataFrame\n",
      "\n",
      "See the caveats in the documentation: https://pandas.pydata.org/pandas-docs/stable/user_guide/indexing.html#returning-a-view-versus-a-copy\n",
      "  dataset['sex'].fillna('Unknown', inplace=True) # Fill nan sex with unknown\n",
      "/tmp/ipykernel_24/894760655.py:7: FutureWarning: A value is trying to be set on a copy of a DataFrame or Series through chained assignment using an inplace method.\n",
      "The behavior will change in pandas 3.0. This inplace method will never work because the intermediate object on which we are setting values always behaves as a copy.\n",
      "\n",
      "For example, when doing 'df[col].method(value, inplace=True)', try using 'df.method({col: value}, inplace=True)' or df[col] = df[col].method(value) instead, to perform the operation inplace on the original object.\n",
      "\n",
      "\n",
      "  dataset['age_approx'].fillna(dataset['age_approx'].mean(), inplace=True) # Fill unknown ages with mean age\n",
      "/tmp/ipykernel_24/894760655.py:7: SettingWithCopyWarning: \n",
      "A value is trying to be set on a copy of a slice from a DataFrame\n",
      "\n",
      "See the caveats in the documentation: https://pandas.pydata.org/pandas-docs/stable/user_guide/indexing.html#returning-a-view-versus-a-copy\n",
      "  dataset['age_approx'].fillna(dataset['age_approx'].mean(), inplace=True) # Fill unknown ages with mean age\n",
      "/tmp/ipykernel_24/894760655.py:6: FutureWarning: A value is trying to be set on a copy of a DataFrame or Series through chained assignment using an inplace method.\n",
      "The behavior will change in pandas 3.0. This inplace method will never work because the intermediate object on which we are setting values always behaves as a copy.\n",
      "\n",
      "For example, when doing 'df[col].method(value, inplace=True)', try using 'df.method({col: value}, inplace=True)' or df[col] = df[col].method(value) instead, to perform the operation inplace on the original object.\n",
      "\n",
      "\n",
      "  dataset['sex'].fillna('Unknown', inplace=True) # Fill nan sex with unknown\n",
      "/tmp/ipykernel_24/894760655.py:6: SettingWithCopyWarning: \n",
      "A value is trying to be set on a copy of a slice from a DataFrame\n",
      "\n",
      "See the caveats in the documentation: https://pandas.pydata.org/pandas-docs/stable/user_guide/indexing.html#returning-a-view-versus-a-copy\n",
      "  dataset['sex'].fillna('Unknown', inplace=True) # Fill nan sex with unknown\n",
      "/tmp/ipykernel_24/894760655.py:7: FutureWarning: A value is trying to be set on a copy of a DataFrame or Series through chained assignment using an inplace method.\n",
      "The behavior will change in pandas 3.0. This inplace method will never work because the intermediate object on which we are setting values always behaves as a copy.\n",
      "\n",
      "For example, when doing 'df[col].method(value, inplace=True)', try using 'df.method({col: value}, inplace=True)' or df[col] = df[col].method(value) instead, to perform the operation inplace on the original object.\n",
      "\n",
      "\n",
      "  dataset['age_approx'].fillna(dataset['age_approx'].mean(), inplace=True) # Fill unknown ages with mean age\n",
      "/tmp/ipykernel_24/894760655.py:7: SettingWithCopyWarning: \n",
      "A value is trying to be set on a copy of a slice from a DataFrame\n",
      "\n",
      "See the caveats in the documentation: https://pandas.pydata.org/pandas-docs/stable/user_guide/indexing.html#returning-a-view-versus-a-copy\n",
      "  dataset['age_approx'].fillna(dataset['age_approx'].mean(), inplace=True) # Fill unknown ages with mean age\n",
      "/tmp/ipykernel_24/894760655.py:6: FutureWarning: A value is trying to be set on a copy of a DataFrame or Series through chained assignment using an inplace method.\n",
      "The behavior will change in pandas 3.0. This inplace method will never work because the intermediate object on which we are setting values always behaves as a copy.\n",
      "\n",
      "For example, when doing 'df[col].method(value, inplace=True)', try using 'df.method({col: value}, inplace=True)' or df[col] = df[col].method(value) instead, to perform the operation inplace on the original object.\n",
      "\n",
      "\n",
      "  dataset['sex'].fillna('Unknown', inplace=True) # Fill nan sex with unknown\n",
      "/tmp/ipykernel_24/894760655.py:6: SettingWithCopyWarning: \n",
      "A value is trying to be set on a copy of a slice from a DataFrame\n",
      "\n",
      "See the caveats in the documentation: https://pandas.pydata.org/pandas-docs/stable/user_guide/indexing.html#returning-a-view-versus-a-copy\n",
      "  dataset['sex'].fillna('Unknown', inplace=True) # Fill nan sex with unknown\n",
      "/tmp/ipykernel_24/894760655.py:7: FutureWarning: A value is trying to be set on a copy of a DataFrame or Series through chained assignment using an inplace method.\n",
      "The behavior will change in pandas 3.0. This inplace method will never work because the intermediate object on which we are setting values always behaves as a copy.\n",
      "\n",
      "For example, when doing 'df[col].method(value, inplace=True)', try using 'df.method({col: value}, inplace=True)' or df[col] = df[col].method(value) instead, to perform the operation inplace on the original object.\n",
      "\n",
      "\n",
      "  dataset['age_approx'].fillna(dataset['age_approx'].mean(), inplace=True) # Fill unknown ages with mean age\n",
      "/tmp/ipykernel_24/894760655.py:7: SettingWithCopyWarning: \n",
      "A value is trying to be set on a copy of a slice from a DataFrame\n",
      "\n",
      "See the caveats in the documentation: https://pandas.pydata.org/pandas-docs/stable/user_guide/indexing.html#returning-a-view-versus-a-copy\n",
      "  dataset['age_approx'].fillna(dataset['age_approx'].mean(), inplace=True) # Fill unknown ages with mean age\n",
      "/tmp/ipykernel_24/894760655.py:6: FutureWarning: A value is trying to be set on a copy of a DataFrame or Series through chained assignment using an inplace method.\n",
      "The behavior will change in pandas 3.0. This inplace method will never work because the intermediate object on which we are setting values always behaves as a copy.\n",
      "\n",
      "For example, when doing 'df[col].method(value, inplace=True)', try using 'df.method({col: value}, inplace=True)' or df[col] = df[col].method(value) instead, to perform the operation inplace on the original object.\n",
      "\n",
      "\n",
      "  dataset['sex'].fillna('Unknown', inplace=True) # Fill nan sex with unknown\n",
      "/tmp/ipykernel_24/894760655.py:6: SettingWithCopyWarning: \n",
      "A value is trying to be set on a copy of a slice from a DataFrame\n",
      "\n",
      "See the caveats in the documentation: https://pandas.pydata.org/pandas-docs/stable/user_guide/indexing.html#returning-a-view-versus-a-copy\n",
      "  dataset['sex'].fillna('Unknown', inplace=True) # Fill nan sex with unknown\n",
      "/tmp/ipykernel_24/894760655.py:7: FutureWarning: A value is trying to be set on a copy of a DataFrame or Series through chained assignment using an inplace method.\n",
      "The behavior will change in pandas 3.0. This inplace method will never work because the intermediate object on which we are setting values always behaves as a copy.\n",
      "\n",
      "For example, when doing 'df[col].method(value, inplace=True)', try using 'df.method({col: value}, inplace=True)' or df[col] = df[col].method(value) instead, to perform the operation inplace on the original object.\n",
      "\n",
      "\n",
      "  dataset['age_approx'].fillna(dataset['age_approx'].mean(), inplace=True) # Fill unknown ages with mean age\n",
      "/tmp/ipykernel_24/894760655.py:7: SettingWithCopyWarning: \n",
      "A value is trying to be set on a copy of a slice from a DataFrame\n",
      "\n",
      "See the caveats in the documentation: https://pandas.pydata.org/pandas-docs/stable/user_guide/indexing.html#returning-a-view-versus-a-copy\n",
      "  dataset['age_approx'].fillna(dataset['age_approx'].mean(), inplace=True) # Fill unknown ages with mean age\n",
      "/tmp/ipykernel_24/894760655.py:6: FutureWarning: A value is trying to be set on a copy of a DataFrame or Series through chained assignment using an inplace method.\n",
      "The behavior will change in pandas 3.0. This inplace method will never work because the intermediate object on which we are setting values always behaves as a copy.\n",
      "\n",
      "For example, when doing 'df[col].method(value, inplace=True)', try using 'df.method({col: value}, inplace=True)' or df[col] = df[col].method(value) instead, to perform the operation inplace on the original object.\n",
      "\n",
      "\n",
      "  dataset['sex'].fillna('Unknown', inplace=True) # Fill nan sex with unknown\n",
      "/tmp/ipykernel_24/894760655.py:6: SettingWithCopyWarning: \n",
      "A value is trying to be set on a copy of a slice from a DataFrame\n",
      "\n",
      "See the caveats in the documentation: https://pandas.pydata.org/pandas-docs/stable/user_guide/indexing.html#returning-a-view-versus-a-copy\n",
      "  dataset['sex'].fillna('Unknown', inplace=True) # Fill nan sex with unknown\n",
      "/tmp/ipykernel_24/894760655.py:7: FutureWarning: A value is trying to be set on a copy of a DataFrame or Series through chained assignment using an inplace method.\n",
      "The behavior will change in pandas 3.0. This inplace method will never work because the intermediate object on which we are setting values always behaves as a copy.\n",
      "\n",
      "For example, when doing 'df[col].method(value, inplace=True)', try using 'df.method({col: value}, inplace=True)' or df[col] = df[col].method(value) instead, to perform the operation inplace on the original object.\n",
      "\n",
      "\n",
      "  dataset['age_approx'].fillna(dataset['age_approx'].mean(), inplace=True) # Fill unknown ages with mean age\n",
      "/tmp/ipykernel_24/894760655.py:7: SettingWithCopyWarning: \n",
      "A value is trying to be set on a copy of a slice from a DataFrame\n",
      "\n",
      "See the caveats in the documentation: https://pandas.pydata.org/pandas-docs/stable/user_guide/indexing.html#returning-a-view-versus-a-copy\n",
      "  dataset['age_approx'].fillna(dataset['age_approx'].mean(), inplace=True) # Fill unknown ages with mean age\n",
      "/tmp/ipykernel_24/894760655.py:6: FutureWarning: A value is trying to be set on a copy of a DataFrame or Series through chained assignment using an inplace method.\n",
      "The behavior will change in pandas 3.0. This inplace method will never work because the intermediate object on which we are setting values always behaves as a copy.\n",
      "\n",
      "For example, when doing 'df[col].method(value, inplace=True)', try using 'df.method({col: value}, inplace=True)' or df[col] = df[col].method(value) instead, to perform the operation inplace on the original object.\n",
      "\n",
      "\n",
      "  dataset['sex'].fillna('Unknown', inplace=True) # Fill nan sex with unknown\n",
      "/tmp/ipykernel_24/894760655.py:6: SettingWithCopyWarning: \n",
      "A value is trying to be set on a copy of a slice from a DataFrame\n",
      "\n",
      "See the caveats in the documentation: https://pandas.pydata.org/pandas-docs/stable/user_guide/indexing.html#returning-a-view-versus-a-copy\n",
      "  dataset['sex'].fillna('Unknown', inplace=True) # Fill nan sex with unknown\n",
      "/tmp/ipykernel_24/894760655.py:7: FutureWarning: A value is trying to be set on a copy of a DataFrame or Series through chained assignment using an inplace method.\n",
      "The behavior will change in pandas 3.0. This inplace method will never work because the intermediate object on which we are setting values always behaves as a copy.\n",
      "\n",
      "For example, when doing 'df[col].method(value, inplace=True)', try using 'df.method({col: value}, inplace=True)' or df[col] = df[col].method(value) instead, to perform the operation inplace on the original object.\n",
      "\n",
      "\n",
      "  dataset['age_approx'].fillna(dataset['age_approx'].mean(), inplace=True) # Fill unknown ages with mean age\n",
      "/tmp/ipykernel_24/894760655.py:7: SettingWithCopyWarning: \n",
      "A value is trying to be set on a copy of a slice from a DataFrame\n",
      "\n",
      "See the caveats in the documentation: https://pandas.pydata.org/pandas-docs/stable/user_guide/indexing.html#returning-a-view-versus-a-copy\n",
      "  dataset['age_approx'].fillna(dataset['age_approx'].mean(), inplace=True) # Fill unknown ages with mean age\n",
      "/tmp/ipykernel_24/894760655.py:6: FutureWarning: A value is trying to be set on a copy of a DataFrame or Series through chained assignment using an inplace method.\n",
      "The behavior will change in pandas 3.0. This inplace method will never work because the intermediate object on which we are setting values always behaves as a copy.\n",
      "\n",
      "For example, when doing 'df[col].method(value, inplace=True)', try using 'df.method({col: value}, inplace=True)' or df[col] = df[col].method(value) instead, to perform the operation inplace on the original object.\n",
      "\n",
      "\n",
      "  dataset['sex'].fillna('Unknown', inplace=True) # Fill nan sex with unknown\n",
      "/tmp/ipykernel_24/894760655.py:6: SettingWithCopyWarning: \n",
      "A value is trying to be set on a copy of a slice from a DataFrame\n",
      "\n",
      "See the caveats in the documentation: https://pandas.pydata.org/pandas-docs/stable/user_guide/indexing.html#returning-a-view-versus-a-copy\n",
      "  dataset['sex'].fillna('Unknown', inplace=True) # Fill nan sex with unknown\n",
      "/tmp/ipykernel_24/894760655.py:7: FutureWarning: A value is trying to be set on a copy of a DataFrame or Series through chained assignment using an inplace method.\n",
      "The behavior will change in pandas 3.0. This inplace method will never work because the intermediate object on which we are setting values always behaves as a copy.\n",
      "\n",
      "For example, when doing 'df[col].method(value, inplace=True)', try using 'df.method({col: value}, inplace=True)' or df[col] = df[col].method(value) instead, to perform the operation inplace on the original object.\n",
      "\n",
      "\n",
      "  dataset['age_approx'].fillna(dataset['age_approx'].mean(), inplace=True) # Fill unknown ages with mean age\n",
      "/tmp/ipykernel_24/894760655.py:7: SettingWithCopyWarning: \n",
      "A value is trying to be set on a copy of a slice from a DataFrame\n",
      "\n",
      "See the caveats in the documentation: https://pandas.pydata.org/pandas-docs/stable/user_guide/indexing.html#returning-a-view-versus-a-copy\n",
      "  dataset['age_approx'].fillna(dataset['age_approx'].mean(), inplace=True) # Fill unknown ages with mean age\n",
      "/tmp/ipykernel_24/894760655.py:6: FutureWarning: A value is trying to be set on a copy of a DataFrame or Series through chained assignment using an inplace method.\n",
      "The behavior will change in pandas 3.0. This inplace method will never work because the intermediate object on which we are setting values always behaves as a copy.\n",
      "\n",
      "For example, when doing 'df[col].method(value, inplace=True)', try using 'df.method({col: value}, inplace=True)' or df[col] = df[col].method(value) instead, to perform the operation inplace on the original object.\n",
      "\n",
      "\n",
      "  dataset['sex'].fillna('Unknown', inplace=True) # Fill nan sex with unknown\n",
      "/tmp/ipykernel_24/894760655.py:6: SettingWithCopyWarning: \n",
      "A value is trying to be set on a copy of a slice from a DataFrame\n",
      "\n",
      "See the caveats in the documentation: https://pandas.pydata.org/pandas-docs/stable/user_guide/indexing.html#returning-a-view-versus-a-copy\n",
      "  dataset['sex'].fillna('Unknown', inplace=True) # Fill nan sex with unknown\n",
      "/tmp/ipykernel_24/894760655.py:7: FutureWarning: A value is trying to be set on a copy of a DataFrame or Series through chained assignment using an inplace method.\n",
      "The behavior will change in pandas 3.0. This inplace method will never work because the intermediate object on which we are setting values always behaves as a copy.\n",
      "\n",
      "For example, when doing 'df[col].method(value, inplace=True)', try using 'df.method({col: value}, inplace=True)' or df[col] = df[col].method(value) instead, to perform the operation inplace on the original object.\n",
      "\n",
      "\n",
      "  dataset['age_approx'].fillna(dataset['age_approx'].mean(), inplace=True) # Fill unknown ages with mean age\n",
      "/tmp/ipykernel_24/894760655.py:7: SettingWithCopyWarning: \n",
      "A value is trying to be set on a copy of a slice from a DataFrame\n",
      "\n",
      "See the caveats in the documentation: https://pandas.pydata.org/pandas-docs/stable/user_guide/indexing.html#returning-a-view-versus-a-copy\n",
      "  dataset['age_approx'].fillna(dataset['age_approx'].mean(), inplace=True) # Fill unknown ages with mean age\n"
     ]
    }
   ],
   "source": [
    "\n",
    "meta_train_df_1 = feature_engineer(meta_train_df_1, training_columns=training_columns)\n",
    "meta_val_df_1 = feature_engineer(meta_val_df_1, training_columns=training_columns)\n",
    "#  Also for training set 2 (XGBOOST)\n",
    "meta_train_df_2 = feature_engineer(meta_train_df_2, training_columns=training_columns)\n",
    "meta_val_df_2 = feature_engineer(meta_val_df_2, training_columns=training_columns)\n",
    "#  Also for training set 4 (CATBOOST)\n",
    "meta_train_df_4 = feature_engineer(meta_train_df_4, training_columns=training_columns)\n",
    "meta_val_df_4 = feature_engineer(meta_val_df_4, training_columns=training_columns)\n",
    "#  Also for training set 4 (Final HEAD)\n",
    "meta_train_df_5 = feature_engineer(meta_train_df_5, training_columns=training_columns)\n",
    "meta_val_df_5 = feature_engineer(meta_val_df_5, training_columns=training_columns)"
   ]
  },
  {
   "cell_type": "code",
   "execution_count": 27,
   "id": "4c483d0c",
   "metadata": {
    "execution": {
     "iopub.execute_input": "2025-03-22T15:12:10.712094Z",
     "iopub.status.busy": "2025-03-22T15:12:10.711817Z",
     "iopub.status.idle": "2025-03-22T15:12:10.717130Z",
     "shell.execute_reply": "2025-03-22T15:12:10.716245Z"
    },
    "papermill": {
     "duration": 0.025173,
     "end_time": "2025-03-22T15:12:10.718771",
     "exception": false,
     "start_time": "2025-03-22T15:12:10.693598",
     "status": "completed"
    },
    "tags": []
   },
   "outputs": [
    {
     "name": "stdout",
     "output_type": "stream",
     "text": [
      "(192633, 60)\n",
      "(48159, 60)\n",
      "---------------\n",
      "(32367, 60)\n",
      "(8092, 60)\n",
      "---------------\n",
      "(32368, 60)\n",
      "(8092, 60)\n",
      "---------------\n",
      "(32368, 60)\n",
      "(8092, 60)\n"
     ]
    }
   ],
   "source": [
    "print(meta_train_df_1.shape) # We can see yes the split train and validation sets are still split, and have more columns\n",
    "print(meta_val_df_1.shape)\n",
    "print('---------------')\n",
    "print(meta_train_df_2.shape) # XGBOOST\n",
    "print(meta_val_df_2.shape)\n",
    "print('---------------')\n",
    "print(meta_train_df_4.shape) # CATBOOST\n",
    "print(meta_val_df_4.shape)\n",
    "print('---------------')\n",
    "print(meta_train_df_5.shape) # Final HEAD\n",
    "print(meta_val_df_5.shape)"
   ]
  },
  {
   "cell_type": "code",
   "execution_count": 28,
   "id": "8ba60cb3",
   "metadata": {
    "execution": {
     "iopub.execute_input": "2025-03-22T15:12:10.754826Z",
     "iopub.status.busy": "2025-03-22T15:12:10.754572Z",
     "iopub.status.idle": "2025-03-22T15:12:10.779634Z",
     "shell.execute_reply": "2025-03-22T15:12:10.778863Z"
    },
    "papermill": {
     "duration": 0.045027,
     "end_time": "2025-03-22T15:12:10.781294",
     "exception": false,
     "start_time": "2025-03-22T15:12:10.736267",
     "status": "completed"
    },
    "tags": []
   },
   "outputs": [
    {
     "data": {
      "text/html": [
       "<div>\n",
       "<style scoped>\n",
       "    .dataframe tbody tr th:only-of-type {\n",
       "        vertical-align: middle;\n",
       "    }\n",
       "\n",
       "    .dataframe tbody tr th {\n",
       "        vertical-align: top;\n",
       "    }\n",
       "\n",
       "    .dataframe thead th {\n",
       "        text-align: right;\n",
       "    }\n",
       "</style>\n",
       "<table border=\"1\" class=\"dataframe\">\n",
       "  <thead>\n",
       "    <tr style=\"text-align: right;\">\n",
       "      <th></th>\n",
       "      <th>target</th>\n",
       "      <th>age_approx</th>\n",
       "      <th>clin_size_long_diam_mm</th>\n",
       "      <th>tbp_lv_A</th>\n",
       "      <th>tbp_lv_Aext</th>\n",
       "      <th>tbp_lv_B</th>\n",
       "      <th>tbp_lv_Bext</th>\n",
       "      <th>tbp_lv_C</th>\n",
       "      <th>tbp_lv_Cext</th>\n",
       "      <th>tbp_lv_H</th>\n",
       "      <th>tbp_lv_Hext</th>\n",
       "      <th>tbp_lv_L</th>\n",
       "      <th>tbp_lv_Lext</th>\n",
       "      <th>tbp_lv_areaMM2</th>\n",
       "      <th>tbp_lv_area_perim_ratio</th>\n",
       "      <th>tbp_lv_color_std_mean</th>\n",
       "      <th>tbp_lv_deltaA</th>\n",
       "      <th>tbp_lv_deltaB</th>\n",
       "      <th>tbp_lv_deltaL</th>\n",
       "      <th>tbp_lv_deltaLBnorm</th>\n",
       "      <th>tbp_lv_eccentricity</th>\n",
       "      <th>tbp_lv_minorAxisMM</th>\n",
       "      <th>tbp_lv_nevi_confidence</th>\n",
       "      <th>tbp_lv_norm_border</th>\n",
       "      <th>tbp_lv_norm_color</th>\n",
       "      <th>tbp_lv_perimeterMM</th>\n",
       "      <th>tbp_lv_radial_color_std_max</th>\n",
       "      <th>tbp_lv_stdL</th>\n",
       "      <th>tbp_lv_stdLExt</th>\n",
       "      <th>tbp_lv_symm_2axis</th>\n",
       "      <th>tbp_lv_symm_2axis_angle</th>\n",
       "      <th>tbp_lv_x</th>\n",
       "      <th>tbp_lv_y</th>\n",
       "      <th>tbp_lv_z</th>\n",
       "      <th>sex_Unknown</th>\n",
       "      <th>sex_female</th>\n",
       "      <th>sex_male</th>\n",
       "      <th>tbp_tile_type_3D: XP</th>\n",
       "      <th>tbp_tile_type_3D: white</th>\n",
       "      <th>tbp_lv_location_Head &amp; Neck</th>\n",
       "      <th>tbp_lv_location_Left Arm</th>\n",
       "      <th>tbp_lv_location_Left Arm - Lower</th>\n",
       "      <th>tbp_lv_location_Left Arm - Upper</th>\n",
       "      <th>tbp_lv_location_Left Leg</th>\n",
       "      <th>tbp_lv_location_Left Leg - Lower</th>\n",
       "      <th>tbp_lv_location_Left Leg - Upper</th>\n",
       "      <th>tbp_lv_location_Right Arm</th>\n",
       "      <th>tbp_lv_location_Right Arm - Lower</th>\n",
       "      <th>tbp_lv_location_Right Arm - Upper</th>\n",
       "      <th>tbp_lv_location_Right Leg</th>\n",
       "      <th>tbp_lv_location_Right Leg - Lower</th>\n",
       "      <th>tbp_lv_location_Right Leg - Upper</th>\n",
       "      <th>tbp_lv_location_Torso Back</th>\n",
       "      <th>tbp_lv_location_Torso Back Bottom Third</th>\n",
       "      <th>tbp_lv_location_Torso Back Middle Third</th>\n",
       "      <th>tbp_lv_location_Torso Back Top Third</th>\n",
       "      <th>tbp_lv_location_Torso Front</th>\n",
       "      <th>tbp_lv_location_Torso Front Bottom Half</th>\n",
       "      <th>tbp_lv_location_Torso Front Top Half</th>\n",
       "      <th>tbp_lv_location_Unknown</th>\n",
       "    </tr>\n",
       "  </thead>\n",
       "  <tbody>\n",
       "    <tr>\n",
       "      <th>387</th>\n",
       "      <td>1</td>\n",
       "      <td>0</td>\n",
       "      <td>0.327914</td>\n",
       "      <td>0.36978</td>\n",
       "      <td>0.480132</td>\n",
       "      <td>0.321112</td>\n",
       "      <td>0.295493</td>\n",
       "      <td>0.4173</td>\n",
       "      <td>0.307608</td>\n",
       "      <td>0.494239</td>\n",
       "      <td>0.292094</td>\n",
       "      <td>0.230086</td>\n",
       "      <td>0.21116</td>\n",
       "      <td>0.142527</td>\n",
       "      <td>0.223937</td>\n",
       "      <td>0.394868</td>\n",
       "      <td>0.425782</td>\n",
       "      <td>0.472352</td>\n",
       "      <td>0.740822</td>\n",
       "      <td>0.339794</td>\n",
       "      <td>0.777134</td>\n",
       "      <td>0.386477</td>\n",
       "      <td>0.00016</td>\n",
       "      <td>0.568197</td>\n",
       "      <td>0.983058</td>\n",
       "      <td>0.355937</td>\n",
       "      <td>0.343175</td>\n",
       "      <td>0.328967</td>\n",
       "      <td>0.083571</td>\n",
       "      <td>0.454394</td>\n",
       "      <td>0.0</td>\n",
       "      <td>0.540113</td>\n",
       "      <td>0.759256</td>\n",
       "      <td>0.34993</td>\n",
       "      <td>0</td>\n",
       "      <td>1</td>\n",
       "      <td>0</td>\n",
       "      <td>1</td>\n",
       "      <td>0</td>\n",
       "      <td>0</td>\n",
       "      <td>0</td>\n",
       "      <td>0</td>\n",
       "      <td>0</td>\n",
       "      <td>0</td>\n",
       "      <td>0</td>\n",
       "      <td>0</td>\n",
       "      <td>0</td>\n",
       "      <td>0</td>\n",
       "      <td>0</td>\n",
       "      <td>0</td>\n",
       "      <td>0</td>\n",
       "      <td>0</td>\n",
       "      <td>0</td>\n",
       "      <td>0</td>\n",
       "      <td>0</td>\n",
       "      <td>0</td>\n",
       "      <td>0</td>\n",
       "      <td>0</td>\n",
       "      <td>1</td>\n",
       "      <td>0</td>\n",
       "    </tr>\n",
       "  </tbody>\n",
       "</table>\n",
       "</div>"
      ],
      "text/plain": [
       "     target  age_approx  clin_size_long_diam_mm  tbp_lv_A  tbp_lv_Aext  \\\n",
       "387       1           0                0.327914   0.36978     0.480132   \n",
       "\n",
       "     tbp_lv_B  tbp_lv_Bext  tbp_lv_C  tbp_lv_Cext  tbp_lv_H  tbp_lv_Hext  \\\n",
       "387  0.321112     0.295493    0.4173     0.307608  0.494239     0.292094   \n",
       "\n",
       "     tbp_lv_L  tbp_lv_Lext  tbp_lv_areaMM2  tbp_lv_area_perim_ratio  \\\n",
       "387  0.230086      0.21116        0.142527                 0.223937   \n",
       "\n",
       "     tbp_lv_color_std_mean  tbp_lv_deltaA  tbp_lv_deltaB  tbp_lv_deltaL  \\\n",
       "387               0.394868       0.425782       0.472352       0.740822   \n",
       "\n",
       "     tbp_lv_deltaLBnorm  tbp_lv_eccentricity  tbp_lv_minorAxisMM  \\\n",
       "387            0.339794             0.777134            0.386477   \n",
       "\n",
       "     tbp_lv_nevi_confidence  tbp_lv_norm_border  tbp_lv_norm_color  \\\n",
       "387                 0.00016            0.568197           0.983058   \n",
       "\n",
       "     tbp_lv_perimeterMM  tbp_lv_radial_color_std_max  tbp_lv_stdL  \\\n",
       "387            0.355937                     0.343175     0.328967   \n",
       "\n",
       "     tbp_lv_stdLExt  tbp_lv_symm_2axis  tbp_lv_symm_2axis_angle  tbp_lv_x  \\\n",
       "387        0.083571           0.454394                      0.0  0.540113   \n",
       "\n",
       "     tbp_lv_y  tbp_lv_z  sex_Unknown  sex_female  sex_male  \\\n",
       "387  0.759256   0.34993            0           1         0   \n",
       "\n",
       "     tbp_tile_type_3D: XP  tbp_tile_type_3D: white  \\\n",
       "387                     1                        0   \n",
       "\n",
       "     tbp_lv_location_Head & Neck  tbp_lv_location_Left Arm  \\\n",
       "387                            0                         0   \n",
       "\n",
       "     tbp_lv_location_Left Arm - Lower  tbp_lv_location_Left Arm - Upper  \\\n",
       "387                                 0                                 0   \n",
       "\n",
       "     tbp_lv_location_Left Leg  tbp_lv_location_Left Leg - Lower  \\\n",
       "387                         0                                 0   \n",
       "\n",
       "     tbp_lv_location_Left Leg - Upper  tbp_lv_location_Right Arm  \\\n",
       "387                                 0                          0   \n",
       "\n",
       "     tbp_lv_location_Right Arm - Lower  tbp_lv_location_Right Arm - Upper  \\\n",
       "387                                  0                                  0   \n",
       "\n",
       "     tbp_lv_location_Right Leg  tbp_lv_location_Right Leg - Lower  \\\n",
       "387                          0                                  0   \n",
       "\n",
       "     tbp_lv_location_Right Leg - Upper  tbp_lv_location_Torso Back  \\\n",
       "387                                  0                           0   \n",
       "\n",
       "     tbp_lv_location_Torso Back Bottom Third  \\\n",
       "387                                        0   \n",
       "\n",
       "     tbp_lv_location_Torso Back Middle Third  \\\n",
       "387                                        0   \n",
       "\n",
       "     tbp_lv_location_Torso Back Top Third  tbp_lv_location_Torso Front  \\\n",
       "387                                     0                            0   \n",
       "\n",
       "     tbp_lv_location_Torso Front Bottom Half  \\\n",
       "387                                        0   \n",
       "\n",
       "     tbp_lv_location_Torso Front Top Half  tbp_lv_location_Unknown  \n",
       "387                                     1                        0  "
      ]
     },
     "execution_count": 28,
     "metadata": {},
     "output_type": "execute_result"
    }
   ],
   "source": [
    "meta_train_df_1.head(1)"
   ]
  },
  {
   "cell_type": "markdown",
   "id": "8a7bf3ce",
   "metadata": {
    "papermill": {
     "duration": 0.017895,
     "end_time": "2025-03-22T15:12:10.818057",
     "exception": false,
     "start_time": "2025-03-22T15:12:10.800162",
     "status": "completed"
    },
    "tags": []
   },
   "source": [
    "## Smote time hopefully"
   ]
  },
  {
   "cell_type": "code",
   "execution_count": 29,
   "id": "e7da277b",
   "metadata": {
    "execution": {
     "iopub.execute_input": "2025-03-22T15:12:10.855175Z",
     "iopub.status.busy": "2025-03-22T15:12:10.854866Z",
     "iopub.status.idle": "2025-03-22T15:12:11.009287Z",
     "shell.execute_reply": "2025-03-22T15:12:11.008312Z"
    },
    "papermill": {
     "duration": 0.175019,
     "end_time": "2025-03-22T15:12:11.011054",
     "exception": false,
     "start_time": "2025-03-22T15:12:10.836035",
     "status": "completed"
    },
    "tags": []
   },
   "outputs": [
    {
     "name": "stdout",
     "output_type": "stream",
     "text": [
      "(54495, 60)\n"
     ]
    },
    {
     "data": {
      "text/plain": [
       "target\n",
       "0    32056\n",
       "1    22439\n",
       "Name: count, dtype: int64"
      ]
     },
     "execution_count": 29,
     "metadata": {},
     "output_type": "execute_result"
    }
   ],
   "source": [
    "X = meta_train_df_2.drop(columns=['target'])  # Assuming 'target' is the column you want to predict\n",
    "y = meta_train_df_2['target']\n",
    "\n",
    "\n",
    "smote = SMOTE(sampling_strategy=0.7, random_state=42)\n",
    "X_resampled, y_resampled = smote.fit_resample(X, y)\n",
    "\n",
    "meta_train_df_2_resampled = pd.DataFrame(X_resampled, columns=X.columns)\n",
    "meta_train_df_2_resampled['target'] = y_resampled\n",
    "\n",
    "print(meta_train_df_2_resampled.shape)\n",
    "meta_train_df_2_resampled.target.value_counts()"
   ]
  },
  {
   "cell_type": "markdown",
   "id": "9dd85f1b",
   "metadata": {
    "papermill": {
     "duration": 0.017735,
     "end_time": "2025-03-22T15:12:11.047787",
     "exception": false,
     "start_time": "2025-03-22T15:12:11.030052",
     "status": "completed"
    },
    "tags": []
   },
   "source": [
    "## XGBoost"
   ]
  },
  {
   "cell_type": "code",
   "execution_count": 30,
   "id": "6742f135",
   "metadata": {
    "execution": {
     "iopub.execute_input": "2025-03-22T15:12:11.087487Z",
     "iopub.status.busy": "2025-03-22T15:12:11.086950Z",
     "iopub.status.idle": "2025-03-22T15:12:11.195346Z",
     "shell.execute_reply": "2025-03-22T15:12:11.194361Z"
    },
    "papermill": {
     "duration": 0.131484,
     "end_time": "2025-03-22T15:12:11.197223",
     "exception": false,
     "start_time": "2025-03-22T15:12:11.065739",
     "status": "completed"
    },
    "tags": []
   },
   "outputs": [
    {
     "name": "stdout",
     "output_type": "stream",
     "text": [
      "done\n"
     ]
    }
   ],
   "source": [
    "# Now its boosting time\n",
    "# Get the x and y's of both training and validation sets\n",
    "X_meta_train_1 = meta_train_df_1.drop(['target'], axis=1)\n",
    "y_meta_train_1 = meta_train_df_1['target']\n",
    "\n",
    "\n",
    "X_meta_val_1 = meta_val_df_1.drop(['target'], axis=1)\n",
    "y_meta_val_1 = meta_val_df_1['target']\n",
    "\n",
    "\n",
    "# Now for training set 2\n",
    "\n",
    "X_meta_train_2 = meta_train_df_2_resampled.drop(['target'], axis=1)\n",
    "y_meta_train_2 = meta_train_df_2_resampled['target']\n",
    "\n",
    "\n",
    "X_meta_val_2 = meta_train_df_2_resampled.drop(['target'], axis=1)\n",
    "y_meta_val_2 = meta_train_df_2_resampled['target']\n",
    "\n",
    "\n",
    "# For the Final head \n",
    "X_meta_train_5 = meta_train_df_5.drop(['target'], axis=1)\n",
    "y_meta_train_5 = meta_train_df_5['target']\n",
    "\n",
    "\n",
    "X_meta_val_5 = meta_val_df_5.drop(['target'], axis=1)\n",
    "y_meta_val_5 = meta_val_df_5['target']\n",
    "\n",
    "print('done')"
   ]
  },
  {
   "cell_type": "markdown",
   "id": "b9ad83d3",
   "metadata": {
    "papermill": {
     "duration": 0.017693,
     "end_time": "2025-03-22T15:12:11.235746",
     "exception": false,
     "start_time": "2025-03-22T15:12:11.218053",
     "status": "completed"
    },
    "tags": []
   },
   "source": [
    "### Xgboost model 1"
   ]
  },
  {
   "cell_type": "code",
   "execution_count": 31,
   "id": "8db0256d",
   "metadata": {
    "execution": {
     "iopub.execute_input": "2025-03-22T15:12:11.272620Z",
     "iopub.status.busy": "2025-03-22T15:12:11.272106Z",
     "iopub.status.idle": "2025-03-22T15:12:11.276149Z",
     "shell.execute_reply": "2025-03-22T15:12:11.275496Z"
    },
    "papermill": {
     "duration": 0.024003,
     "end_time": "2025-03-22T15:12:11.277561",
     "exception": false,
     "start_time": "2025-03-22T15:12:11.253558",
     "status": "completed"
    },
    "tags": []
   },
   "outputs": [],
   "source": [
    "\n",
    "boost_model_1 = XGBRegressor(objective='binary:logistic', device='cuda', reg_lambda=0.1,tree_method='hist', alpha=0.1) # Define the xgboost\n",
    "\n",
    "# skf = StratifiedKFold(n_splits=5, shuffle=True, random_state=42)\n",
    "\n",
    "# # Perform cross-validation\n",
    "# cv_scores_1 = cross_val_score(boost_model_1, X_meta_train_1, y_meta_train_1, cv=skf, scoring='roc_auc', verbose=True)\n",
    "\n",
    "# # Print cross-validation scores\n",
    "# print(f'Cross-validation scores: {cv_scores_1}')\n",
    "# print(f'Mean CV score: {cv_scores_1.mean()}')"
   ]
  },
  {
   "cell_type": "code",
   "execution_count": 32,
   "id": "0dbfb5cf",
   "metadata": {
    "execution": {
     "iopub.execute_input": "2025-03-22T15:12:11.314905Z",
     "iopub.status.busy": "2025-03-22T15:12:11.314231Z",
     "iopub.status.idle": "2025-03-22T15:12:12.821661Z",
     "shell.execute_reply": "2025-03-22T15:12:12.820949Z"
    },
    "papermill": {
     "duration": 1.528149,
     "end_time": "2025-03-22T15:12:12.823590",
     "exception": false,
     "start_time": "2025-03-22T15:12:11.295441",
     "status": "completed"
    },
    "tags": []
   },
   "outputs": [
    {
     "name": "stderr",
     "output_type": "stream",
     "text": [
      "/opt/conda/lib/python3.10/site-packages/xgboost/sklearn.py:889: UserWarning: `early_stopping_rounds` in `fit` method is deprecated for better compatibility with scikit-learn, use `early_stopping_rounds` in constructor or`set_params` instead.\n",
      "  warnings.warn(\n"
     ]
    },
    {
     "name": "stdout",
     "output_type": "stream",
     "text": [
      "[0]\tvalidation_0-logloss:0.09662\n",
      "[1]\tvalidation_0-logloss:0.07219\n",
      "[2]\tvalidation_0-logloss:0.05471\n",
      "[3]\tvalidation_0-logloss:0.04209\n",
      "[4]\tvalidation_0-logloss:0.03303\n",
      "[5]\tvalidation_0-logloss:0.02637\n",
      "[6]\tvalidation_0-logloss:0.02157\n",
      "[7]\tvalidation_0-logloss:0.01805\n",
      "[8]\tvalidation_0-logloss:0.01573\n",
      "[9]\tvalidation_0-logloss:0.01389\n",
      "[10]\tvalidation_0-logloss:0.01253\n",
      "[11]\tvalidation_0-logloss:0.01156\n",
      "[12]\tvalidation_0-logloss:0.01097\n",
      "[13]\tvalidation_0-logloss:0.01053\n",
      "[14]\tvalidation_0-logloss:0.01021\n",
      "[15]\tvalidation_0-logloss:0.00995\n",
      "[16]\tvalidation_0-logloss:0.00983\n",
      "[17]\tvalidation_0-logloss:0.00980\n",
      "[18]\tvalidation_0-logloss:0.00981\n",
      "[19]\tvalidation_0-logloss:0.00972\n",
      "[20]\tvalidation_0-logloss:0.00972\n",
      "[21]\tvalidation_0-logloss:0.00976\n"
     ]
    },
    {
     "data": {
      "text/html": [
       "<style>#sk-container-id-1 {color: black;background-color: white;}#sk-container-id-1 pre{padding: 0;}#sk-container-id-1 div.sk-toggleable {background-color: white;}#sk-container-id-1 label.sk-toggleable__label {cursor: pointer;display: block;width: 100%;margin-bottom: 0;padding: 0.3em;box-sizing: border-box;text-align: center;}#sk-container-id-1 label.sk-toggleable__label-arrow:before {content: \"▸\";float: left;margin-right: 0.25em;color: #696969;}#sk-container-id-1 label.sk-toggleable__label-arrow:hover:before {color: black;}#sk-container-id-1 div.sk-estimator:hover label.sk-toggleable__label-arrow:before {color: black;}#sk-container-id-1 div.sk-toggleable__content {max-height: 0;max-width: 0;overflow: hidden;text-align: left;background-color: #f0f8ff;}#sk-container-id-1 div.sk-toggleable__content pre {margin: 0.2em;color: black;border-radius: 0.25em;background-color: #f0f8ff;}#sk-container-id-1 input.sk-toggleable__control:checked~div.sk-toggleable__content {max-height: 200px;max-width: 100%;overflow: auto;}#sk-container-id-1 input.sk-toggleable__control:checked~label.sk-toggleable__label-arrow:before {content: \"▾\";}#sk-container-id-1 div.sk-estimator input.sk-toggleable__control:checked~label.sk-toggleable__label {background-color: #d4ebff;}#sk-container-id-1 div.sk-label input.sk-toggleable__control:checked~label.sk-toggleable__label {background-color: #d4ebff;}#sk-container-id-1 input.sk-hidden--visually {border: 0;clip: rect(1px 1px 1px 1px);clip: rect(1px, 1px, 1px, 1px);height: 1px;margin: -1px;overflow: hidden;padding: 0;position: absolute;width: 1px;}#sk-container-id-1 div.sk-estimator {font-family: monospace;background-color: #f0f8ff;border: 1px dotted black;border-radius: 0.25em;box-sizing: border-box;margin-bottom: 0.5em;}#sk-container-id-1 div.sk-estimator:hover {background-color: #d4ebff;}#sk-container-id-1 div.sk-parallel-item::after {content: \"\";width: 100%;border-bottom: 1px solid gray;flex-grow: 1;}#sk-container-id-1 div.sk-label:hover label.sk-toggleable__label {background-color: #d4ebff;}#sk-container-id-1 div.sk-serial::before {content: \"\";position: absolute;border-left: 1px solid gray;box-sizing: border-box;top: 0;bottom: 0;left: 50%;z-index: 0;}#sk-container-id-1 div.sk-serial {display: flex;flex-direction: column;align-items: center;background-color: white;padding-right: 0.2em;padding-left: 0.2em;position: relative;}#sk-container-id-1 div.sk-item {position: relative;z-index: 1;}#sk-container-id-1 div.sk-parallel {display: flex;align-items: stretch;justify-content: center;background-color: white;position: relative;}#sk-container-id-1 div.sk-item::before, #sk-container-id-1 div.sk-parallel-item::before {content: \"\";position: absolute;border-left: 1px solid gray;box-sizing: border-box;top: 0;bottom: 0;left: 50%;z-index: -1;}#sk-container-id-1 div.sk-parallel-item {display: flex;flex-direction: column;z-index: 1;position: relative;background-color: white;}#sk-container-id-1 div.sk-parallel-item:first-child::after {align-self: flex-end;width: 50%;}#sk-container-id-1 div.sk-parallel-item:last-child::after {align-self: flex-start;width: 50%;}#sk-container-id-1 div.sk-parallel-item:only-child::after {width: 0;}#sk-container-id-1 div.sk-dashed-wrapped {border: 1px dashed gray;margin: 0 0.4em 0.5em 0.4em;box-sizing: border-box;padding-bottom: 0.4em;background-color: white;}#sk-container-id-1 div.sk-label label {font-family: monospace;font-weight: bold;display: inline-block;line-height: 1.2em;}#sk-container-id-1 div.sk-label-container {text-align: center;}#sk-container-id-1 div.sk-container {/* jupyter's `normalize.less` sets `[hidden] { display: none; }` but bootstrap.min.css set `[hidden] { display: none !important; }` so we also need the `!important` here to be able to override the default hidden behavior on the sphinx rendered scikit-learn.org. See: https://github.com/scikit-learn/scikit-learn/issues/21755 */display: inline-block !important;position: relative;}#sk-container-id-1 div.sk-text-repr-fallback {display: none;}</style><div id=\"sk-container-id-1\" class=\"sk-top-container\"><div class=\"sk-text-repr-fallback\"><pre>XGBRegressor(alpha=0.1, base_score=None, booster=None, callbacks=None,\n",
       "             colsample_bylevel=None, colsample_bynode=None,\n",
       "             colsample_bytree=None, device=&#x27;cuda&#x27;, early_stopping_rounds=None,\n",
       "             enable_categorical=False, eval_metric=None, feature_types=None,\n",
       "             gamma=None, grow_policy=None, importance_type=None,\n",
       "             interaction_constraints=None, learning_rate=None, max_bin=None,\n",
       "             max_cat_threshold=None, max_cat_to_onehot=None,\n",
       "             max_delta_step=None, max_depth=None, max_leaves=None,\n",
       "             min_child_weight=None, missing=nan, monotone_constraints=None,\n",
       "             multi_strategy=None, n_estimators=None, n_jobs=None,\n",
       "             num_parallel_tree=None, ...)</pre><b>In a Jupyter environment, please rerun this cell to show the HTML representation or trust the notebook. <br />On GitHub, the HTML representation is unable to render, please try loading this page with nbviewer.org.</b></div><div class=\"sk-container\" hidden><div class=\"sk-item\"><div class=\"sk-estimator sk-toggleable\"><input class=\"sk-toggleable__control sk-hidden--visually\" id=\"sk-estimator-id-1\" type=\"checkbox\" checked><label for=\"sk-estimator-id-1\" class=\"sk-toggleable__label sk-toggleable__label-arrow\">XGBRegressor</label><div class=\"sk-toggleable__content\"><pre>XGBRegressor(alpha=0.1, base_score=None, booster=None, callbacks=None,\n",
       "             colsample_bylevel=None, colsample_bynode=None,\n",
       "             colsample_bytree=None, device=&#x27;cuda&#x27;, early_stopping_rounds=None,\n",
       "             enable_categorical=False, eval_metric=None, feature_types=None,\n",
       "             gamma=None, grow_policy=None, importance_type=None,\n",
       "             interaction_constraints=None, learning_rate=None, max_bin=None,\n",
       "             max_cat_threshold=None, max_cat_to_onehot=None,\n",
       "             max_delta_step=None, max_depth=None, max_leaves=None,\n",
       "             min_child_weight=None, missing=nan, monotone_constraints=None,\n",
       "             multi_strategy=None, n_estimators=None, n_jobs=None,\n",
       "             num_parallel_tree=None, ...)</pre></div></div></div></div></div>"
      ],
      "text/plain": [
       "XGBRegressor(alpha=0.1, base_score=None, booster=None, callbacks=None,\n",
       "             colsample_bylevel=None, colsample_bynode=None,\n",
       "             colsample_bytree=None, device='cuda', early_stopping_rounds=None,\n",
       "             enable_categorical=False, eval_metric=None, feature_types=None,\n",
       "             gamma=None, grow_policy=None, importance_type=None,\n",
       "             interaction_constraints=None, learning_rate=None, max_bin=None,\n",
       "             max_cat_threshold=None, max_cat_to_onehot=None,\n",
       "             max_delta_step=None, max_depth=None, max_leaves=None,\n",
       "             min_child_weight=None, missing=nan, monotone_constraints=None,\n",
       "             multi_strategy=None, n_estimators=None, n_jobs=None,\n",
       "             num_parallel_tree=None, ...)"
      ]
     },
     "execution_count": 32,
     "metadata": {},
     "output_type": "execute_result"
    }
   ],
   "source": [
    "\n",
    "boost_model_1.fit(\n",
    "    X_meta_train_1, y_meta_train_1, \n",
    "    eval_set=[(X_meta_val_1, y_meta_val_1)], \n",
    "    early_stopping_rounds=2, \n",
    "    verbose=True \n",
    ")"
   ]
  },
  {
   "cell_type": "markdown",
   "id": "5ee6f383",
   "metadata": {
    "papermill": {
     "duration": 0.021125,
     "end_time": "2025-03-22T15:12:12.865055",
     "exception": false,
     "start_time": "2025-03-22T15:12:12.843930",
     "status": "completed"
    },
    "tags": []
   },
   "source": [
    "### Xgboost model 2"
   ]
  },
  {
   "cell_type": "code",
   "execution_count": 33,
   "id": "8d1e9465",
   "metadata": {
    "execution": {
     "iopub.execute_input": "2025-03-22T15:12:12.907672Z",
     "iopub.status.busy": "2025-03-22T15:12:12.907093Z",
     "iopub.status.idle": "2025-03-22T15:12:12.911177Z",
     "shell.execute_reply": "2025-03-22T15:12:12.910505Z"
    },
    "papermill": {
     "duration": 0.026763,
     "end_time": "2025-03-22T15:12:12.912865",
     "exception": false,
     "start_time": "2025-03-22T15:12:12.886102",
     "status": "completed"
    },
    "tags": []
   },
   "outputs": [],
   "source": [
    "boost_model_2 = XGBRegressor(objective='binary:logistic', device='cuda', reg_lambda=0.1,tree_method='hist', alpha=0.1) # Define the xgboost\n",
    "\n",
    "\n",
    "# # Perform cross-validation\n",
    "# cv_scores_2 = cross_val_score(boost_model_2, X_meta_train_2, y_meta_train_2, cv=skf, scoring='roc_auc', verbose=True)\n",
    "\n",
    "# # Print cross-validation scores\n",
    "# print(f'Cross-validation scores: {cv_scores_2}')\n",
    "# print(f'Mean CV score: {cv_scores_2.mean()}')"
   ]
  },
  {
   "cell_type": "code",
   "execution_count": 34,
   "id": "18b863cf",
   "metadata": {
    "execution": {
     "iopub.execute_input": "2025-03-22T15:12:12.952969Z",
     "iopub.status.busy": "2025-03-22T15:12:12.952747Z",
     "iopub.status.idle": "2025-03-22T15:12:13.842289Z",
     "shell.execute_reply": "2025-03-22T15:12:13.841679Z"
    },
    "papermill": {
     "duration": 0.911596,
     "end_time": "2025-03-22T15:12:13.844120",
     "exception": false,
     "start_time": "2025-03-22T15:12:12.932524",
     "status": "completed"
    },
    "tags": []
   },
   "outputs": [
    {
     "name": "stdout",
     "output_type": "stream",
     "text": [
      "[0]\tvalidation_0-logloss:0.50488\n",
      "[1]\tvalidation_0-logloss:0.40792\n",
      "[2]\tvalidation_0-logloss:0.34515\n",
      "[3]\tvalidation_0-logloss:0.29865\n",
      "[4]\tvalidation_0-logloss:0.26517\n",
      "[5]\tvalidation_0-logloss:0.23873\n",
      "[6]\tvalidation_0-logloss:0.21612\n",
      "[7]\tvalidation_0-logloss:0.19920\n",
      "[8]\tvalidation_0-logloss:0.18769\n",
      "[9]\tvalidation_0-logloss:0.17519\n",
      "[10]\tvalidation_0-logloss:0.16680\n",
      "[11]\tvalidation_0-logloss:0.15756\n",
      "[12]\tvalidation_0-logloss:0.15024\n",
      "[13]\tvalidation_0-logloss:0.14181\n",
      "[14]\tvalidation_0-logloss:0.13648\n",
      "[15]\tvalidation_0-logloss:0.13220\n",
      "[16]\tvalidation_0-logloss:0.12421\n",
      "[17]\tvalidation_0-logloss:0.11694\n",
      "[18]\tvalidation_0-logloss:0.11315\n",
      "[19]\tvalidation_0-logloss:0.10824\n",
      "[20]\tvalidation_0-logloss:0.10303\n",
      "[21]\tvalidation_0-logloss:0.09693\n",
      "[22]\tvalidation_0-logloss:0.09458\n",
      "[23]\tvalidation_0-logloss:0.09292\n",
      "[24]\tvalidation_0-logloss:0.09014\n",
      "[25]\tvalidation_0-logloss:0.08797\n",
      "[26]\tvalidation_0-logloss:0.08648\n",
      "[27]\tvalidation_0-logloss:0.08251\n",
      "[28]\tvalidation_0-logloss:0.07941\n",
      "[29]\tvalidation_0-logloss:0.07716\n",
      "[30]\tvalidation_0-logloss:0.07423\n"
     ]
    },
    {
     "name": "stderr",
     "output_type": "stream",
     "text": [
      "/opt/conda/lib/python3.10/site-packages/xgboost/sklearn.py:889: UserWarning: `early_stopping_rounds` in `fit` method is deprecated for better compatibility with scikit-learn, use `early_stopping_rounds` in constructor or`set_params` instead.\n",
      "  warnings.warn(\n"
     ]
    },
    {
     "name": "stdout",
     "output_type": "stream",
     "text": [
      "[31]\tvalidation_0-logloss:0.07087\n",
      "[32]\tvalidation_0-logloss:0.07034\n",
      "[33]\tvalidation_0-logloss:0.06740\n",
      "[34]\tvalidation_0-logloss:0.06386\n",
      "[35]\tvalidation_0-logloss:0.06121\n",
      "[36]\tvalidation_0-logloss:0.05913\n",
      "[37]\tvalidation_0-logloss:0.05666\n",
      "[38]\tvalidation_0-logloss:0.05577\n",
      "[39]\tvalidation_0-logloss:0.05246\n",
      "[40]\tvalidation_0-logloss:0.05195\n",
      "[41]\tvalidation_0-logloss:0.05104\n",
      "[42]\tvalidation_0-logloss:0.04877\n",
      "[43]\tvalidation_0-logloss:0.04793\n",
      "[44]\tvalidation_0-logloss:0.04675\n",
      "[45]\tvalidation_0-logloss:0.04572\n",
      "[46]\tvalidation_0-logloss:0.04405\n",
      "[47]\tvalidation_0-logloss:0.04306\n",
      "[48]\tvalidation_0-logloss:0.04180\n",
      "[49]\tvalidation_0-logloss:0.04082\n",
      "[50]\tvalidation_0-logloss:0.04032\n",
      "[51]\tvalidation_0-logloss:0.03896\n",
      "[52]\tvalidation_0-logloss:0.03743\n",
      "[53]\tvalidation_0-logloss:0.03648\n",
      "[54]\tvalidation_0-logloss:0.03591\n",
      "[55]\tvalidation_0-logloss:0.03526\n",
      "[56]\tvalidation_0-logloss:0.03508\n",
      "[57]\tvalidation_0-logloss:0.03410\n",
      "[58]\tvalidation_0-logloss:0.03299\n",
      "[59]\tvalidation_0-logloss:0.03197\n",
      "[60]\tvalidation_0-logloss:0.03019\n",
      "[61]\tvalidation_0-logloss:0.02897\n",
      "[62]\tvalidation_0-logloss:0.02751\n",
      "[63]\tvalidation_0-logloss:0.02674\n",
      "[64]\tvalidation_0-logloss:0.02597\n",
      "[65]\tvalidation_0-logloss:0.02531\n",
      "[66]\tvalidation_0-logloss:0.02510\n",
      "[67]\tvalidation_0-logloss:0.02403\n",
      "[68]\tvalidation_0-logloss:0.02329\n",
      "[69]\tvalidation_0-logloss:0.02292\n",
      "[70]\tvalidation_0-logloss:0.02238\n",
      "[71]\tvalidation_0-logloss:0.02165\n",
      "[72]\tvalidation_0-logloss:0.02109\n",
      "[73]\tvalidation_0-logloss:0.02077\n",
      "[74]\tvalidation_0-logloss:0.02021\n",
      "[75]\tvalidation_0-logloss:0.01980\n",
      "[76]\tvalidation_0-logloss:0.01921\n",
      "[77]\tvalidation_0-logloss:0.01883\n",
      "[78]\tvalidation_0-logloss:0.01815\n",
      "[79]\tvalidation_0-logloss:0.01748\n",
      "[80]\tvalidation_0-logloss:0.01725\n",
      "[81]\tvalidation_0-logloss:0.01698\n",
      "[82]\tvalidation_0-logloss:0.01675\n",
      "[83]\tvalidation_0-logloss:0.01653\n",
      "[84]\tvalidation_0-logloss:0.01624\n",
      "[85]\tvalidation_0-logloss:0.01608\n",
      "[86]\tvalidation_0-logloss:0.01543\n",
      "[87]\tvalidation_0-logloss:0.01505\n",
      "[88]\tvalidation_0-logloss:0.01436\n",
      "[89]\tvalidation_0-logloss:0.01392\n",
      "[90]\tvalidation_0-logloss:0.01374\n",
      "[91]\tvalidation_0-logloss:0.01338\n",
      "[92]\tvalidation_0-logloss:0.01294\n",
      "[93]\tvalidation_0-logloss:0.01260\n",
      "[94]\tvalidation_0-logloss:0.01234\n",
      "[95]\tvalidation_0-logloss:0.01210\n",
      "[96]\tvalidation_0-logloss:0.01177\n",
      "[97]\tvalidation_0-logloss:0.01151\n",
      "[98]\tvalidation_0-logloss:0.01113\n",
      "[99]\tvalidation_0-logloss:0.01087\n"
     ]
    },
    {
     "data": {
      "text/html": [
       "<style>#sk-container-id-2 {color: black;background-color: white;}#sk-container-id-2 pre{padding: 0;}#sk-container-id-2 div.sk-toggleable {background-color: white;}#sk-container-id-2 label.sk-toggleable__label {cursor: pointer;display: block;width: 100%;margin-bottom: 0;padding: 0.3em;box-sizing: border-box;text-align: center;}#sk-container-id-2 label.sk-toggleable__label-arrow:before {content: \"▸\";float: left;margin-right: 0.25em;color: #696969;}#sk-container-id-2 label.sk-toggleable__label-arrow:hover:before {color: black;}#sk-container-id-2 div.sk-estimator:hover label.sk-toggleable__label-arrow:before {color: black;}#sk-container-id-2 div.sk-toggleable__content {max-height: 0;max-width: 0;overflow: hidden;text-align: left;background-color: #f0f8ff;}#sk-container-id-2 div.sk-toggleable__content pre {margin: 0.2em;color: black;border-radius: 0.25em;background-color: #f0f8ff;}#sk-container-id-2 input.sk-toggleable__control:checked~div.sk-toggleable__content {max-height: 200px;max-width: 100%;overflow: auto;}#sk-container-id-2 input.sk-toggleable__control:checked~label.sk-toggleable__label-arrow:before {content: \"▾\";}#sk-container-id-2 div.sk-estimator input.sk-toggleable__control:checked~label.sk-toggleable__label {background-color: #d4ebff;}#sk-container-id-2 div.sk-label input.sk-toggleable__control:checked~label.sk-toggleable__label {background-color: #d4ebff;}#sk-container-id-2 input.sk-hidden--visually {border: 0;clip: rect(1px 1px 1px 1px);clip: rect(1px, 1px, 1px, 1px);height: 1px;margin: -1px;overflow: hidden;padding: 0;position: absolute;width: 1px;}#sk-container-id-2 div.sk-estimator {font-family: monospace;background-color: #f0f8ff;border: 1px dotted black;border-radius: 0.25em;box-sizing: border-box;margin-bottom: 0.5em;}#sk-container-id-2 div.sk-estimator:hover {background-color: #d4ebff;}#sk-container-id-2 div.sk-parallel-item::after {content: \"\";width: 100%;border-bottom: 1px solid gray;flex-grow: 1;}#sk-container-id-2 div.sk-label:hover label.sk-toggleable__label {background-color: #d4ebff;}#sk-container-id-2 div.sk-serial::before {content: \"\";position: absolute;border-left: 1px solid gray;box-sizing: border-box;top: 0;bottom: 0;left: 50%;z-index: 0;}#sk-container-id-2 div.sk-serial {display: flex;flex-direction: column;align-items: center;background-color: white;padding-right: 0.2em;padding-left: 0.2em;position: relative;}#sk-container-id-2 div.sk-item {position: relative;z-index: 1;}#sk-container-id-2 div.sk-parallel {display: flex;align-items: stretch;justify-content: center;background-color: white;position: relative;}#sk-container-id-2 div.sk-item::before, #sk-container-id-2 div.sk-parallel-item::before {content: \"\";position: absolute;border-left: 1px solid gray;box-sizing: border-box;top: 0;bottom: 0;left: 50%;z-index: -1;}#sk-container-id-2 div.sk-parallel-item {display: flex;flex-direction: column;z-index: 1;position: relative;background-color: white;}#sk-container-id-2 div.sk-parallel-item:first-child::after {align-self: flex-end;width: 50%;}#sk-container-id-2 div.sk-parallel-item:last-child::after {align-self: flex-start;width: 50%;}#sk-container-id-2 div.sk-parallel-item:only-child::after {width: 0;}#sk-container-id-2 div.sk-dashed-wrapped {border: 1px dashed gray;margin: 0 0.4em 0.5em 0.4em;box-sizing: border-box;padding-bottom: 0.4em;background-color: white;}#sk-container-id-2 div.sk-label label {font-family: monospace;font-weight: bold;display: inline-block;line-height: 1.2em;}#sk-container-id-2 div.sk-label-container {text-align: center;}#sk-container-id-2 div.sk-container {/* jupyter's `normalize.less` sets `[hidden] { display: none; }` but bootstrap.min.css set `[hidden] { display: none !important; }` so we also need the `!important` here to be able to override the default hidden behavior on the sphinx rendered scikit-learn.org. See: https://github.com/scikit-learn/scikit-learn/issues/21755 */display: inline-block !important;position: relative;}#sk-container-id-2 div.sk-text-repr-fallback {display: none;}</style><div id=\"sk-container-id-2\" class=\"sk-top-container\"><div class=\"sk-text-repr-fallback\"><pre>XGBRegressor(alpha=0.1, base_score=None, booster=None, callbacks=None,\n",
       "             colsample_bylevel=None, colsample_bynode=None,\n",
       "             colsample_bytree=None, device=&#x27;cuda&#x27;, early_stopping_rounds=None,\n",
       "             enable_categorical=False, eval_metric=None, feature_types=None,\n",
       "             gamma=None, grow_policy=None, importance_type=None,\n",
       "             interaction_constraints=None, learning_rate=None, max_bin=None,\n",
       "             max_cat_threshold=None, max_cat_to_onehot=None,\n",
       "             max_delta_step=None, max_depth=None, max_leaves=None,\n",
       "             min_child_weight=None, missing=nan, monotone_constraints=None,\n",
       "             multi_strategy=None, n_estimators=None, n_jobs=None,\n",
       "             num_parallel_tree=None, ...)</pre><b>In a Jupyter environment, please rerun this cell to show the HTML representation or trust the notebook. <br />On GitHub, the HTML representation is unable to render, please try loading this page with nbviewer.org.</b></div><div class=\"sk-container\" hidden><div class=\"sk-item\"><div class=\"sk-estimator sk-toggleable\"><input class=\"sk-toggleable__control sk-hidden--visually\" id=\"sk-estimator-id-2\" type=\"checkbox\" checked><label for=\"sk-estimator-id-2\" class=\"sk-toggleable__label sk-toggleable__label-arrow\">XGBRegressor</label><div class=\"sk-toggleable__content\"><pre>XGBRegressor(alpha=0.1, base_score=None, booster=None, callbacks=None,\n",
       "             colsample_bylevel=None, colsample_bynode=None,\n",
       "             colsample_bytree=None, device=&#x27;cuda&#x27;, early_stopping_rounds=None,\n",
       "             enable_categorical=False, eval_metric=None, feature_types=None,\n",
       "             gamma=None, grow_policy=None, importance_type=None,\n",
       "             interaction_constraints=None, learning_rate=None, max_bin=None,\n",
       "             max_cat_threshold=None, max_cat_to_onehot=None,\n",
       "             max_delta_step=None, max_depth=None, max_leaves=None,\n",
       "             min_child_weight=None, missing=nan, monotone_constraints=None,\n",
       "             multi_strategy=None, n_estimators=None, n_jobs=None,\n",
       "             num_parallel_tree=None, ...)</pre></div></div></div></div></div>"
      ],
      "text/plain": [
       "XGBRegressor(alpha=0.1, base_score=None, booster=None, callbacks=None,\n",
       "             colsample_bylevel=None, colsample_bynode=None,\n",
       "             colsample_bytree=None, device='cuda', early_stopping_rounds=None,\n",
       "             enable_categorical=False, eval_metric=None, feature_types=None,\n",
       "             gamma=None, grow_policy=None, importance_type=None,\n",
       "             interaction_constraints=None, learning_rate=None, max_bin=None,\n",
       "             max_cat_threshold=None, max_cat_to_onehot=None,\n",
       "             max_delta_step=None, max_depth=None, max_leaves=None,\n",
       "             min_child_weight=None, missing=nan, monotone_constraints=None,\n",
       "             multi_strategy=None, n_estimators=None, n_jobs=None,\n",
       "             num_parallel_tree=None, ...)"
      ]
     },
     "execution_count": 34,
     "metadata": {},
     "output_type": "execute_result"
    }
   ],
   "source": [
    "boost_model_2.fit(\n",
    "    X_meta_train_2, y_meta_train_2, \n",
    "    eval_set=[(X_meta_val_2, y_meta_val_2)], \n",
    "    early_stopping_rounds=2, \n",
    "    verbose=True\n",
    ")"
   ]
  },
  {
   "cell_type": "markdown",
   "id": "f52ed336",
   "metadata": {
    "papermill": {
     "duration": 0.024242,
     "end_time": "2025-03-22T15:12:13.893788",
     "exception": false,
     "start_time": "2025-03-22T15:12:13.869546",
     "status": "completed"
    },
    "tags": []
   },
   "source": [
    "## CatBoost"
   ]
  },
  {
   "cell_type": "code",
   "execution_count": 35,
   "id": "26130199",
   "metadata": {
    "execution": {
     "iopub.execute_input": "2025-03-22T15:12:13.942926Z",
     "iopub.status.busy": "2025-03-22T15:12:13.942171Z",
     "iopub.status.idle": "2025-03-22T15:12:13.952107Z",
     "shell.execute_reply": "2025-03-22T15:12:13.951474Z"
    },
    "papermill": {
     "duration": 0.036089,
     "end_time": "2025-03-22T15:12:13.953737",
     "exception": false,
     "start_time": "2025-03-22T15:12:13.917648",
     "status": "completed"
    },
    "tags": []
   },
   "outputs": [],
   "source": [
    "X_meta_train_4 = meta_train_df_4.drop(['target'], axis=1)\n",
    "y_meta_train_4 = meta_train_df_4['target']\n",
    "\n",
    "\n",
    "X_meta_val_4 = meta_val_df_4.drop(['target'], axis=1)\n",
    "y_meta_val_4 = meta_val_df_4['target']\n"
   ]
  },
  {
   "cell_type": "code",
   "execution_count": 36,
   "id": "3ae5f4b4",
   "metadata": {
    "execution": {
     "iopub.execute_input": "2025-03-22T15:12:14.003366Z",
     "iopub.status.busy": "2025-03-22T15:12:14.002733Z",
     "iopub.status.idle": "2025-03-22T15:12:14.009518Z",
     "shell.execute_reply": "2025-03-22T15:12:14.008747Z"
    },
    "papermill": {
     "duration": 0.033346,
     "end_time": "2025-03-22T15:12:14.011178",
     "exception": false,
     "start_time": "2025-03-22T15:12:13.977832",
     "status": "completed"
    },
    "tags": []
   },
   "outputs": [],
   "source": [
    "catboost_model = CatBoostClassifier(iterations=500, depth=15, learning_rate=0.1, loss_function='Logloss', task_type=\"GPU\",)\n"
   ]
  },
  {
   "cell_type": "code",
   "execution_count": 37,
   "id": "227e1119",
   "metadata": {
    "execution": {
     "iopub.execute_input": "2025-03-22T15:12:14.059767Z",
     "iopub.status.busy": "2025-03-22T15:12:14.059407Z",
     "iopub.status.idle": "2025-03-22T15:15:27.819825Z",
     "shell.execute_reply": "2025-03-22T15:15:27.819010Z"
    },
    "papermill": {
     "duration": 193.832639,
     "end_time": "2025-03-22T15:15:27.867397",
     "exception": false,
     "start_time": "2025-03-22T15:12:14.034758",
     "status": "completed"
    },
    "tags": []
   },
   "outputs": [
    {
     "name": "stdout",
     "output_type": "stream",
     "text": [
      "0:\tlearn: 0.4711337\ttest: 0.4790973\tbest: 0.4790973 (0)\ttotal: 1.64s\tremaining: 13m 36s\n",
      "1:\tlearn: 0.3217296\ttest: 0.3304818\tbest: 0.3304818 (1)\ttotal: 1.73s\tremaining: 7m 12s\n",
      "2:\tlearn: 0.2294263\ttest: 0.2366743\tbest: 0.2366743 (2)\ttotal: 2.43s\tremaining: 6m 42s\n",
      "3:\tlearn: 0.1577820\ttest: 0.1952904\tbest: 0.1952904 (3)\ttotal: 2.81s\tremaining: 5m 48s\n",
      "4:\tlearn: 0.1209061\ttest: 0.1502403\tbest: 0.1502403 (4)\ttotal: 2.95s\tremaining: 4m 52s\n",
      "5:\tlearn: 0.0984395\ttest: 0.1232686\tbest: 0.1232686 (5)\ttotal: 3.17s\tremaining: 4m 21s\n",
      "6:\tlearn: 0.0798638\ttest: 0.1113324\tbest: 0.1113324 (6)\ttotal: 3.31s\tremaining: 3m 53s\n",
      "7:\tlearn: 0.0666828\ttest: 0.1016869\tbest: 0.1016869 (7)\ttotal: 3.53s\tremaining: 3m 37s\n",
      "8:\tlearn: 0.0573760\ttest: 0.0934701\tbest: 0.0934701 (8)\ttotal: 13.3s\tremaining: 12m 5s\n",
      "9:\tlearn: 0.0515642\ttest: 0.0829841\tbest: 0.0829841 (9)\ttotal: 23.1s\tremaining: 18m 51s\n",
      "10:\tlearn: 0.0471958\ttest: 0.0752693\tbest: 0.0752693 (10)\ttotal: 33s\tremaining: 24m 26s\n",
      "11:\tlearn: 0.0424333\ttest: 0.0728424\tbest: 0.0728424 (11)\ttotal: 43s\tremaining: 29m 7s\n",
      "12:\tlearn: 0.0389502\ttest: 0.0703526\tbest: 0.0703526 (12)\ttotal: 53.1s\tremaining: 33m 7s\n",
      "13:\tlearn: 0.0374574\ttest: 0.0663587\tbest: 0.0663587 (13)\ttotal: 53.3s\tremaining: 30m 49s\n",
      "14:\tlearn: 0.0353321\ttest: 0.0632283\tbest: 0.0632283 (14)\ttotal: 1m 3s\tremaining: 34m 11s\n",
      "15:\tlearn: 0.0339945\ttest: 0.0633016\tbest: 0.0632283 (14)\ttotal: 1m 4s\tremaining: 32m 42s\n",
      "16:\tlearn: 0.0327268\ttest: 0.0629571\tbest: 0.0629571 (16)\ttotal: 1m 5s\tremaining: 30m 49s\n",
      "17:\tlearn: 0.0317415\ttest: 0.0600633\tbest: 0.0600633 (17)\ttotal: 1m 15s\tremaining: 33m 39s\n",
      "18:\tlearn: 0.0307974\ttest: 0.0603924\tbest: 0.0600633 (17)\ttotal: 1m 25s\tremaining: 36m 13s\n",
      "19:\tlearn: 0.0301431\ttest: 0.0586019\tbest: 0.0586019 (19)\ttotal: 1m 36s\tremaining: 38m 32s\n",
      "20:\tlearn: 0.0292950\ttest: 0.0580110\tbest: 0.0580110 (20)\ttotal: 1m 46s\tremaining: 40m 40s\n",
      "21:\tlearn: 0.0286772\ttest: 0.0565385\tbest: 0.0565385 (21)\ttotal: 1m 57s\tremaining: 42m 34s\n",
      "22:\tlearn: 0.0278407\ttest: 0.0565802\tbest: 0.0565385 (21)\ttotal: 2m 8s\tremaining: 44m 17s\n",
      "23:\tlearn: 0.0272845\ttest: 0.0555527\tbest: 0.0555527 (23)\ttotal: 2m 18s\tremaining: 45m 49s\n",
      "24:\tlearn: 0.0265200\ttest: 0.0550467\tbest: 0.0550467 (24)\ttotal: 2m 29s\tremaining: 47m 12s\n",
      "25:\tlearn: 0.0258510\ttest: 0.0549085\tbest: 0.0549085 (25)\ttotal: 2m 29s\tremaining: 45m 31s\n",
      "26:\tlearn: 0.0252874\ttest: 0.0546007\tbest: 0.0546007 (26)\ttotal: 2m 40s\tremaining: 46m 47s\n",
      "27:\tlearn: 0.0249739\ttest: 0.0547845\tbest: 0.0546007 (26)\ttotal: 2m 50s\tremaining: 47m 57s\n",
      "28:\tlearn: 0.0246054\ttest: 0.0538895\tbest: 0.0538895 (28)\ttotal: 2m 52s\tremaining: 46m 35s\n",
      "29:\tlearn: 0.0241808\ttest: 0.0543658\tbest: 0.0538895 (28)\ttotal: 3m 2s\tremaining: 47m 41s\n",
      "30:\tlearn: 0.0235826\ttest: 0.0539990\tbest: 0.0538895 (28)\ttotal: 3m 13s\tremaining: 48m 41s\n",
      "bestTest = 0.05388945704\n",
      "bestIteration = 28\n",
      "Shrink model to first 29 iterations.\n"
     ]
    },
    {
     "data": {
      "text/plain": [
       "<catboost.core.CatBoostClassifier at 0x7f36438c30d0>"
      ]
     },
     "execution_count": 37,
     "metadata": {},
     "output_type": "execute_result"
    }
   ],
   "source": [
    "catboost_model.fit(\n",
    "    X_meta_train_4, y_meta_train_4, \n",
    "    eval_set=[(X_meta_val_4, y_meta_val_4)], \n",
    "    early_stopping_rounds=2, \n",
    "    verbose=True\n",
    ")"
   ]
  },
  {
   "cell_type": "markdown",
   "id": "3301435d",
   "metadata": {
    "papermill": {
     "duration": 0.04552,
     "end_time": "2025-03-22T15:15:27.958589",
     "exception": false,
     "start_time": "2025-03-22T15:15:27.913069",
     "status": "completed"
    },
    "tags": []
   },
   "source": [
    "## Convolutional layers"
   ]
  },
  {
   "cell_type": "markdown",
   "id": "e8baedeb",
   "metadata": {
    "papermill": {
     "duration": 0.045146,
     "end_time": "2025-03-22T15:15:28.049506",
     "exception": false,
     "start_time": "2025-03-22T15:15:28.004360",
     "status": "completed"
    },
    "tags": []
   },
   "source": [
    "### Prepare images for training using Image generator\n"
   ]
  },
  {
   "cell_type": "code",
   "execution_count": 38,
   "id": "65444750",
   "metadata": {
    "execution": {
     "iopub.execute_input": "2025-03-22T15:15:28.141700Z",
     "iopub.status.busy": "2025-03-22T15:15:28.140809Z",
     "iopub.status.idle": "2025-03-22T15:15:28.149280Z",
     "shell.execute_reply": "2025-03-22T15:15:28.148610Z"
    },
    "papermill": {
     "duration": 0.057291,
     "end_time": "2025-03-22T15:15:28.151757",
     "exception": false,
     "start_time": "2025-03-22T15:15:28.094466",
     "status": "completed"
    },
    "tags": []
   },
   "outputs": [
    {
     "name": "stdout",
     "output_type": "stream",
     "text": [
      "done\n"
     ]
    }
   ],
   "source": [
    "# This is an image generator to feed batches of images into the training loop, seeing as it destroyed memory usage the other way \n",
    "\n",
    "def image_data_generator(image_series, label_series, batch_size, target_size):\n",
    "    num_samples = len(image_series)\n",
    "    while True:  # Loop forever so the generator never terminates\n",
    "        for offset in range(0, num_samples, batch_size):\n",
    "            batch_images = image_series[offset:offset + batch_size]\n",
    "            batch_labels = label_series[offset:offset + batch_size]\n",
    "\n",
    "            images = []\n",
    "            for image in batch_images:\n",
    "                image = np.array(Image.open(io.BytesIO(image))) # Take image as numpy array\n",
    "                image = np.array(image, dtype='float32')  # Ensure correct data type\n",
    "                image = tf.image.resize(image, target_size)\n",
    "                images.append(image)\n",
    "\n",
    "            # Normalize pixel values if needed\n",
    "            images = np.array(images) / 255.0\n",
    "            labels = np.array(batch_labels)\n",
    "\n",
    "            yield images, labels\n",
    "\n",
    "print('done')"
   ]
  },
  {
   "cell_type": "code",
   "execution_count": 39,
   "id": "be97fd42",
   "metadata": {
    "execution": {
     "iopub.execute_input": "2025-03-22T15:15:28.246940Z",
     "iopub.status.busy": "2025-03-22T15:15:28.246363Z",
     "iopub.status.idle": "2025-03-22T15:15:28.253414Z",
     "shell.execute_reply": "2025-03-22T15:15:28.252790Z"
    },
    "papermill": {
     "duration": 0.056407,
     "end_time": "2025-03-22T15:15:28.255590",
     "exception": false,
     "start_time": "2025-03-22T15:15:28.199183",
     "status": "completed"
    },
    "tags": []
   },
   "outputs": [
    {
     "name": "stdout",
     "output_type": "stream",
     "text": [
      "done\n",
      "done\n"
     ]
    }
   ],
   "source": [
    "# Get the x and y's of both training and validation sets\n",
    "\n",
    "X_image_train_1 = image_train_1['image_data']\n",
    "y_image_train_1 = y_meta_train_1 # Now remember the target column was part of the meta data, but we already got this column seperated in the XGBOOST section\n",
    "\n",
    "\n",
    "X_image_val_1 = image_val_1['image_data']\n",
    "y_image_val_1 = y_meta_val_1\n",
    "print('done')\n",
    "\n",
    "\n",
    "#  Now for training set 2\n",
    "\n",
    "\n",
    "X_image_train_3 = image_train_3['image_data']\n",
    "y_image_train_3 = meta_train_3['target']\n",
    "\n",
    "\n",
    "X_image_val_3 = image_val_3['image_data']\n",
    "y_image_val_3 = meta_val_3['target']\n",
    "\n",
    "# For stacking\n",
    "X_image_train_5 = image_train_5['image_data']\n",
    "y_image_train_5 = meta_train_5['target']\n",
    "\n",
    "\n",
    "X_image_val_5 = image_val_5['image_data']\n",
    "y_image_val_5 = meta_val_5['target']\n",
    "print('done')\n"
   ]
  },
  {
   "cell_type": "code",
   "execution_count": 40,
   "id": "86e3726c",
   "metadata": {
    "execution": {
     "iopub.execute_input": "2025-03-22T15:15:28.347889Z",
     "iopub.status.busy": "2025-03-22T15:15:28.347271Z",
     "iopub.status.idle": "2025-03-22T15:15:28.938275Z",
     "shell.execute_reply": "2025-03-22T15:15:28.937288Z"
    },
    "papermill": {
     "duration": 0.63911,
     "end_time": "2025-03-22T15:15:28.940011",
     "exception": false,
     "start_time": "2025-03-22T15:15:28.300901",
     "status": "completed"
    },
    "tags": []
   },
   "outputs": [
    {
     "name": "stdout",
     "output_type": "stream",
     "text": [
      "done\n"
     ]
    }
   ],
   "source": [
    "# Here we have defined the model, expect not using keras sequential baybeee\n",
    "\n",
    "# Define the input\n",
    "input_layer = Input(shape=(100, 100, 3))\n",
    "\n",
    "x = Conv2D(filters=25, kernel_size=2, activation='relu', padding='same')(input_layer)\n",
    "x = MaxPooling2D(pool_size=(2, 2))(x)\n",
    "x=  Dropout(0.25)(x)\n",
    "\n",
    "x = Conv2D(filters=50, kernel_size=2, activation='relu', padding='same')(x)\n",
    "x = MaxPooling2D(pool_size=(2, 2))(x)\n",
    "x=  Dropout(0.25)(x)\n",
    "\n",
    "x = Conv2D(filters=100, kernel_size=2, activation='relu', padding='same')(x)\n",
    "\n",
    "x = Flatten()(x)\n",
    "x = BatchNormalization()(x)\n",
    "\n",
    "x = Dense(150, activation='relu')(x)\n",
    "x=  Dropout(0.25)(x)\n",
    "x = Dense(100, activation='relu')(x)\n",
    "x=  Dropout(0.25)(x)\n",
    "x = Dense(50, activation='relu')(x)\n",
    "x=  Dropout(0.25)(x)\n",
    "\n",
    "output_layer = Dense(1, activation='sigmoid')(x)\n",
    "\n",
    "\n",
    "# Now we create both models\n",
    "cnn_model_1 = Model(inputs=input_layer, outputs=output_layer)\n",
    "# cnn_model_2 = Model(inputs=input_layer, outputs=output_layer)\n",
    "\n",
    "print('done')"
   ]
  },
  {
   "cell_type": "code",
   "execution_count": 41,
   "id": "7964c7fd",
   "metadata": {
    "execution": {
     "iopub.execute_input": "2025-03-22T15:15:28.991809Z",
     "iopub.status.busy": "2025-03-22T15:15:28.991226Z",
     "iopub.status.idle": "2025-03-22T15:15:29.048282Z",
     "shell.execute_reply": "2025-03-22T15:15:29.047482Z"
    },
    "papermill": {
     "duration": 0.08434,
     "end_time": "2025-03-22T15:15:29.049846",
     "exception": false,
     "start_time": "2025-03-22T15:15:28.965506",
     "status": "completed"
    },
    "tags": []
   },
   "outputs": [
    {
     "name": "stdout",
     "output_type": "stream",
     "text": [
      "done\n"
     ]
    }
   ],
   "source": [
    "# The other cnn model in the ensemble\n",
    "\n",
    "# Define the input\n",
    "input_layer = Input(shape=(100, 100, 3))\n",
    "\n",
    "x = Conv2D(filters=25, kernel_size=2, activation='relu', padding='same')(input_layer)\n",
    "x = MaxPooling2D(pool_size=(2, 2))(x)\n",
    "x=  Dropout(0.25)(x)\n",
    "x = Conv2D(filters=50, kernel_size=2, activation='relu', padding='same')(x)\n",
    "x = MaxPooling2D(pool_size=(2, 2))(x)\n",
    "x=  Dropout(0.25)(x)\n",
    "\n",
    "x = Flatten()(x)\n",
    "x = BatchNormalization()(x)\n",
    "\n",
    "x = Dense(100, activation='relu')(x)\n",
    "x=  Dropout(0.25)(x)\n",
    "x = Dense(50, activation='relu')(x)\n",
    "x=  Dropout(0.25)(x)\n",
    "\n",
    "output_layer = Dense(1, activation='sigmoid')(x)\n",
    "\n",
    "\n",
    "# Now we create both models\n",
    "cnn_model_3 = Model(inputs=input_layer, outputs=output_layer)\n",
    "\n",
    "print('done')"
   ]
  },
  {
   "cell_type": "code",
   "execution_count": 42,
   "id": "8b4f5d04",
   "metadata": {
    "execution": {
     "iopub.execute_input": "2025-03-22T15:15:29.101616Z",
     "iopub.status.busy": "2025-03-22T15:15:29.100905Z",
     "iopub.status.idle": "2025-03-22T15:15:29.113352Z",
     "shell.execute_reply": "2025-03-22T15:15:29.112679Z"
    },
    "papermill": {
     "duration": 0.039813,
     "end_time": "2025-03-22T15:15:29.114869",
     "exception": false,
     "start_time": "2025-03-22T15:15:29.075056",
     "status": "completed"
    },
    "tags": []
   },
   "outputs": [
    {
     "name": "stdout",
     "output_type": "stream",
     "text": [
      "done\n"
     ]
    }
   ],
   "source": [
    "# Choose loss function, optimizer and metrics\n",
    "cnn_model_1.compile(\n",
    "    optimizer='adam',\n",
    "    loss='binary_crossentropy',\n",
    "    metrics=['binary_accuracy']\n",
    ")\n",
    "print('done')"
   ]
  },
  {
   "cell_type": "code",
   "execution_count": 43,
   "id": "08196269",
   "metadata": {
    "execution": {
     "iopub.execute_input": "2025-03-22T15:15:29.165712Z",
     "iopub.status.busy": "2025-03-22T15:15:29.165006Z",
     "iopub.status.idle": "2025-03-22T15:15:29.172654Z",
     "shell.execute_reply": "2025-03-22T15:15:29.171827Z"
    },
    "papermill": {
     "duration": 0.034331,
     "end_time": "2025-03-22T15:15:29.174114",
     "exception": false,
     "start_time": "2025-03-22T15:15:29.139783",
     "status": "completed"
    },
    "tags": []
   },
   "outputs": [
    {
     "name": "stdout",
     "output_type": "stream",
     "text": [
      "done\n"
     ]
    }
   ],
   "source": [
    "# Choose loss function, optimizer and metrics\n",
    "cnn_model_3.compile(\n",
    "    optimizer='adam',\n",
    "    loss='binary_crossentropy',\n",
    "    metrics=['binary_accuracy']\n",
    ")\n",
    "\n",
    "print('done')"
   ]
  },
  {
   "cell_type": "code",
   "execution_count": 44,
   "id": "c4ddab6e",
   "metadata": {
    "execution": {
     "iopub.execute_input": "2025-03-22T15:15:29.226851Z",
     "iopub.status.busy": "2025-03-22T15:15:29.226580Z",
     "iopub.status.idle": "2025-03-22T15:15:29.231052Z",
     "shell.execute_reply": "2025-03-22T15:15:29.230110Z"
    },
    "papermill": {
     "duration": 0.033712,
     "end_time": "2025-03-22T15:15:29.232893",
     "exception": false,
     "start_time": "2025-03-22T15:15:29.199181",
     "status": "completed"
    },
    "tags": []
   },
   "outputs": [
    {
     "name": "stdout",
     "output_type": "stream",
     "text": [
      "(192633,)\n",
      "(32368,)\n"
     ]
    }
   ],
   "source": [
    "print(X_image_train_1.shape) # MAIN MODEL\n",
    "print(X_image_train_3.shape) # CNN"
   ]
  },
  {
   "cell_type": "markdown",
   "id": "24901790",
   "metadata": {
    "papermill": {
     "duration": 0.024925,
     "end_time": "2025-03-22T15:15:29.285195",
     "exception": false,
     "start_time": "2025-03-22T15:15:29.260270",
     "status": "completed"
    },
    "tags": []
   },
   "source": [
    "Oh boy, now we gotta do this for both sets seperately"
   ]
  },
  {
   "cell_type": "code",
   "execution_count": 45,
   "id": "2e8894f3",
   "metadata": {
    "execution": {
     "iopub.execute_input": "2025-03-22T15:15:29.336996Z",
     "iopub.status.busy": "2025-03-22T15:15:29.336262Z",
     "iopub.status.idle": "2025-03-22T15:21:29.804138Z",
     "shell.execute_reply": "2025-03-22T15:21:29.803173Z"
    },
    "papermill": {
     "duration": 360.495819,
     "end_time": "2025-03-22T15:21:29.806071",
     "exception": false,
     "start_time": "2025-03-22T15:15:29.310252",
     "status": "completed"
    },
    "tags": []
   },
   "outputs": [
    {
     "name": "stdout",
     "output_type": "stream",
     "text": [
      "\u001b[1m  1/385\u001b[0m \u001b[37m━━━━━━━━━━━━━━━━━━━━\u001b[0m \u001b[1m2:14:57\u001b[0m 21s/step - binary_accuracy: 0.5820 - loss: 0.7347"
     ]
    },
    {
     "name": "stderr",
     "output_type": "stream",
     "text": [
      "WARNING: All log messages before absl::InitializeLog() is called are written to STDERR\n",
      "I0000 00:00:1742656551.501385      99 device_compiler.h:186] Compiled cluster using XLA!  This line is logged at most once for the lifetime of the process.\n",
      "W0000 00:00:1742656551.514964      99 graph_launch.cc:671] Fallback to op-by-op mode because memset node breaks graph update\n"
     ]
    },
    {
     "name": "stdout",
     "output_type": "stream",
     "text": [
      "\u001b[1m385/385\u001b[0m \u001b[32m━━━━━━━━━━━━━━━━━━━━\u001b[0m\u001b[37m\u001b[0m \u001b[1m0s\u001b[0m 714ms/step - binary_accuracy: 0.9743 - loss: 0.0592"
     ]
    },
    {
     "name": "stderr",
     "output_type": "stream",
     "text": [
      "W0000 00:00:1742656828.087634     100 graph_launch.cc:671] Fallback to op-by-op mode because memset node breaks graph update\n"
     ]
    },
    {
     "name": "stdout",
     "output_type": "stream",
     "text": [
      "\u001b[1m385/385\u001b[0m \u001b[32m━━━━━━━━━━━━━━━━━━━━\u001b[0m\u001b[37m\u001b[0m \u001b[1m359s\u001b[0m 880ms/step - binary_accuracy: 0.9744 - loss: 0.0590 - val_binary_accuracy: 0.9983 - val_loss: 0.1879\n",
      "{'binary_accuracy': [0.9953091144561768], 'loss': [0.011044896207749844], 'val_binary_accuracy': [0.9982708096504211], 'val_loss': [0.18788102269172668]}\n"
     ]
    }
   ],
   "source": [
    "batch_size = 500\n",
    "target_size = (100, 100)\n",
    "train_generator_1 = image_data_generator(image_series=X_image_train_1, label_series=y_image_train_1, batch_size=batch_size, target_size=target_size)\n",
    "val_generator_1 = image_data_generator(image_series=X_image_val_1, label_series=y_image_val_1, batch_size=batch_size, target_size=target_size)\n",
    "\n",
    "# Need to define steps per epoch since we are using image generators, it doesnt know how many batches it should be fed per epoch \n",
    "steps_per_epoch_1 = len(X_image_train_1) // batch_size\n",
    "validation_steps_1 = len(X_image_val_1) // batch_size\n",
    "\n",
    "# Train the model using the custom generator\n",
    "history_1 = cnn_model_1.fit(\n",
    "    train_generator_1,\n",
    "    steps_per_epoch=steps_per_epoch_1,\n",
    "    validation_data=val_generator_1,\n",
    "    validation_steps=validation_steps_1,\n",
    "    epochs=1,\n",
    "    callbacks=[keras.callbacks.EarlyStopping(monitor='val_loss', patience=2, restore_best_weights=True)]\n",
    ")\n",
    "\n",
    "# Check the training history\n",
    "print(history_1.history)\n"
   ]
  },
  {
   "cell_type": "code",
   "execution_count": 46,
   "id": "53563bb5",
   "metadata": {
    "execution": {
     "iopub.execute_input": "2025-03-22T15:21:29.892152Z",
     "iopub.status.busy": "2025-03-22T15:21:29.891867Z",
     "iopub.status.idle": "2025-03-22T15:22:34.043397Z",
     "shell.execute_reply": "2025-03-22T15:22:34.042427Z"
    },
    "papermill": {
     "duration": 64.19626,
     "end_time": "2025-03-22T15:22:34.045424",
     "exception": false,
     "start_time": "2025-03-22T15:21:29.849164",
     "status": "completed"
    },
    "tags": []
   },
   "outputs": [
    {
     "name": "stdout",
     "output_type": "stream",
     "text": [
      "\u001b[1m64/64\u001b[0m \u001b[32m━━━━━━━━━━━━━━━━━━━━\u001b[0m\u001b[37m\u001b[0m \u001b[1m63s\u001b[0m 876ms/step - binary_accuracy: 0.9040 - loss: 0.2110 - val_binary_accuracy: 0.9889 - val_loss: 0.2089\n",
      "{'binary_accuracy': [0.9743124842643738], 'loss': [0.05946175754070282], 'val_binary_accuracy': [0.9888749718666077], 'val_loss': [0.20885556936264038]}\n"
     ]
    }
   ],
   "source": [
    "target_size = (100, 100)\n",
    "train_generator_3 = image_data_generator(image_series=X_image_train_3, label_series=y_image_train_3, batch_size=batch_size, target_size=target_size)\n",
    "val_generator_3 = image_data_generator(image_series=X_image_val_3, label_series=y_image_val_3, batch_size=batch_size, target_size=target_size)\n",
    "\n",
    "# Need to define steps per epoch since we are using image generators, it doesnt know how many batches it should be fed per epoch \n",
    "steps_per_epoch_3 = len(X_image_train_3) // batch_size\n",
    "validation_steps_3 = len(X_image_val_3) // batch_size\n",
    "\n",
    "# Train the model using the custom generator\n",
    "history_3 = cnn_model_3.fit(\n",
    "    train_generator_3,\n",
    "    steps_per_epoch=steps_per_epoch_3,\n",
    "    validation_data=val_generator_3,\n",
    "    validation_steps=validation_steps_3,\n",
    "    epochs=1,\n",
    "    callbacks=[keras.callbacks.EarlyStopping(monitor='val_loss', patience=2, restore_best_weights=True)]\n",
    ")\n",
    "\n",
    "# Check the training history\n",
    "print(history_3.history)\n"
   ]
  },
  {
   "cell_type": "code",
   "execution_count": 47,
   "id": "e66b02cf",
   "metadata": {
    "execution": {
     "iopub.execute_input": "2025-03-22T15:22:34.137331Z",
     "iopub.status.busy": "2025-03-22T15:22:34.136677Z",
     "iopub.status.idle": "2025-03-22T15:22:34.162250Z",
     "shell.execute_reply": "2025-03-22T15:22:34.161515Z"
    },
    "papermill": {
     "duration": 0.072741,
     "end_time": "2025-03-22T15:22:34.163807",
     "exception": false,
     "start_time": "2025-03-22T15:22:34.091066",
     "status": "completed"
    },
    "tags": []
   },
   "outputs": [
    {
     "data": {
      "text/html": [
       "<pre style=\"white-space:pre;overflow-x:auto;line-height:normal;font-family:Menlo,'DejaVu Sans Mono',consolas,'Courier New',monospace\"><span style=\"font-weight: bold\">Model: \"functional\"</span>\n",
       "</pre>\n"
      ],
      "text/plain": [
       "\u001b[1mModel: \"functional\"\u001b[0m\n"
      ]
     },
     "metadata": {},
     "output_type": "display_data"
    },
    {
     "data": {
      "text/html": [
       "<pre style=\"white-space:pre;overflow-x:auto;line-height:normal;font-family:Menlo,'DejaVu Sans Mono',consolas,'Courier New',monospace\">┏━━━━━━━━━━━━━━━━━━━━━━━━━━━━━━━━━┳━━━━━━━━━━━━━━━━━━━━━━━━┳━━━━━━━━━━━━━━━┓\n",
       "┃<span style=\"font-weight: bold\"> Layer (type)                    </span>┃<span style=\"font-weight: bold\"> Output Shape           </span>┃<span style=\"font-weight: bold\">       Param # </span>┃\n",
       "┡━━━━━━━━━━━━━━━━━━━━━━━━━━━━━━━━━╇━━━━━━━━━━━━━━━━━━━━━━━━╇━━━━━━━━━━━━━━━┩\n",
       "│ input_layer (<span style=\"color: #0087ff; text-decoration-color: #0087ff\">InputLayer</span>)        │ (<span style=\"color: #00d7ff; text-decoration-color: #00d7ff\">None</span>, <span style=\"color: #00af00; text-decoration-color: #00af00\">100</span>, <span style=\"color: #00af00; text-decoration-color: #00af00\">100</span>, <span style=\"color: #00af00; text-decoration-color: #00af00\">3</span>)    │             <span style=\"color: #00af00; text-decoration-color: #00af00\">0</span> │\n",
       "├─────────────────────────────────┼────────────────────────┼───────────────┤\n",
       "│ conv2d (<span style=\"color: #0087ff; text-decoration-color: #0087ff\">Conv2D</span>)                 │ (<span style=\"color: #00d7ff; text-decoration-color: #00d7ff\">None</span>, <span style=\"color: #00af00; text-decoration-color: #00af00\">100</span>, <span style=\"color: #00af00; text-decoration-color: #00af00\">100</span>, <span style=\"color: #00af00; text-decoration-color: #00af00\">25</span>)   │           <span style=\"color: #00af00; text-decoration-color: #00af00\">325</span> │\n",
       "├─────────────────────────────────┼────────────────────────┼───────────────┤\n",
       "│ max_pooling2d (<span style=\"color: #0087ff; text-decoration-color: #0087ff\">MaxPooling2D</span>)    │ (<span style=\"color: #00d7ff; text-decoration-color: #00d7ff\">None</span>, <span style=\"color: #00af00; text-decoration-color: #00af00\">50</span>, <span style=\"color: #00af00; text-decoration-color: #00af00\">50</span>, <span style=\"color: #00af00; text-decoration-color: #00af00\">25</span>)     │             <span style=\"color: #00af00; text-decoration-color: #00af00\">0</span> │\n",
       "├─────────────────────────────────┼────────────────────────┼───────────────┤\n",
       "│ dropout (<span style=\"color: #0087ff; text-decoration-color: #0087ff\">Dropout</span>)               │ (<span style=\"color: #00d7ff; text-decoration-color: #00d7ff\">None</span>, <span style=\"color: #00af00; text-decoration-color: #00af00\">50</span>, <span style=\"color: #00af00; text-decoration-color: #00af00\">50</span>, <span style=\"color: #00af00; text-decoration-color: #00af00\">25</span>)     │             <span style=\"color: #00af00; text-decoration-color: #00af00\">0</span> │\n",
       "├─────────────────────────────────┼────────────────────────┼───────────────┤\n",
       "│ conv2d_1 (<span style=\"color: #0087ff; text-decoration-color: #0087ff\">Conv2D</span>)               │ (<span style=\"color: #00d7ff; text-decoration-color: #00d7ff\">None</span>, <span style=\"color: #00af00; text-decoration-color: #00af00\">50</span>, <span style=\"color: #00af00; text-decoration-color: #00af00\">50</span>, <span style=\"color: #00af00; text-decoration-color: #00af00\">50</span>)     │         <span style=\"color: #00af00; text-decoration-color: #00af00\">5,050</span> │\n",
       "├─────────────────────────────────┼────────────────────────┼───────────────┤\n",
       "│ max_pooling2d_1 (<span style=\"color: #0087ff; text-decoration-color: #0087ff\">MaxPooling2D</span>)  │ (<span style=\"color: #00d7ff; text-decoration-color: #00d7ff\">None</span>, <span style=\"color: #00af00; text-decoration-color: #00af00\">25</span>, <span style=\"color: #00af00; text-decoration-color: #00af00\">25</span>, <span style=\"color: #00af00; text-decoration-color: #00af00\">50</span>)     │             <span style=\"color: #00af00; text-decoration-color: #00af00\">0</span> │\n",
       "├─────────────────────────────────┼────────────────────────┼───────────────┤\n",
       "│ dropout_1 (<span style=\"color: #0087ff; text-decoration-color: #0087ff\">Dropout</span>)             │ (<span style=\"color: #00d7ff; text-decoration-color: #00d7ff\">None</span>, <span style=\"color: #00af00; text-decoration-color: #00af00\">25</span>, <span style=\"color: #00af00; text-decoration-color: #00af00\">25</span>, <span style=\"color: #00af00; text-decoration-color: #00af00\">50</span>)     │             <span style=\"color: #00af00; text-decoration-color: #00af00\">0</span> │\n",
       "├─────────────────────────────────┼────────────────────────┼───────────────┤\n",
       "│ conv2d_2 (<span style=\"color: #0087ff; text-decoration-color: #0087ff\">Conv2D</span>)               │ (<span style=\"color: #00d7ff; text-decoration-color: #00d7ff\">None</span>, <span style=\"color: #00af00; text-decoration-color: #00af00\">25</span>, <span style=\"color: #00af00; text-decoration-color: #00af00\">25</span>, <span style=\"color: #00af00; text-decoration-color: #00af00\">100</span>)    │        <span style=\"color: #00af00; text-decoration-color: #00af00\">20,100</span> │\n",
       "├─────────────────────────────────┼────────────────────────┼───────────────┤\n",
       "│ flatten (<span style=\"color: #0087ff; text-decoration-color: #0087ff\">Flatten</span>)               │ (<span style=\"color: #00d7ff; text-decoration-color: #00d7ff\">None</span>, <span style=\"color: #00af00; text-decoration-color: #00af00\">62500</span>)          │             <span style=\"color: #00af00; text-decoration-color: #00af00\">0</span> │\n",
       "├─────────────────────────────────┼────────────────────────┼───────────────┤\n",
       "│ batch_normalization             │ (<span style=\"color: #00d7ff; text-decoration-color: #00d7ff\">None</span>, <span style=\"color: #00af00; text-decoration-color: #00af00\">62500</span>)          │       <span style=\"color: #00af00; text-decoration-color: #00af00\">250,000</span> │\n",
       "│ (<span style=\"color: #0087ff; text-decoration-color: #0087ff\">BatchNormalization</span>)            │                        │               │\n",
       "├─────────────────────────────────┼────────────────────────┼───────────────┤\n",
       "│ dense (<span style=\"color: #0087ff; text-decoration-color: #0087ff\">Dense</span>)                   │ (<span style=\"color: #00d7ff; text-decoration-color: #00d7ff\">None</span>, <span style=\"color: #00af00; text-decoration-color: #00af00\">150</span>)            │     <span style=\"color: #00af00; text-decoration-color: #00af00\">9,375,150</span> │\n",
       "├─────────────────────────────────┼────────────────────────┼───────────────┤\n",
       "│ dropout_2 (<span style=\"color: #0087ff; text-decoration-color: #0087ff\">Dropout</span>)             │ (<span style=\"color: #00d7ff; text-decoration-color: #00d7ff\">None</span>, <span style=\"color: #00af00; text-decoration-color: #00af00\">150</span>)            │             <span style=\"color: #00af00; text-decoration-color: #00af00\">0</span> │\n",
       "├─────────────────────────────────┼────────────────────────┼───────────────┤\n",
       "│ dense_1 (<span style=\"color: #0087ff; text-decoration-color: #0087ff\">Dense</span>)                 │ (<span style=\"color: #00d7ff; text-decoration-color: #00d7ff\">None</span>, <span style=\"color: #00af00; text-decoration-color: #00af00\">100</span>)            │        <span style=\"color: #00af00; text-decoration-color: #00af00\">15,100</span> │\n",
       "├─────────────────────────────────┼────────────────────────┼───────────────┤\n",
       "│ dropout_3 (<span style=\"color: #0087ff; text-decoration-color: #0087ff\">Dropout</span>)             │ (<span style=\"color: #00d7ff; text-decoration-color: #00d7ff\">None</span>, <span style=\"color: #00af00; text-decoration-color: #00af00\">100</span>)            │             <span style=\"color: #00af00; text-decoration-color: #00af00\">0</span> │\n",
       "├─────────────────────────────────┼────────────────────────┼───────────────┤\n",
       "│ dense_2 (<span style=\"color: #0087ff; text-decoration-color: #0087ff\">Dense</span>)                 │ (<span style=\"color: #00d7ff; text-decoration-color: #00d7ff\">None</span>, <span style=\"color: #00af00; text-decoration-color: #00af00\">50</span>)             │         <span style=\"color: #00af00; text-decoration-color: #00af00\">5,050</span> │\n",
       "├─────────────────────────────────┼────────────────────────┼───────────────┤\n",
       "│ dropout_4 (<span style=\"color: #0087ff; text-decoration-color: #0087ff\">Dropout</span>)             │ (<span style=\"color: #00d7ff; text-decoration-color: #00d7ff\">None</span>, <span style=\"color: #00af00; text-decoration-color: #00af00\">50</span>)             │             <span style=\"color: #00af00; text-decoration-color: #00af00\">0</span> │\n",
       "├─────────────────────────────────┼────────────────────────┼───────────────┤\n",
       "│ dense_3 (<span style=\"color: #0087ff; text-decoration-color: #0087ff\">Dense</span>)                 │ (<span style=\"color: #00d7ff; text-decoration-color: #00d7ff\">None</span>, <span style=\"color: #00af00; text-decoration-color: #00af00\">1</span>)              │            <span style=\"color: #00af00; text-decoration-color: #00af00\">51</span> │\n",
       "└─────────────────────────────────┴────────────────────────┴───────────────┘\n",
       "</pre>\n"
      ],
      "text/plain": [
       "┏━━━━━━━━━━━━━━━━━━━━━━━━━━━━━━━━━┳━━━━━━━━━━━━━━━━━━━━━━━━┳━━━━━━━━━━━━━━━┓\n",
       "┃\u001b[1m \u001b[0m\u001b[1mLayer (type)                   \u001b[0m\u001b[1m \u001b[0m┃\u001b[1m \u001b[0m\u001b[1mOutput Shape          \u001b[0m\u001b[1m \u001b[0m┃\u001b[1m \u001b[0m\u001b[1m      Param #\u001b[0m\u001b[1m \u001b[0m┃\n",
       "┡━━━━━━━━━━━━━━━━━━━━━━━━━━━━━━━━━╇━━━━━━━━━━━━━━━━━━━━━━━━╇━━━━━━━━━━━━━━━┩\n",
       "│ input_layer (\u001b[38;5;33mInputLayer\u001b[0m)        │ (\u001b[38;5;45mNone\u001b[0m, \u001b[38;5;34m100\u001b[0m, \u001b[38;5;34m100\u001b[0m, \u001b[38;5;34m3\u001b[0m)    │             \u001b[38;5;34m0\u001b[0m │\n",
       "├─────────────────────────────────┼────────────────────────┼───────────────┤\n",
       "│ conv2d (\u001b[38;5;33mConv2D\u001b[0m)                 │ (\u001b[38;5;45mNone\u001b[0m, \u001b[38;5;34m100\u001b[0m, \u001b[38;5;34m100\u001b[0m, \u001b[38;5;34m25\u001b[0m)   │           \u001b[38;5;34m325\u001b[0m │\n",
       "├─────────────────────────────────┼────────────────────────┼───────────────┤\n",
       "│ max_pooling2d (\u001b[38;5;33mMaxPooling2D\u001b[0m)    │ (\u001b[38;5;45mNone\u001b[0m, \u001b[38;5;34m50\u001b[0m, \u001b[38;5;34m50\u001b[0m, \u001b[38;5;34m25\u001b[0m)     │             \u001b[38;5;34m0\u001b[0m │\n",
       "├─────────────────────────────────┼────────────────────────┼───────────────┤\n",
       "│ dropout (\u001b[38;5;33mDropout\u001b[0m)               │ (\u001b[38;5;45mNone\u001b[0m, \u001b[38;5;34m50\u001b[0m, \u001b[38;5;34m50\u001b[0m, \u001b[38;5;34m25\u001b[0m)     │             \u001b[38;5;34m0\u001b[0m │\n",
       "├─────────────────────────────────┼────────────────────────┼───────────────┤\n",
       "│ conv2d_1 (\u001b[38;5;33mConv2D\u001b[0m)               │ (\u001b[38;5;45mNone\u001b[0m, \u001b[38;5;34m50\u001b[0m, \u001b[38;5;34m50\u001b[0m, \u001b[38;5;34m50\u001b[0m)     │         \u001b[38;5;34m5,050\u001b[0m │\n",
       "├─────────────────────────────────┼────────────────────────┼───────────────┤\n",
       "│ max_pooling2d_1 (\u001b[38;5;33mMaxPooling2D\u001b[0m)  │ (\u001b[38;5;45mNone\u001b[0m, \u001b[38;5;34m25\u001b[0m, \u001b[38;5;34m25\u001b[0m, \u001b[38;5;34m50\u001b[0m)     │             \u001b[38;5;34m0\u001b[0m │\n",
       "├─────────────────────────────────┼────────────────────────┼───────────────┤\n",
       "│ dropout_1 (\u001b[38;5;33mDropout\u001b[0m)             │ (\u001b[38;5;45mNone\u001b[0m, \u001b[38;5;34m25\u001b[0m, \u001b[38;5;34m25\u001b[0m, \u001b[38;5;34m50\u001b[0m)     │             \u001b[38;5;34m0\u001b[0m │\n",
       "├─────────────────────────────────┼────────────────────────┼───────────────┤\n",
       "│ conv2d_2 (\u001b[38;5;33mConv2D\u001b[0m)               │ (\u001b[38;5;45mNone\u001b[0m, \u001b[38;5;34m25\u001b[0m, \u001b[38;5;34m25\u001b[0m, \u001b[38;5;34m100\u001b[0m)    │        \u001b[38;5;34m20,100\u001b[0m │\n",
       "├─────────────────────────────────┼────────────────────────┼───────────────┤\n",
       "│ flatten (\u001b[38;5;33mFlatten\u001b[0m)               │ (\u001b[38;5;45mNone\u001b[0m, \u001b[38;5;34m62500\u001b[0m)          │             \u001b[38;5;34m0\u001b[0m │\n",
       "├─────────────────────────────────┼────────────────────────┼───────────────┤\n",
       "│ batch_normalization             │ (\u001b[38;5;45mNone\u001b[0m, \u001b[38;5;34m62500\u001b[0m)          │       \u001b[38;5;34m250,000\u001b[0m │\n",
       "│ (\u001b[38;5;33mBatchNormalization\u001b[0m)            │                        │               │\n",
       "├─────────────────────────────────┼────────────────────────┼───────────────┤\n",
       "│ dense (\u001b[38;5;33mDense\u001b[0m)                   │ (\u001b[38;5;45mNone\u001b[0m, \u001b[38;5;34m150\u001b[0m)            │     \u001b[38;5;34m9,375,150\u001b[0m │\n",
       "├─────────────────────────────────┼────────────────────────┼───────────────┤\n",
       "│ dropout_2 (\u001b[38;5;33mDropout\u001b[0m)             │ (\u001b[38;5;45mNone\u001b[0m, \u001b[38;5;34m150\u001b[0m)            │             \u001b[38;5;34m0\u001b[0m │\n",
       "├─────────────────────────────────┼────────────────────────┼───────────────┤\n",
       "│ dense_1 (\u001b[38;5;33mDense\u001b[0m)                 │ (\u001b[38;5;45mNone\u001b[0m, \u001b[38;5;34m100\u001b[0m)            │        \u001b[38;5;34m15,100\u001b[0m │\n",
       "├─────────────────────────────────┼────────────────────────┼───────────────┤\n",
       "│ dropout_3 (\u001b[38;5;33mDropout\u001b[0m)             │ (\u001b[38;5;45mNone\u001b[0m, \u001b[38;5;34m100\u001b[0m)            │             \u001b[38;5;34m0\u001b[0m │\n",
       "├─────────────────────────────────┼────────────────────────┼───────────────┤\n",
       "│ dense_2 (\u001b[38;5;33mDense\u001b[0m)                 │ (\u001b[38;5;45mNone\u001b[0m, \u001b[38;5;34m50\u001b[0m)             │         \u001b[38;5;34m5,050\u001b[0m │\n",
       "├─────────────────────────────────┼────────────────────────┼───────────────┤\n",
       "│ dropout_4 (\u001b[38;5;33mDropout\u001b[0m)             │ (\u001b[38;5;45mNone\u001b[0m, \u001b[38;5;34m50\u001b[0m)             │             \u001b[38;5;34m0\u001b[0m │\n",
       "├─────────────────────────────────┼────────────────────────┼───────────────┤\n",
       "│ dense_3 (\u001b[38;5;33mDense\u001b[0m)                 │ (\u001b[38;5;45mNone\u001b[0m, \u001b[38;5;34m1\u001b[0m)              │            \u001b[38;5;34m51\u001b[0m │\n",
       "└─────────────────────────────────┴────────────────────────┴───────────────┘\n"
      ]
     },
     "metadata": {},
     "output_type": "display_data"
    },
    {
     "data": {
      "text/html": [
       "<pre style=\"white-space:pre;overflow-x:auto;line-height:normal;font-family:Menlo,'DejaVu Sans Mono',consolas,'Courier New',monospace\"><span style=\"font-weight: bold\"> Total params: </span><span style=\"color: #00af00; text-decoration-color: #00af00\">28,762,480</span> (109.72 MB)\n",
       "</pre>\n"
      ],
      "text/plain": [
       "\u001b[1m Total params: \u001b[0m\u001b[38;5;34m28,762,480\u001b[0m (109.72 MB)\n"
      ]
     },
     "metadata": {},
     "output_type": "display_data"
    },
    {
     "data": {
      "text/html": [
       "<pre style=\"white-space:pre;overflow-x:auto;line-height:normal;font-family:Menlo,'DejaVu Sans Mono',consolas,'Courier New',monospace\"><span style=\"font-weight: bold\"> Trainable params: </span><span style=\"color: #00af00; text-decoration-color: #00af00\">9,545,826</span> (36.41 MB)\n",
       "</pre>\n"
      ],
      "text/plain": [
       "\u001b[1m Trainable params: \u001b[0m\u001b[38;5;34m9,545,826\u001b[0m (36.41 MB)\n"
      ]
     },
     "metadata": {},
     "output_type": "display_data"
    },
    {
     "data": {
      "text/html": [
       "<pre style=\"white-space:pre;overflow-x:auto;line-height:normal;font-family:Menlo,'DejaVu Sans Mono',consolas,'Courier New',monospace\"><span style=\"font-weight: bold\"> Non-trainable params: </span><span style=\"color: #00af00; text-decoration-color: #00af00\">125,000</span> (488.28 KB)\n",
       "</pre>\n"
      ],
      "text/plain": [
       "\u001b[1m Non-trainable params: \u001b[0m\u001b[38;5;34m125,000\u001b[0m (488.28 KB)\n"
      ]
     },
     "metadata": {},
     "output_type": "display_data"
    },
    {
     "data": {
      "text/html": [
       "<pre style=\"white-space:pre;overflow-x:auto;line-height:normal;font-family:Menlo,'DejaVu Sans Mono',consolas,'Courier New',monospace\"><span style=\"font-weight: bold\"> Optimizer params: </span><span style=\"color: #00af00; text-decoration-color: #00af00\">19,091,654</span> (72.83 MB)\n",
       "</pre>\n"
      ],
      "text/plain": [
       "\u001b[1m Optimizer params: \u001b[0m\u001b[38;5;34m19,091,654\u001b[0m (72.83 MB)\n"
      ]
     },
     "metadata": {},
     "output_type": "display_data"
    }
   ],
   "source": [
    "cnn_model_1.summary()"
   ]
  },
  {
   "cell_type": "code",
   "execution_count": 48,
   "id": "b09618ba",
   "metadata": {
    "execution": {
     "iopub.execute_input": "2025-03-22T15:22:34.255192Z",
     "iopub.status.busy": "2025-03-22T15:22:34.254962Z",
     "iopub.status.idle": "2025-03-22T15:22:34.276352Z",
     "shell.execute_reply": "2025-03-22T15:22:34.275560Z"
    },
    "papermill": {
     "duration": 0.068599,
     "end_time": "2025-03-22T15:22:34.277945",
     "exception": false,
     "start_time": "2025-03-22T15:22:34.209346",
     "status": "completed"
    },
    "tags": []
   },
   "outputs": [
    {
     "data": {
      "text/html": [
       "<pre style=\"white-space:pre;overflow-x:auto;line-height:normal;font-family:Menlo,'DejaVu Sans Mono',consolas,'Courier New',monospace\"><span style=\"font-weight: bold\">Model: \"functional_1\"</span>\n",
       "</pre>\n"
      ],
      "text/plain": [
       "\u001b[1mModel: \"functional_1\"\u001b[0m\n"
      ]
     },
     "metadata": {},
     "output_type": "display_data"
    },
    {
     "data": {
      "text/html": [
       "<pre style=\"white-space:pre;overflow-x:auto;line-height:normal;font-family:Menlo,'DejaVu Sans Mono',consolas,'Courier New',monospace\">┏━━━━━━━━━━━━━━━━━━━━━━━━━━━━━━━━━┳━━━━━━━━━━━━━━━━━━━━━━━━┳━━━━━━━━━━━━━━━┓\n",
       "┃<span style=\"font-weight: bold\"> Layer (type)                    </span>┃<span style=\"font-weight: bold\"> Output Shape           </span>┃<span style=\"font-weight: bold\">       Param # </span>┃\n",
       "┡━━━━━━━━━━━━━━━━━━━━━━━━━━━━━━━━━╇━━━━━━━━━━━━━━━━━━━━━━━━╇━━━━━━━━━━━━━━━┩\n",
       "│ input_layer_1 (<span style=\"color: #0087ff; text-decoration-color: #0087ff\">InputLayer</span>)      │ (<span style=\"color: #00d7ff; text-decoration-color: #00d7ff\">None</span>, <span style=\"color: #00af00; text-decoration-color: #00af00\">100</span>, <span style=\"color: #00af00; text-decoration-color: #00af00\">100</span>, <span style=\"color: #00af00; text-decoration-color: #00af00\">3</span>)    │             <span style=\"color: #00af00; text-decoration-color: #00af00\">0</span> │\n",
       "├─────────────────────────────────┼────────────────────────┼───────────────┤\n",
       "│ conv2d_3 (<span style=\"color: #0087ff; text-decoration-color: #0087ff\">Conv2D</span>)               │ (<span style=\"color: #00d7ff; text-decoration-color: #00d7ff\">None</span>, <span style=\"color: #00af00; text-decoration-color: #00af00\">100</span>, <span style=\"color: #00af00; text-decoration-color: #00af00\">100</span>, <span style=\"color: #00af00; text-decoration-color: #00af00\">25</span>)   │           <span style=\"color: #00af00; text-decoration-color: #00af00\">325</span> │\n",
       "├─────────────────────────────────┼────────────────────────┼───────────────┤\n",
       "│ max_pooling2d_2 (<span style=\"color: #0087ff; text-decoration-color: #0087ff\">MaxPooling2D</span>)  │ (<span style=\"color: #00d7ff; text-decoration-color: #00d7ff\">None</span>, <span style=\"color: #00af00; text-decoration-color: #00af00\">50</span>, <span style=\"color: #00af00; text-decoration-color: #00af00\">50</span>, <span style=\"color: #00af00; text-decoration-color: #00af00\">25</span>)     │             <span style=\"color: #00af00; text-decoration-color: #00af00\">0</span> │\n",
       "├─────────────────────────────────┼────────────────────────┼───────────────┤\n",
       "│ dropout_5 (<span style=\"color: #0087ff; text-decoration-color: #0087ff\">Dropout</span>)             │ (<span style=\"color: #00d7ff; text-decoration-color: #00d7ff\">None</span>, <span style=\"color: #00af00; text-decoration-color: #00af00\">50</span>, <span style=\"color: #00af00; text-decoration-color: #00af00\">50</span>, <span style=\"color: #00af00; text-decoration-color: #00af00\">25</span>)     │             <span style=\"color: #00af00; text-decoration-color: #00af00\">0</span> │\n",
       "├─────────────────────────────────┼────────────────────────┼───────────────┤\n",
       "│ conv2d_4 (<span style=\"color: #0087ff; text-decoration-color: #0087ff\">Conv2D</span>)               │ (<span style=\"color: #00d7ff; text-decoration-color: #00d7ff\">None</span>, <span style=\"color: #00af00; text-decoration-color: #00af00\">50</span>, <span style=\"color: #00af00; text-decoration-color: #00af00\">50</span>, <span style=\"color: #00af00; text-decoration-color: #00af00\">50</span>)     │         <span style=\"color: #00af00; text-decoration-color: #00af00\">5,050</span> │\n",
       "├─────────────────────────────────┼────────────────────────┼───────────────┤\n",
       "│ max_pooling2d_3 (<span style=\"color: #0087ff; text-decoration-color: #0087ff\">MaxPooling2D</span>)  │ (<span style=\"color: #00d7ff; text-decoration-color: #00d7ff\">None</span>, <span style=\"color: #00af00; text-decoration-color: #00af00\">25</span>, <span style=\"color: #00af00; text-decoration-color: #00af00\">25</span>, <span style=\"color: #00af00; text-decoration-color: #00af00\">50</span>)     │             <span style=\"color: #00af00; text-decoration-color: #00af00\">0</span> │\n",
       "├─────────────────────────────────┼────────────────────────┼───────────────┤\n",
       "│ dropout_6 (<span style=\"color: #0087ff; text-decoration-color: #0087ff\">Dropout</span>)             │ (<span style=\"color: #00d7ff; text-decoration-color: #00d7ff\">None</span>, <span style=\"color: #00af00; text-decoration-color: #00af00\">25</span>, <span style=\"color: #00af00; text-decoration-color: #00af00\">25</span>, <span style=\"color: #00af00; text-decoration-color: #00af00\">50</span>)     │             <span style=\"color: #00af00; text-decoration-color: #00af00\">0</span> │\n",
       "├─────────────────────────────────┼────────────────────────┼───────────────┤\n",
       "│ flatten_1 (<span style=\"color: #0087ff; text-decoration-color: #0087ff\">Flatten</span>)             │ (<span style=\"color: #00d7ff; text-decoration-color: #00d7ff\">None</span>, <span style=\"color: #00af00; text-decoration-color: #00af00\">31250</span>)          │             <span style=\"color: #00af00; text-decoration-color: #00af00\">0</span> │\n",
       "├─────────────────────────────────┼────────────────────────┼───────────────┤\n",
       "│ batch_normalization_1           │ (<span style=\"color: #00d7ff; text-decoration-color: #00d7ff\">None</span>, <span style=\"color: #00af00; text-decoration-color: #00af00\">31250</span>)          │       <span style=\"color: #00af00; text-decoration-color: #00af00\">125,000</span> │\n",
       "│ (<span style=\"color: #0087ff; text-decoration-color: #0087ff\">BatchNormalization</span>)            │                        │               │\n",
       "├─────────────────────────────────┼────────────────────────┼───────────────┤\n",
       "│ dense_4 (<span style=\"color: #0087ff; text-decoration-color: #0087ff\">Dense</span>)                 │ (<span style=\"color: #00d7ff; text-decoration-color: #00d7ff\">None</span>, <span style=\"color: #00af00; text-decoration-color: #00af00\">100</span>)            │     <span style=\"color: #00af00; text-decoration-color: #00af00\">3,125,100</span> │\n",
       "├─────────────────────────────────┼────────────────────────┼───────────────┤\n",
       "│ dropout_7 (<span style=\"color: #0087ff; text-decoration-color: #0087ff\">Dropout</span>)             │ (<span style=\"color: #00d7ff; text-decoration-color: #00d7ff\">None</span>, <span style=\"color: #00af00; text-decoration-color: #00af00\">100</span>)            │             <span style=\"color: #00af00; text-decoration-color: #00af00\">0</span> │\n",
       "├─────────────────────────────────┼────────────────────────┼───────────────┤\n",
       "│ dense_5 (<span style=\"color: #0087ff; text-decoration-color: #0087ff\">Dense</span>)                 │ (<span style=\"color: #00d7ff; text-decoration-color: #00d7ff\">None</span>, <span style=\"color: #00af00; text-decoration-color: #00af00\">50</span>)             │         <span style=\"color: #00af00; text-decoration-color: #00af00\">5,050</span> │\n",
       "├─────────────────────────────────┼────────────────────────┼───────────────┤\n",
       "│ dropout_8 (<span style=\"color: #0087ff; text-decoration-color: #0087ff\">Dropout</span>)             │ (<span style=\"color: #00d7ff; text-decoration-color: #00d7ff\">None</span>, <span style=\"color: #00af00; text-decoration-color: #00af00\">50</span>)             │             <span style=\"color: #00af00; text-decoration-color: #00af00\">0</span> │\n",
       "├─────────────────────────────────┼────────────────────────┼───────────────┤\n",
       "│ dense_6 (<span style=\"color: #0087ff; text-decoration-color: #0087ff\">Dense</span>)                 │ (<span style=\"color: #00d7ff; text-decoration-color: #00d7ff\">None</span>, <span style=\"color: #00af00; text-decoration-color: #00af00\">1</span>)              │            <span style=\"color: #00af00; text-decoration-color: #00af00\">51</span> │\n",
       "└─────────────────────────────────┴────────────────────────┴───────────────┘\n",
       "</pre>\n"
      ],
      "text/plain": [
       "┏━━━━━━━━━━━━━━━━━━━━━━━━━━━━━━━━━┳━━━━━━━━━━━━━━━━━━━━━━━━┳━━━━━━━━━━━━━━━┓\n",
       "┃\u001b[1m \u001b[0m\u001b[1mLayer (type)                   \u001b[0m\u001b[1m \u001b[0m┃\u001b[1m \u001b[0m\u001b[1mOutput Shape          \u001b[0m\u001b[1m \u001b[0m┃\u001b[1m \u001b[0m\u001b[1m      Param #\u001b[0m\u001b[1m \u001b[0m┃\n",
       "┡━━━━━━━━━━━━━━━━━━━━━━━━━━━━━━━━━╇━━━━━━━━━━━━━━━━━━━━━━━━╇━━━━━━━━━━━━━━━┩\n",
       "│ input_layer_1 (\u001b[38;5;33mInputLayer\u001b[0m)      │ (\u001b[38;5;45mNone\u001b[0m, \u001b[38;5;34m100\u001b[0m, \u001b[38;5;34m100\u001b[0m, \u001b[38;5;34m3\u001b[0m)    │             \u001b[38;5;34m0\u001b[0m │\n",
       "├─────────────────────────────────┼────────────────────────┼───────────────┤\n",
       "│ conv2d_3 (\u001b[38;5;33mConv2D\u001b[0m)               │ (\u001b[38;5;45mNone\u001b[0m, \u001b[38;5;34m100\u001b[0m, \u001b[38;5;34m100\u001b[0m, \u001b[38;5;34m25\u001b[0m)   │           \u001b[38;5;34m325\u001b[0m │\n",
       "├─────────────────────────────────┼────────────────────────┼───────────────┤\n",
       "│ max_pooling2d_2 (\u001b[38;5;33mMaxPooling2D\u001b[0m)  │ (\u001b[38;5;45mNone\u001b[0m, \u001b[38;5;34m50\u001b[0m, \u001b[38;5;34m50\u001b[0m, \u001b[38;5;34m25\u001b[0m)     │             \u001b[38;5;34m0\u001b[0m │\n",
       "├─────────────────────────────────┼────────────────────────┼───────────────┤\n",
       "│ dropout_5 (\u001b[38;5;33mDropout\u001b[0m)             │ (\u001b[38;5;45mNone\u001b[0m, \u001b[38;5;34m50\u001b[0m, \u001b[38;5;34m50\u001b[0m, \u001b[38;5;34m25\u001b[0m)     │             \u001b[38;5;34m0\u001b[0m │\n",
       "├─────────────────────────────────┼────────────────────────┼───────────────┤\n",
       "│ conv2d_4 (\u001b[38;5;33mConv2D\u001b[0m)               │ (\u001b[38;5;45mNone\u001b[0m, \u001b[38;5;34m50\u001b[0m, \u001b[38;5;34m50\u001b[0m, \u001b[38;5;34m50\u001b[0m)     │         \u001b[38;5;34m5,050\u001b[0m │\n",
       "├─────────────────────────────────┼────────────────────────┼───────────────┤\n",
       "│ max_pooling2d_3 (\u001b[38;5;33mMaxPooling2D\u001b[0m)  │ (\u001b[38;5;45mNone\u001b[0m, \u001b[38;5;34m25\u001b[0m, \u001b[38;5;34m25\u001b[0m, \u001b[38;5;34m50\u001b[0m)     │             \u001b[38;5;34m0\u001b[0m │\n",
       "├─────────────────────────────────┼────────────────────────┼───────────────┤\n",
       "│ dropout_6 (\u001b[38;5;33mDropout\u001b[0m)             │ (\u001b[38;5;45mNone\u001b[0m, \u001b[38;5;34m25\u001b[0m, \u001b[38;5;34m25\u001b[0m, \u001b[38;5;34m50\u001b[0m)     │             \u001b[38;5;34m0\u001b[0m │\n",
       "├─────────────────────────────────┼────────────────────────┼───────────────┤\n",
       "│ flatten_1 (\u001b[38;5;33mFlatten\u001b[0m)             │ (\u001b[38;5;45mNone\u001b[0m, \u001b[38;5;34m31250\u001b[0m)          │             \u001b[38;5;34m0\u001b[0m │\n",
       "├─────────────────────────────────┼────────────────────────┼───────────────┤\n",
       "│ batch_normalization_1           │ (\u001b[38;5;45mNone\u001b[0m, \u001b[38;5;34m31250\u001b[0m)          │       \u001b[38;5;34m125,000\u001b[0m │\n",
       "│ (\u001b[38;5;33mBatchNormalization\u001b[0m)            │                        │               │\n",
       "├─────────────────────────────────┼────────────────────────┼───────────────┤\n",
       "│ dense_4 (\u001b[38;5;33mDense\u001b[0m)                 │ (\u001b[38;5;45mNone\u001b[0m, \u001b[38;5;34m100\u001b[0m)            │     \u001b[38;5;34m3,125,100\u001b[0m │\n",
       "├─────────────────────────────────┼────────────────────────┼───────────────┤\n",
       "│ dropout_7 (\u001b[38;5;33mDropout\u001b[0m)             │ (\u001b[38;5;45mNone\u001b[0m, \u001b[38;5;34m100\u001b[0m)            │             \u001b[38;5;34m0\u001b[0m │\n",
       "├─────────────────────────────────┼────────────────────────┼───────────────┤\n",
       "│ dense_5 (\u001b[38;5;33mDense\u001b[0m)                 │ (\u001b[38;5;45mNone\u001b[0m, \u001b[38;5;34m50\u001b[0m)             │         \u001b[38;5;34m5,050\u001b[0m │\n",
       "├─────────────────────────────────┼────────────────────────┼───────────────┤\n",
       "│ dropout_8 (\u001b[38;5;33mDropout\u001b[0m)             │ (\u001b[38;5;45mNone\u001b[0m, \u001b[38;5;34m50\u001b[0m)             │             \u001b[38;5;34m0\u001b[0m │\n",
       "├─────────────────────────────────┼────────────────────────┼───────────────┤\n",
       "│ dense_6 (\u001b[38;5;33mDense\u001b[0m)                 │ (\u001b[38;5;45mNone\u001b[0m, \u001b[38;5;34m1\u001b[0m)              │            \u001b[38;5;34m51\u001b[0m │\n",
       "└─────────────────────────────────┴────────────────────────┴───────────────┘\n"
      ]
     },
     "metadata": {},
     "output_type": "display_data"
    },
    {
     "data": {
      "text/html": [
       "<pre style=\"white-space:pre;overflow-x:auto;line-height:normal;font-family:Menlo,'DejaVu Sans Mono',consolas,'Courier New',monospace\"><span style=\"font-weight: bold\"> Total params: </span><span style=\"color: #00af00; text-decoration-color: #00af00\">9,656,730</span> (36.84 MB)\n",
       "</pre>\n"
      ],
      "text/plain": [
       "\u001b[1m Total params: \u001b[0m\u001b[38;5;34m9,656,730\u001b[0m (36.84 MB)\n"
      ]
     },
     "metadata": {},
     "output_type": "display_data"
    },
    {
     "data": {
      "text/html": [
       "<pre style=\"white-space:pre;overflow-x:auto;line-height:normal;font-family:Menlo,'DejaVu Sans Mono',consolas,'Courier New',monospace\"><span style=\"font-weight: bold\"> Trainable params: </span><span style=\"color: #00af00; text-decoration-color: #00af00\">3,198,076</span> (12.20 MB)\n",
       "</pre>\n"
      ],
      "text/plain": [
       "\u001b[1m Trainable params: \u001b[0m\u001b[38;5;34m3,198,076\u001b[0m (12.20 MB)\n"
      ]
     },
     "metadata": {},
     "output_type": "display_data"
    },
    {
     "data": {
      "text/html": [
       "<pre style=\"white-space:pre;overflow-x:auto;line-height:normal;font-family:Menlo,'DejaVu Sans Mono',consolas,'Courier New',monospace\"><span style=\"font-weight: bold\"> Non-trainable params: </span><span style=\"color: #00af00; text-decoration-color: #00af00\">62,500</span> (244.14 KB)\n",
       "</pre>\n"
      ],
      "text/plain": [
       "\u001b[1m Non-trainable params: \u001b[0m\u001b[38;5;34m62,500\u001b[0m (244.14 KB)\n"
      ]
     },
     "metadata": {},
     "output_type": "display_data"
    },
    {
     "data": {
      "text/html": [
       "<pre style=\"white-space:pre;overflow-x:auto;line-height:normal;font-family:Menlo,'DejaVu Sans Mono',consolas,'Courier New',monospace\"><span style=\"font-weight: bold\"> Optimizer params: </span><span style=\"color: #00af00; text-decoration-color: #00af00\">6,396,154</span> (24.40 MB)\n",
       "</pre>\n"
      ],
      "text/plain": [
       "\u001b[1m Optimizer params: \u001b[0m\u001b[38;5;34m6,396,154\u001b[0m (24.40 MB)\n"
      ]
     },
     "metadata": {},
     "output_type": "display_data"
    }
   ],
   "source": [
    "cnn_model_3.summary()"
   ]
  },
  {
   "cell_type": "markdown",
   "id": "cc959b78",
   "metadata": {
    "papermill": {
     "duration": 0.045386,
     "end_time": "2025-03-22T15:22:34.369238",
     "exception": false,
     "start_time": "2025-03-22T15:22:34.323852",
     "status": "completed"
    },
    "tags": []
   },
   "source": [
    "## Neural net heads"
   ]
  },
  {
   "cell_type": "markdown",
   "id": "f5634b97",
   "metadata": {
    "papermill": {
     "duration": 0.04557,
     "end_time": "2025-03-22T15:22:34.460578",
     "exception": false,
     "start_time": "2025-03-22T15:22:34.415008",
     "status": "completed"
    },
    "tags": []
   },
   "source": [
    "### For model 1 final neural head"
   ]
  },
  {
   "cell_type": "markdown",
   "id": "9cb37cac",
   "metadata": {
    "papermill": {
     "duration": 0.045601,
     "end_time": "2025-03-22T15:22:34.551885",
     "exception": false,
     "start_time": "2025-03-22T15:22:34.506284",
     "status": "completed"
    },
    "tags": []
   },
   "source": [
    "#### First retrieving the xgboost features for training and val sets"
   ]
  },
  {
   "cell_type": "code",
   "execution_count": 49,
   "id": "db75c165",
   "metadata": {
    "execution": {
     "iopub.execute_input": "2025-03-22T15:22:34.643803Z",
     "iopub.status.busy": "2025-03-22T15:22:34.643220Z",
     "iopub.status.idle": "2025-03-22T15:22:35.112094Z",
     "shell.execute_reply": "2025-03-22T15:22:35.110303Z"
    },
    "papermill": {
     "duration": 0.517429,
     "end_time": "2025-03-22T15:22:35.114707",
     "exception": false,
     "start_time": "2025-03-22T15:22:34.597278",
     "status": "completed"
    },
    "tags": []
   },
   "outputs": [
    {
     "name": "stdout",
     "output_type": "stream",
     "text": [
      "done\n"
     ]
    }
   ],
   "source": [
    "# Get leaf indices as features from XGBoost for set 1\n",
    "xgboost_features_train_1 = boost_model_1.apply(X_meta_train_1)  # This returns the leaf index in each tree for each sample\n",
    "xgboost_features_val_1 = boost_model_1.apply(X_meta_val_1)\n",
    "\n",
    "# # Get leaf indices as features from XGBoost for set 2\n",
    "# xgboost_features_train_2 = boost_model_2.apply(X_meta_train_2)  # This returns the leaf index in each tree for each sample\n",
    "# xgboost_features_val_2 = boost_model_2.apply(X_meta_val_2)\n",
    "\n",
    "print('done')"
   ]
  },
  {
   "cell_type": "markdown",
   "id": "54464a83",
   "metadata": {
    "papermill": {
     "duration": 0.101213,
     "end_time": "2025-03-22T15:22:35.265071",
     "exception": false,
     "start_time": "2025-03-22T15:22:35.163858",
     "status": "completed"
    },
    "tags": []
   },
   "source": [
    "#### Now retrieving the cnn features for both training and val sets"
   ]
  },
  {
   "cell_type": "code",
   "execution_count": 50,
   "id": "862a44a7",
   "metadata": {
    "execution": {
     "iopub.execute_input": "2025-03-22T15:22:35.359163Z",
     "iopub.status.busy": "2025-03-22T15:22:35.358277Z",
     "iopub.status.idle": "2025-03-22T15:22:36.195810Z",
     "shell.execute_reply": "2025-03-22T15:22:36.194935Z"
    },
    "papermill": {
     "duration": 0.886245,
     "end_time": "2025-03-22T15:22:36.197600",
     "exception": false,
     "start_time": "2025-03-22T15:22:35.311355",
     "status": "completed"
    },
    "tags": []
   },
   "outputs": [
    {
     "name": "stdout",
     "output_type": "stream",
     "text": [
      "\u001b[1m1/1\u001b[0m \u001b[32m━━━━━━━━━━━━━━━━━━━━\u001b[0m\u001b[37m\u001b[0m \u001b[1m1s\u001b[0m 771ms/step\n"
     ]
    }
   ],
   "source": [
    "# Dummy data with the same shape as your input\n",
    "dummy_data = np.random.random((1, 100, 100, 3))\n",
    "_1 = cnn_model_1.predict(dummy_data)  # Call the model to build its graph\n",
    "# _2 = cnn_model_2.predict(dummy_data)  # Call the model to build its graph"
   ]
  },
  {
   "cell_type": "code",
   "execution_count": 51,
   "id": "51d54675",
   "metadata": {
    "execution": {
     "iopub.execute_input": "2025-03-22T15:22:36.297225Z",
     "iopub.status.busy": "2025-03-22T15:22:36.296916Z",
     "iopub.status.idle": "2025-03-22T15:28:12.898341Z",
     "shell.execute_reply": "2025-03-22T15:28:12.897356Z"
    },
    "papermill": {
     "duration": 336.653349,
     "end_time": "2025-03-22T15:28:12.900155",
     "exception": false,
     "start_time": "2025-03-22T15:22:36.246806",
     "status": "completed"
    },
    "tags": []
   },
   "outputs": [
    {
     "name": "stderr",
     "output_type": "stream",
     "text": [
      "W0000 00:00:1742656958.001246      99 graph_launch.cc:671] Fallback to op-by-op mode because memset node breaks graph update\n",
      "W0000 00:00:1742656958.802276     101 graph_launch.cc:671] Fallback to op-by-op mode because memset node breaks graph update\n",
      "W0000 00:00:1742657291.973839      99 graph_launch.cc:671] Fallback to op-by-op mode because memset node breaks graph update\n"
     ]
    },
    {
     "name": "stdout",
     "output_type": "stream",
     "text": [
      "done\n"
     ]
    }
   ],
   "source": [
    "\n",
    "# A new model with all the features of the cnn model, \n",
    "# without the final output layer\n",
    "cnn_feature_extractor_1 = Model(inputs=cnn_model_1.input, outputs=cnn_model_1.layers[-2].output) \n",
    "\n",
    "# Initialize empty NumPy arrays (you may need to initialize with a small size first)\n",
    "cnn_features_train_1 = np.empty((0, cnn_feature_extractor_1.output_shape[1]))  # Adjust shape based on your feature size\n",
    "\n",
    "# Manually iterate over the train_generator\n",
    "for images, labels in train_generator_1: # Have to include labels becuase image generator gives thoes out still\n",
    "    features = cnn_feature_extractor_1.predict(images, verbose=0)\n",
    "    \n",
    "    # Concatenate the features and labels directly\n",
    "    cnn_features_train_1 = np.concatenate([cnn_features_train_1, features])\n",
    "    \n",
    "    # Stop when you've processed the entire training set\n",
    "    if cnn_features_train_1.shape[0] >= len(X_image_train_1):\n",
    "        break\n",
    "print('done')"
   ]
  },
  {
   "cell_type": "code",
   "execution_count": 52,
   "id": "aba468c8",
   "metadata": {
    "execution": {
     "iopub.execute_input": "2025-03-22T15:28:12.997548Z",
     "iopub.status.busy": "2025-03-22T15:28:12.997184Z",
     "iopub.status.idle": "2025-03-22T15:29:35.643768Z",
     "shell.execute_reply": "2025-03-22T15:29:35.642926Z"
    },
    "papermill": {
     "duration": 82.748058,
     "end_time": "2025-03-22T15:29:35.696559",
     "exception": false,
     "start_time": "2025-03-22T15:28:12.948501",
     "status": "completed"
    },
    "tags": []
   },
   "outputs": [
    {
     "name": "stdout",
     "output_type": "stream",
     "text": [
      "done\n"
     ]
    },
    {
     "name": "stderr",
     "output_type": "stream",
     "text": [
      "W0000 00:00:1742657375.630739     100 graph_launch.cc:671] Fallback to op-by-op mode because memset node breaks graph update\n"
     ]
    }
   ],
   "source": [
    "# Now we do it for the validation sets?\n",
    "\n",
    "# Initialize empty NumPy arrays (you may need to initialize with a small size first)\n",
    "cnn_features_val_1 = np.empty((0, cnn_feature_extractor_1.output_shape[1]))  # Adjust shape based on your feature size\n",
    "\n",
    "# Manually iterate over the train_generator\n",
    "for images, labels in val_generator_1:\n",
    "    features = cnn_feature_extractor_1.predict(images, verbose=0)\n",
    "    \n",
    "    # Concatenate the features and labels directly\n",
    "    cnn_features_val_1 = np.concatenate([cnn_features_val_1, features])\n",
    "    \n",
    "    # Stop when you've processed the entire training set\n",
    "    if cnn_features_val_1.shape[0] >= len(X_image_val_1):\n",
    "        break\n",
    "print('done')"
   ]
  },
  {
   "cell_type": "code",
   "execution_count": 53,
   "id": "ba2b22b9",
   "metadata": {
    "execution": {
     "iopub.execute_input": "2025-03-22T15:29:35.799354Z",
     "iopub.status.busy": "2025-03-22T15:29:35.798812Z",
     "iopub.status.idle": "2025-03-22T15:29:35.803661Z",
     "shell.execute_reply": "2025-03-22T15:29:35.802855Z"
    },
    "papermill": {
     "duration": 0.060049,
     "end_time": "2025-03-22T15:29:35.805538",
     "exception": false,
     "start_time": "2025-03-22T15:29:35.745489",
     "status": "completed"
    },
    "tags": []
   },
   "outputs": [
    {
     "name": "stdout",
     "output_type": "stream",
     "text": [
      "(192633, 21)\n",
      "(48159, 21)\n",
      "(192633, 50)\n",
      "(48159, 50)\n"
     ]
    }
   ],
   "source": [
    "# Verify sizes of trainig and val sets recieved from xgboost and cnn features\n",
    "print(xgboost_features_train_1.shape)\n",
    "print(xgboost_features_val_1.shape)\n",
    "\n",
    "print(cnn_features_train_1.shape)\n",
    "print(cnn_features_val_1.shape)\n"
   ]
  },
  {
   "cell_type": "markdown",
   "id": "2c87f89d",
   "metadata": {
    "papermill": {
     "duration": 0.047834,
     "end_time": "2025-03-22T15:29:35.901605",
     "exception": false,
     "start_time": "2025-03-22T15:29:35.853771",
     "status": "completed"
    },
    "tags": []
   },
   "source": [
    "#### Combine features from xgboost and cnn models (for both train and val sets)"
   ]
  },
  {
   "cell_type": "code",
   "execution_count": 54,
   "id": "f9f8f03a",
   "metadata": {
    "execution": {
     "iopub.execute_input": "2025-03-22T15:29:35.997144Z",
     "iopub.status.busy": "2025-03-22T15:29:35.996814Z",
     "iopub.status.idle": "2025-03-22T15:29:36.052482Z",
     "shell.execute_reply": "2025-03-22T15:29:36.051713Z"
    },
    "papermill": {
     "duration": 0.105787,
     "end_time": "2025-03-22T15:29:36.054341",
     "exception": false,
     "start_time": "2025-03-22T15:29:35.948554",
     "status": "completed"
    },
    "tags": []
   },
   "outputs": [
    {
     "name": "stdout",
     "output_type": "stream",
     "text": [
      "done\n"
     ]
    }
   ],
   "source": [
    "\n",
    "# Concatenate the features to be fed into neural head\n",
    "# We get validation data as we will see validation scores in neural head\n",
    "\n",
    "combined_features_train_1 = np.concatenate([xgboost_features_train_1, cnn_features_train_1], axis=1)\n",
    "combined_features_val_1 = np.concatenate([xgboost_features_val_1, cnn_features_val_1], axis=1) \n",
    "\n",
    "# Also for datset 2\n",
    "# combined_features_train_2 = np.concatenate([xgboost_features_train_2, cnn_features_train_2], axis=1)\n",
    "# combined_features_val_2 = np.concatenate([xgboost_features_val_2, cnn_features_val_2], axis=1) \n",
    "\n",
    "print('done')"
   ]
  },
  {
   "cell_type": "code",
   "execution_count": 55,
   "id": "b1a65031",
   "metadata": {
    "execution": {
     "iopub.execute_input": "2025-03-22T15:29:36.150986Z",
     "iopub.status.busy": "2025-03-22T15:29:36.150029Z",
     "iopub.status.idle": "2025-03-22T15:29:36.154760Z",
     "shell.execute_reply": "2025-03-22T15:29:36.153868Z"
    },
    "papermill": {
     "duration": 0.054531,
     "end_time": "2025-03-22T15:29:36.156335",
     "exception": false,
     "start_time": "2025-03-22T15:29:36.101804",
     "status": "completed"
    },
    "tags": []
   },
   "outputs": [
    {
     "name": "stdout",
     "output_type": "stream",
     "text": [
      "(192633, 71)\n"
     ]
    }
   ],
   "source": [
    "print(combined_features_train_1.shape)\n",
    "# print(combined_features_train_2.shape)\n"
   ]
  },
  {
   "cell_type": "code",
   "execution_count": 56,
   "id": "54340e23",
   "metadata": {
    "execution": {
     "iopub.execute_input": "2025-03-22T15:29:36.254345Z",
     "iopub.status.busy": "2025-03-22T15:29:36.254028Z",
     "iopub.status.idle": "2025-03-22T15:29:36.298317Z",
     "shell.execute_reply": "2025-03-22T15:29:36.297430Z"
    },
    "papermill": {
     "duration": 0.09598,
     "end_time": "2025-03-22T15:29:36.299983",
     "exception": false,
     "start_time": "2025-03-22T15:29:36.204003",
     "status": "completed"
    },
    "tags": []
   },
   "outputs": [
    {
     "name": "stdout",
     "output_type": "stream",
     "text": [
      "done\n"
     ]
    }
   ],
   "source": [
    "# Define the input layer for combined features\n",
    "input_layer_1 = Input(shape=(combined_features_train_1.shape[1],))\n",
    "\n",
    "# Add dense layers to process the combined features\n",
    "dense_1 = layers.Dense(150, activation='relu')(input_layer_1)\n",
    "dense_1 = Dropout(0.25)(dense_1)\n",
    "\n",
    "dense_2 = layers.Dense(100, activation='relu')(dense_1)\n",
    "dense_2 = Dropout(0.25)(dense_2)\n",
    "\n",
    "dense_3 = layers.Dense(50, activation='relu')(dense_2)\n",
    "dense_3 = Dropout(0.25)(dense_3)\n",
    "\n",
    "output = layers.Dense(1, activation='sigmoid')(dense_3)  # Binary output\n",
    "\n",
    "# Create the final model\n",
    "first_model_1 = Model(inputs=input_layer_1, outputs=output)\n",
    "first_model_1.compile(optimizer='adam', loss='binary_crossentropy', metrics=['binary_accuracy'])\n",
    "print('done')"
   ]
  },
  {
   "cell_type": "code",
   "execution_count": 57,
   "id": "ad6d4644",
   "metadata": {
    "execution": {
     "iopub.execute_input": "2025-03-22T15:29:36.400511Z",
     "iopub.status.busy": "2025-03-22T15:29:36.400177Z",
     "iopub.status.idle": "2025-03-22T15:29:48.044803Z",
     "shell.execute_reply": "2025-03-22T15:29:48.043853Z"
    },
    "papermill": {
     "duration": 11.697922,
     "end_time": "2025-03-22T15:29:48.046438",
     "exception": false,
     "start_time": "2025-03-22T15:29:36.348516",
     "status": "completed"
    },
    "tags": []
   },
   "outputs": [
    {
     "name": "stdout",
     "output_type": "stream",
     "text": [
      "\u001b[1m 81/386\u001b[0m \u001b[32m━━━━\u001b[0m\u001b[37m━━━━━━━━━━━━━━━━\u001b[0m \u001b[1m0s\u001b[0m 2ms/step - binary_accuracy: 0.9442 - loss: 1.0896"
     ]
    },
    {
     "name": "stderr",
     "output_type": "stream",
     "text": [
      "W0000 00:00:1742657381.895085      99 graph_launch.cc:671] Fallback to op-by-op mode because memset node breaks graph update\n"
     ]
    },
    {
     "name": "stdout",
     "output_type": "stream",
     "text": [
      "\u001b[1m386/386\u001b[0m \u001b[32m━━━━━━━━━━━━━━━━━━━━\u001b[0m\u001b[37m\u001b[0m \u001b[1m11s\u001b[0m 16ms/step - binary_accuracy: 0.9824 - loss: 0.3574 - val_binary_accuracy: 0.9983 - val_loss: 0.0123\n",
      "<keras.src.callbacks.history.History object at 0x7f3630548b80>\n"
     ]
    }
   ],
   "source": [
    "# Train the final model using the original labels\n",
    "first_model_1.fit(\n",
    "    combined_features_train_1,  # Training features\n",
    "    y_meta_train_1,             # Training labels\n",
    "    epochs=1,                # Number of epochs\n",
    "    batch_size=500,          # Batch size\n",
    "    validation_data=(combined_features_val_1, y_meta_val_1),  # Validation features and labels,\n",
    "    callbacks=[keras.callbacks.EarlyStopping(monitor='val_loss', patience=2, restore_best_weights=True)] # Early stopping\n",
    ")\n",
    "\n",
    "# Check the training history\n",
    "print(first_model_1.history)"
   ]
  },
  {
   "cell_type": "markdown",
   "id": "5fca13ea",
   "metadata": {
    "papermill": {
     "duration": 0.048231,
     "end_time": "2025-03-22T15:29:48.144553",
     "exception": false,
     "start_time": "2025-03-22T15:29:48.096322",
     "status": "completed"
    },
    "tags": []
   },
   "source": [
    "### Now for the final model (stacking)"
   ]
  },
  {
   "cell_type": "markdown",
   "id": "6214db35",
   "metadata": {
    "papermill": {
     "duration": 0.048586,
     "end_time": "2025-03-22T15:29:48.241732",
     "exception": false,
     "start_time": "2025-03-22T15:29:48.193146",
     "status": "completed"
    },
    "tags": []
   },
   "source": [
    "#### This is for model 1 in the ensemble"
   ]
  },
  {
   "cell_type": "code",
   "execution_count": 58,
   "id": "61d9a58f",
   "metadata": {
    "execution": {
     "iopub.execute_input": "2025-03-22T15:29:48.341132Z",
     "iopub.status.busy": "2025-03-22T15:29:48.340790Z",
     "iopub.status.idle": "2025-03-22T15:30:45.504252Z",
     "shell.execute_reply": "2025-03-22T15:30:45.503398Z"
    },
    "papermill": {
     "duration": 57.264991,
     "end_time": "2025-03-22T15:30:45.556323",
     "exception": false,
     "start_time": "2025-03-22T15:29:48.291332",
     "status": "completed"
    },
    "tags": []
   },
   "outputs": [
    {
     "name": "stdout",
     "output_type": "stream",
     "text": [
      "(32368, 21)\n"
     ]
    },
    {
     "name": "stderr",
     "output_type": "stream",
     "text": [
      "W0000 00:00:1742657389.393987     100 graph_launch.cc:671] Fallback to op-by-op mode because memset node breaks graph update\n",
      "W0000 00:00:1742657389.687167     102 graph_launch.cc:671] Fallback to op-by-op mode because memset node breaks graph update\n"
     ]
    },
    {
     "name": "stdout",
     "output_type": "stream",
     "text": [
      "(32368, 50)\n",
      "done\n"
     ]
    }
   ],
   "source": [
    "boost_1_train_output = boost_model_1.apply(X_meta_train_5)\n",
    "\n",
    "print(boost_1_train_output.shape)\n",
    "train_generator_5 = image_data_generator(image_series=X_image_train_5, label_series=y_image_train_5, batch_size=batch_size, target_size=target_size)\n",
    "\n",
    "feature_extractor = Model(inputs=cnn_model_1.input, outputs=cnn_model_1.layers[-2].output)  \n",
    "\n",
    "cnn_1_train_output = np.empty((0, feature_extractor.output_shape[1])) \n",
    "\n",
    "for images, labels in train_generator_5:\n",
    "    features = feature_extractor.predict(images, verbose=0)  \n",
    "    # Concatenate the features and labels directly\n",
    "    cnn_1_train_output = np.concatenate([cnn_1_train_output, features]) \n",
    "    # Stop when you've processed the entire training set\n",
    "    if cnn_1_train_output.shape[0] >= len(image_train_5):\n",
    "        break\n",
    "print(cnn_1_train_output.shape)\n",
    "\n",
    "combined_final_train_1 = np.concatenate([boost_1_train_output, cnn_1_train_output], axis=1)\n",
    "\n",
    "print('done')"
   ]
  },
  {
   "cell_type": "code",
   "execution_count": 59,
   "id": "f3583d8d",
   "metadata": {
    "execution": {
     "iopub.execute_input": "2025-03-22T15:30:45.655077Z",
     "iopub.status.busy": "2025-03-22T15:30:45.654496Z",
     "iopub.status.idle": "2025-03-22T15:31:00.839149Z",
     "shell.execute_reply": "2025-03-22T15:31:00.838157Z"
    },
    "papermill": {
     "duration": 15.236627,
     "end_time": "2025-03-22T15:31:00.841525",
     "exception": false,
     "start_time": "2025-03-22T15:30:45.604898",
     "status": "completed"
    },
    "tags": []
   },
   "outputs": [
    {
     "name": "stderr",
     "output_type": "stream",
     "text": [
      "W0000 00:00:1742657446.756807     101 graph_launch.cc:671] Fallback to op-by-op mode because memset node breaks graph update\n",
      "W0000 00:00:1742657447.049229     101 graph_launch.cc:671] Fallback to op-by-op mode because memset node breaks graph update\n"
     ]
    },
    {
     "name": "stdout",
     "output_type": "stream",
     "text": [
      "(8092, 50)\n",
      "done\n"
     ]
    },
    {
     "name": "stderr",
     "output_type": "stream",
     "text": [
      "W0000 00:00:1742657460.825582     102 graph_launch.cc:671] Fallback to op-by-op mode because memset node breaks graph update\n"
     ]
    }
   ],
   "source": [
    "boost_1_val_output = boost_model_1.apply(X_meta_val_5)\n",
    "\n",
    "\n",
    "# Now we do it for the validation sets?\n",
    "val_generator_5 = image_data_generator(image_series=X_image_val_5, label_series=y_image_val_5, batch_size=batch_size, target_size=target_size)\n",
    "\n",
    "feature_extractor = Model(inputs=cnn_model_1.input, outputs=cnn_model_1.layers[-2].output) \n",
    "\n",
    "# Initialize empty NumPy arrays (you may need to initialize with a small size first)\n",
    "cnn_1_val_output = np.empty((0, feature_extractor.output_shape[1])) \n",
    "\n",
    "for images, labels in val_generator_5:\n",
    "    features = feature_extractor.predict(images, verbose=0)  \n",
    "    # Concatenate the features and labels directly\n",
    "    cnn_1_val_output = np.concatenate([cnn_1_val_output, features]) \n",
    "    # Stop when you've processed the entire training set\n",
    "    if cnn_1_val_output.shape[0] >= len(image_val_5):\n",
    "        break\n",
    "print(cnn_1_val_output.shape)\n",
    "\n",
    "combined_final_val_1 = np.concatenate([boost_1_val_output, cnn_1_val_output], axis=1)\n",
    "\n",
    "        \n",
    "print('done')"
   ]
  },
  {
   "cell_type": "code",
   "execution_count": 60,
   "id": "4819c91e",
   "metadata": {
    "execution": {
     "iopub.execute_input": "2025-03-22T15:31:00.939903Z",
     "iopub.status.busy": "2025-03-22T15:31:00.939111Z",
     "iopub.status.idle": "2025-03-22T15:31:00.944190Z",
     "shell.execute_reply": "2025-03-22T15:31:00.943269Z"
    },
    "papermill": {
     "duration": 0.055107,
     "end_time": "2025-03-22T15:31:00.945764",
     "exception": false,
     "start_time": "2025-03-22T15:31:00.890657",
     "status": "completed"
    },
    "tags": []
   },
   "outputs": [
    {
     "name": "stdout",
     "output_type": "stream",
     "text": [
      "(32368, 21)\n",
      "(8092, 21)\n",
      "(32368, 50)\n",
      "(8092, 50)\n"
     ]
    }
   ],
   "source": [
    "print(boost_1_train_output.shape)\n",
    "print(boost_1_val_output.shape)\n",
    "\n",
    "print(cnn_1_train_output.shape)\n",
    "print(cnn_1_val_output.shape)\n"
   ]
  },
  {
   "cell_type": "markdown",
   "id": "20098c78",
   "metadata": {
    "papermill": {
     "duration": 0.049202,
     "end_time": "2025-03-22T15:31:01.044665",
     "exception": false,
     "start_time": "2025-03-22T15:31:00.995463",
     "status": "completed"
    },
    "tags": []
   },
   "source": [
    "#### Now for second lone CNN model (model 3 in ensemble)"
   ]
  },
  {
   "cell_type": "code",
   "execution_count": 61,
   "id": "d3711687",
   "metadata": {
    "execution": {
     "iopub.execute_input": "2025-03-22T15:31:01.143483Z",
     "iopub.status.busy": "2025-03-22T15:31:01.142888Z",
     "iopub.status.idle": "2025-03-22T15:31:55.698206Z",
     "shell.execute_reply": "2025-03-22T15:31:55.697314Z"
    },
    "papermill": {
     "duration": 54.655466,
     "end_time": "2025-03-22T15:31:55.749082",
     "exception": false,
     "start_time": "2025-03-22T15:31:01.093616",
     "status": "completed"
    },
    "tags": []
   },
   "outputs": [
    {
     "name": "stdout",
     "output_type": "stream",
     "text": [
      "done\n"
     ]
    }
   ],
   "source": [
    "\n",
    "\n",
    "cnn_3_train_output = np.empty((0, 1)) \n",
    "\n",
    "for images, labels in train_generator_5:\n",
    "    features = cnn_model_3.predict(images, verbose=0)  \n",
    "    # Concatenate the features and labels directly\n",
    "    cnn_3_train_output = np.concatenate([cnn_3_train_output, features]) \n",
    "    # Stop when you've processed the entire training set\n",
    "    if cnn_3_train_output.shape[0] >= len(image_train_5):\n",
    "        break\n",
    "        \n",
    "        \n",
    "print('done')"
   ]
  },
  {
   "cell_type": "code",
   "execution_count": 62,
   "id": "b5e7c220",
   "metadata": {
    "execution": {
     "iopub.execute_input": "2025-03-22T15:31:55.845952Z",
     "iopub.status.busy": "2025-03-22T15:31:55.845187Z",
     "iopub.status.idle": "2025-03-22T15:32:09.558149Z",
     "shell.execute_reply": "2025-03-22T15:32:09.557275Z"
    },
    "papermill": {
     "duration": 13.763814,
     "end_time": "2025-03-22T15:32:09.560054",
     "exception": false,
     "start_time": "2025-03-22T15:31:55.796240",
     "status": "completed"
    },
    "tags": []
   },
   "outputs": [
    {
     "name": "stdout",
     "output_type": "stream",
     "text": [
      "done\n"
     ]
    }
   ],
   "source": [
    "# Now we do it for the validation sets?\n",
    "\n",
    "# Initialize empty NumPy arrays (you may need to initialize with a small size first)\n",
    "cnn_3_val_output = np.empty((0, 1)) \n",
    "\n",
    "for images, labels in val_generator_5:\n",
    "    features = cnn_model_3.predict(images, verbose=0)  \n",
    "    # Concatenate the features and labels directly\n",
    "    cnn_3_val_output = np.concatenate([cnn_3_val_output, features]) \n",
    "    # Stop when you've processed the entire training set\n",
    "    if cnn_3_val_output.shape[0] >= len(image_val_5):\n",
    "        break\n",
    "\n",
    "print('done')"
   ]
  },
  {
   "cell_type": "code",
   "execution_count": 63,
   "id": "65709ed1",
   "metadata": {
    "execution": {
     "iopub.execute_input": "2025-03-22T15:32:09.657693Z",
     "iopub.status.busy": "2025-03-22T15:32:09.657070Z",
     "iopub.status.idle": "2025-03-22T15:32:12.490021Z",
     "shell.execute_reply": "2025-03-22T15:32:12.488893Z"
    },
    "papermill": {
     "duration": 2.884238,
     "end_time": "2025-03-22T15:32:12.492836",
     "exception": false,
     "start_time": "2025-03-22T15:32:09.608598",
     "status": "completed"
    },
    "tags": []
   },
   "outputs": [
    {
     "name": "stdout",
     "output_type": "stream",
     "text": [
      "\u001b[1m1012/1012\u001b[0m \u001b[32m━━━━━━━━━━━━━━━━━━━━\u001b[0m\u001b[37m\u001b[0m \u001b[1m2s\u001b[0m 1ms/step\n",
      "\u001b[1m 45/253\u001b[0m \u001b[32m━━━\u001b[0m\u001b[37m━━━━━━━━━━━━━━━━━\u001b[0m \u001b[1m0s\u001b[0m 1ms/step "
     ]
    },
    {
     "name": "stderr",
     "output_type": "stream",
     "text": [
      "/opt/conda/lib/python3.10/site-packages/xgboost/core.py:160: UserWarning: [15:32:11] WARNING: /workspace/src/common/error_msg.cc:58: Falling back to prediction using DMatrix due to mismatched devices. This might lead to higher memory usage and slower performance. XGBoost is running on: cuda:0, while the input data is on: cpu.\n",
      "Potential solutions:\n",
      "- Use a data structure that matches the device ordinal in the booster.\n",
      "- Set the device for booster before call to inplace_predict.\n",
      "\n",
      "This warning will only be shown once.\n",
      "\n",
      "  warnings.warn(smsg, UserWarning)\n"
     ]
    },
    {
     "name": "stdout",
     "output_type": "stream",
     "text": [
      "\u001b[1m253/253\u001b[0m \u001b[32m━━━━━━━━━━━━━━━━━━━━\u001b[0m\u001b[37m\u001b[0m \u001b[1m0s\u001b[0m 2ms/step\n",
      "(32368, 4)\n",
      "(8092, 4)\n",
      "done\n"
     ]
    }
   ],
   "source": [
    "# Outputs of all models in ensemble to be put in final neural head\n",
    "final_output_train_1 = first_model_1.predict(combined_final_train_1) # FIRST MODEL\n",
    "final_output_train_2 = boost_model_2.predict(X_meta_train_5) # XGBOOST \n",
    "final_output_train_3 = cnn_3_train_output # CNN\n",
    "final_output_train_4 = catboost_model.predict(X_meta_train_5)# CATBOOST\n",
    "\n",
    "final_output_train_1 = final_output_train_1.reshape(-1, 1)\n",
    "final_output_train_2 = final_output_train_2.reshape(-1, 1)\n",
    "final_output_train_3 = final_output_train_3.reshape(-1, 1)\n",
    "final_output_train_4 = final_output_train_4.reshape(-1, 1)\n",
    "\n",
    "# print(final_output_train_1.shape)\n",
    "# print(final_output_train_2.shape)\n",
    "# print(final_output_train_3.shape)\n",
    "# print(final_output_train_4.shape)\n",
    "\n",
    "# Val set\n",
    "final_output_val_1 = first_model_1.predict(combined_final_val_1) # FIRST MODEL\n",
    "final_output_val_2 = boost_model_2.predict(X_meta_val_5) # XGBOOST \n",
    "final_output_val_3 = cnn_3_val_output # CNN\n",
    "final_output_val_4 = catboost_model.predict(X_meta_val_5)# CATBOOST\n",
    "\n",
    "# print(final_output_val_1.shape)\n",
    "# print(final_output_val_2.shape)\n",
    "# print(final_output_val_3.shape)\n",
    "# print(final_output_val_4.shape)\n",
    "\n",
    "final_output_val_1 = final_output_val_1.reshape(-1, 1)\n",
    "final_output_val_2 = final_output_val_2.reshape(-1, 1)\n",
    "final_output_val_3 = final_output_val_3.reshape(-1, 1)\n",
    "final_output_val_4 = final_output_val_4.reshape(-1, 1)\n",
    "\n",
    "\n",
    "# Now we combine all of them together, so they can be put into a neural head\n",
    "combined_outputs_train = np.concatenate(\n",
    "    [final_output_train_1, final_output_train_2, final_output_train_3, final_output_train_4], axis=1\n",
    ")\n",
    "\n",
    "combined_outputs_val = np.concatenate(\n",
    "    [final_output_val_1, final_output_val_2, final_output_val_3, final_output_val_4], axis=1\n",
    ")\n",
    "print(combined_outputs_train.shape)\n",
    "print(combined_outputs_val.shape)\n",
    "\n",
    "print('done')"
   ]
  },
  {
   "cell_type": "code",
   "execution_count": 64,
   "id": "a4d3becc",
   "metadata": {
    "execution": {
     "iopub.execute_input": "2025-03-22T15:32:12.615670Z",
     "iopub.status.busy": "2025-03-22T15:32:12.614905Z",
     "iopub.status.idle": "2025-03-22T15:32:12.643130Z",
     "shell.execute_reply": "2025-03-22T15:32:12.642115Z"
    },
    "papermill": {
     "duration": 0.080555,
     "end_time": "2025-03-22T15:32:12.644965",
     "exception": false,
     "start_time": "2025-03-22T15:32:12.564410",
     "status": "completed"
    },
    "tags": []
   },
   "outputs": [
    {
     "name": "stdout",
     "output_type": "stream",
     "text": [
      "done\n"
     ]
    }
   ],
   "source": [
    "# Define the input layer for the very FINAL LAYER (STACKING MODEL)\n",
    "input_layer_1 = Input(shape=(4,))\n",
    "\n",
    "# Add dense layers to process the combined features\n",
    "dense_1 = layers.Dense(4, activation='relu')(input_layer_1)\n",
    "output = layers.Dense(1, activation='sigmoid')(dense_1)  # Binary output\n",
    "\n",
    "# Create the final model\n",
    "final_model = Model(inputs=input_layer_1, outputs=output)\n",
    "final_model.compile(optimizer='adam', loss='binary_crossentropy', metrics=['binary_accuracy'])\n",
    "print('done')"
   ]
  },
  {
   "cell_type": "code",
   "execution_count": 65,
   "id": "bc432028",
   "metadata": {
    "execution": {
     "iopub.execute_input": "2025-03-22T15:32:12.751987Z",
     "iopub.status.busy": "2025-03-22T15:32:12.751717Z",
     "iopub.status.idle": "2025-03-22T15:32:15.188923Z",
     "shell.execute_reply": "2025-03-22T15:32:15.188024Z"
    },
    "papermill": {
     "duration": 2.492476,
     "end_time": "2025-03-22T15:32:15.190646",
     "exception": false,
     "start_time": "2025-03-22T15:32:12.698170",
     "status": "completed"
    },
    "tags": []
   },
   "outputs": [
    {
     "name": "stdout",
     "output_type": "stream",
     "text": [
      "\u001b[1m65/65\u001b[0m \u001b[32m━━━━━━━━━━━━━━━━━━━━\u001b[0m\u001b[37m\u001b[0m \u001b[1m2s\u001b[0m 19ms/step - binary_accuracy: 0.8422 - loss: 0.6819 - val_binary_accuracy: 0.9844 - val_loss: 0.6290\n",
      "Restoring model weights from the end of the best epoch: 1.\n",
      "<keras.src.callbacks.history.History object at 0x7f3630263460>\n"
     ]
    }
   ],
   "source": [
    "\n",
    "# Train the final model using the original labels\n",
    "final_model.fit(\n",
    "    combined_outputs_train,  # Training features\n",
    "    y_meta_train_5,             # Training labels\n",
    "    epochs=1,                # Number of epochs\n",
    "    batch_size=500,          # Batch size\n",
    "    validation_data=(combined_outputs_val, y_meta_val_5),  # Validation features and labels,\n",
    "    callbacks=[keras.callbacks.EarlyStopping(monitor='val_loss', patience=2, restore_best_weights=True, verbose=2)] # Early stopping\n",
    ")\n",
    "\n",
    "# Check the training history\n",
    "print(final_model.history)"
   ]
  },
  {
   "cell_type": "markdown",
   "id": "287274e9",
   "metadata": {
    "papermill": {
     "duration": 0.050918,
     "end_time": "2025-03-22T15:32:15.295051",
     "exception": false,
     "start_time": "2025-03-22T15:32:15.244133",
     "status": "completed"
    },
    "tags": []
   },
   "source": [
    "# Testing"
   ]
  },
  {
   "cell_type": "code",
   "execution_count": 66,
   "id": "f187d098",
   "metadata": {
    "execution": {
     "iopub.execute_input": "2025-03-22T15:32:15.396596Z",
     "iopub.status.busy": "2025-03-22T15:32:15.395720Z",
     "iopub.status.idle": "2025-03-22T15:32:15.438567Z",
     "shell.execute_reply": "2025-03-22T15:32:15.437743Z"
    },
    "papermill": {
     "duration": 0.095948,
     "end_time": "2025-03-22T15:32:15.440330",
     "exception": false,
     "start_time": "2025-03-22T15:32:15.344382",
     "status": "completed"
    },
    "tags": []
   },
   "outputs": [
    {
     "data": {
      "text/html": [
       "<div>\n",
       "<style scoped>\n",
       "    .dataframe tbody tr th:only-of-type {\n",
       "        vertical-align: middle;\n",
       "    }\n",
       "\n",
       "    .dataframe tbody tr th {\n",
       "        vertical-align: top;\n",
       "    }\n",
       "\n",
       "    .dataframe thead th {\n",
       "        text-align: right;\n",
       "    }\n",
       "</style>\n",
       "<table border=\"1\" class=\"dataframe\">\n",
       "  <thead>\n",
       "    <tr style=\"text-align: right;\">\n",
       "      <th></th>\n",
       "      <th>isic_id</th>\n",
       "      <th>patient_id</th>\n",
       "      <th>age_approx</th>\n",
       "      <th>sex</th>\n",
       "      <th>anatom_site_general</th>\n",
       "      <th>clin_size_long_diam_mm</th>\n",
       "      <th>image_type</th>\n",
       "      <th>tbp_tile_type</th>\n",
       "      <th>tbp_lv_A</th>\n",
       "      <th>tbp_lv_Aext</th>\n",
       "      <th>tbp_lv_B</th>\n",
       "      <th>tbp_lv_Bext</th>\n",
       "      <th>tbp_lv_C</th>\n",
       "      <th>tbp_lv_Cext</th>\n",
       "      <th>tbp_lv_H</th>\n",
       "      <th>tbp_lv_Hext</th>\n",
       "      <th>tbp_lv_L</th>\n",
       "      <th>tbp_lv_Lext</th>\n",
       "      <th>tbp_lv_areaMM2</th>\n",
       "      <th>tbp_lv_area_perim_ratio</th>\n",
       "      <th>tbp_lv_color_std_mean</th>\n",
       "      <th>tbp_lv_deltaA</th>\n",
       "      <th>tbp_lv_deltaB</th>\n",
       "      <th>tbp_lv_deltaL</th>\n",
       "      <th>tbp_lv_deltaLB</th>\n",
       "      <th>tbp_lv_deltaLBnorm</th>\n",
       "      <th>tbp_lv_eccentricity</th>\n",
       "      <th>tbp_lv_location</th>\n",
       "      <th>tbp_lv_location_simple</th>\n",
       "      <th>tbp_lv_minorAxisMM</th>\n",
       "      <th>tbp_lv_nevi_confidence</th>\n",
       "      <th>tbp_lv_norm_border</th>\n",
       "      <th>tbp_lv_norm_color</th>\n",
       "      <th>tbp_lv_perimeterMM</th>\n",
       "      <th>tbp_lv_radial_color_std_max</th>\n",
       "      <th>tbp_lv_stdL</th>\n",
       "      <th>tbp_lv_stdLExt</th>\n",
       "      <th>tbp_lv_symm_2axis</th>\n",
       "      <th>tbp_lv_symm_2axis_angle</th>\n",
       "      <th>tbp_lv_x</th>\n",
       "      <th>tbp_lv_y</th>\n",
       "      <th>tbp_lv_z</th>\n",
       "      <th>attribution</th>\n",
       "      <th>copyright_license</th>\n",
       "    </tr>\n",
       "  </thead>\n",
       "  <tbody>\n",
       "    <tr>\n",
       "      <th>0</th>\n",
       "      <td>ISIC_0015657</td>\n",
       "      <td>IP_6074337</td>\n",
       "      <td>45.0</td>\n",
       "      <td>male</td>\n",
       "      <td>posterior torso</td>\n",
       "      <td>2.70</td>\n",
       "      <td>TBP tile: close-up</td>\n",
       "      <td>3D: XP</td>\n",
       "      <td>22.80433</td>\n",
       "      <td>20.007270</td>\n",
       "      <td>28.38412</td>\n",
       "      <td>27.043640</td>\n",
       "      <td>36.410100</td>\n",
       "      <td>33.640000</td>\n",
       "      <td>51.220960</td>\n",
       "      <td>53.505430</td>\n",
       "      <td>24.97985</td>\n",
       "      <td>31.114600</td>\n",
       "      <td>3.846876</td>\n",
       "      <td>22.907010</td>\n",
       "      <td>0.461149</td>\n",
       "      <td>2.797056</td>\n",
       "      <td>1.340481</td>\n",
       "      <td>-6.134747</td>\n",
       "      <td>6.436557</td>\n",
       "      <td>6.843057</td>\n",
       "      <td>0.664465</td>\n",
       "      <td>Torso Back Top Third</td>\n",
       "      <td>Torso Back</td>\n",
       "      <td>2.187644</td>\n",
       "      <td>1.698104e-02</td>\n",
       "      <td>5.435366</td>\n",
       "      <td>1.143374</td>\n",
       "      <td>9.387248</td>\n",
       "      <td>0.304827</td>\n",
       "      <td>1.281532</td>\n",
       "      <td>2.299935</td>\n",
       "      <td>0.479339</td>\n",
       "      <td>20</td>\n",
       "      <td>-155.06510</td>\n",
       "      <td>1511.222000</td>\n",
       "      <td>113.980100</td>\n",
       "      <td>Memorial Sloan Kettering Cancer Center</td>\n",
       "      <td>CC-BY</td>\n",
       "    </tr>\n",
       "    <tr>\n",
       "      <th>1</th>\n",
       "      <td>ISIC_0015729</td>\n",
       "      <td>IP_1664139</td>\n",
       "      <td>35.0</td>\n",
       "      <td>female</td>\n",
       "      <td>lower extremity</td>\n",
       "      <td>2.52</td>\n",
       "      <td>TBP tile: close-up</td>\n",
       "      <td>3D: XP</td>\n",
       "      <td>16.64867</td>\n",
       "      <td>9.657964</td>\n",
       "      <td>31.31752</td>\n",
       "      <td>27.524318</td>\n",
       "      <td>35.467806</td>\n",
       "      <td>29.169579</td>\n",
       "      <td>62.004494</td>\n",
       "      <td>70.664619</td>\n",
       "      <td>59.90409</td>\n",
       "      <td>68.141071</td>\n",
       "      <td>2.120473</td>\n",
       "      <td>18.957821</td>\n",
       "      <td>0.000000</td>\n",
       "      <td>6.990705</td>\n",
       "      <td>3.793202</td>\n",
       "      <td>-8.236981</td>\n",
       "      <td>9.151127</td>\n",
       "      <td>6.083388</td>\n",
       "      <td>0.926698</td>\n",
       "      <td>Left Leg - Upper</td>\n",
       "      <td>Left Leg</td>\n",
       "      <td>1.032666</td>\n",
       "      <td>2.107364e-01</td>\n",
       "      <td>4.322201</td>\n",
       "      <td>0.000000</td>\n",
       "      <td>6.340311</td>\n",
       "      <td>0.000000</td>\n",
       "      <td>1.271940</td>\n",
       "      <td>2.011223</td>\n",
       "      <td>0.426230</td>\n",
       "      <td>25</td>\n",
       "      <td>-112.36924</td>\n",
       "      <td>629.535889</td>\n",
       "      <td>-15.019287</td>\n",
       "      <td>Frazer Institute, The University of Queensland, Dermatology Research Centre</td>\n",
       "      <td>CC-BY</td>\n",
       "    </tr>\n",
       "    <tr>\n",
       "      <th>2</th>\n",
       "      <td>ISIC_0015740</td>\n",
       "      <td>IP_7142616</td>\n",
       "      <td>65.0</td>\n",
       "      <td>male</td>\n",
       "      <td>posterior torso</td>\n",
       "      <td>3.16</td>\n",
       "      <td>TBP tile: close-up</td>\n",
       "      <td>3D: XP</td>\n",
       "      <td>24.25384</td>\n",
       "      <td>19.937380</td>\n",
       "      <td>30.46368</td>\n",
       "      <td>28.384240</td>\n",
       "      <td>38.939500</td>\n",
       "      <td>34.686660</td>\n",
       "      <td>51.474730</td>\n",
       "      <td>54.915410</td>\n",
       "      <td>35.81945</td>\n",
       "      <td>41.358640</td>\n",
       "      <td>3.396510</td>\n",
       "      <td>19.464400</td>\n",
       "      <td>0.251236</td>\n",
       "      <td>4.316465</td>\n",
       "      <td>2.079433</td>\n",
       "      <td>-5.539191</td>\n",
       "      <td>6.041092</td>\n",
       "      <td>5.446997</td>\n",
       "      <td>0.894776</td>\n",
       "      <td>Torso Back Top Third</td>\n",
       "      <td>Torso Back</td>\n",
       "      <td>1.520786</td>\n",
       "      <td>8.052259e-13</td>\n",
       "      <td>3.968912</td>\n",
       "      <td>0.721739</td>\n",
       "      <td>8.130868</td>\n",
       "      <td>0.230742</td>\n",
       "      <td>1.080308</td>\n",
       "      <td>2.705857</td>\n",
       "      <td>0.366071</td>\n",
       "      <td>110</td>\n",
       "      <td>-84.29282</td>\n",
       "      <td>1303.978000</td>\n",
       "      <td>-28.576050</td>\n",
       "      <td>FNQH Cairns</td>\n",
       "      <td>CC-BY</td>\n",
       "    </tr>\n",
       "  </tbody>\n",
       "</table>\n",
       "</div>"
      ],
      "text/plain": [
       "        isic_id  patient_id  age_approx     sex anatom_site_general  \\\n",
       "0  ISIC_0015657  IP_6074337        45.0    male     posterior torso   \n",
       "1  ISIC_0015729  IP_1664139        35.0  female     lower extremity   \n",
       "2  ISIC_0015740  IP_7142616        65.0    male     posterior torso   \n",
       "\n",
       "   clin_size_long_diam_mm          image_type tbp_tile_type  tbp_lv_A  \\\n",
       "0                    2.70  TBP tile: close-up        3D: XP  22.80433   \n",
       "1                    2.52  TBP tile: close-up        3D: XP  16.64867   \n",
       "2                    3.16  TBP tile: close-up        3D: XP  24.25384   \n",
       "\n",
       "   tbp_lv_Aext  tbp_lv_B  tbp_lv_Bext   tbp_lv_C  tbp_lv_Cext   tbp_lv_H  \\\n",
       "0    20.007270  28.38412    27.043640  36.410100    33.640000  51.220960   \n",
       "1     9.657964  31.31752    27.524318  35.467806    29.169579  62.004494   \n",
       "2    19.937380  30.46368    28.384240  38.939500    34.686660  51.474730   \n",
       "\n",
       "   tbp_lv_Hext  tbp_lv_L  tbp_lv_Lext  tbp_lv_areaMM2  \\\n",
       "0    53.505430  24.97985    31.114600        3.846876   \n",
       "1    70.664619  59.90409    68.141071        2.120473   \n",
       "2    54.915410  35.81945    41.358640        3.396510   \n",
       "\n",
       "   tbp_lv_area_perim_ratio  tbp_lv_color_std_mean  tbp_lv_deltaA  \\\n",
       "0                22.907010               0.461149       2.797056   \n",
       "1                18.957821               0.000000       6.990705   \n",
       "2                19.464400               0.251236       4.316465   \n",
       "\n",
       "   tbp_lv_deltaB  tbp_lv_deltaL  tbp_lv_deltaLB  tbp_lv_deltaLBnorm  \\\n",
       "0       1.340481      -6.134747        6.436557            6.843057   \n",
       "1       3.793202      -8.236981        9.151127            6.083388   \n",
       "2       2.079433      -5.539191        6.041092            5.446997   \n",
       "\n",
       "   tbp_lv_eccentricity       tbp_lv_location tbp_lv_location_simple  \\\n",
       "0             0.664465  Torso Back Top Third             Torso Back   \n",
       "1             0.926698      Left Leg - Upper               Left Leg   \n",
       "2             0.894776  Torso Back Top Third             Torso Back   \n",
       "\n",
       "   tbp_lv_minorAxisMM  tbp_lv_nevi_confidence  tbp_lv_norm_border  \\\n",
       "0            2.187644            1.698104e-02            5.435366   \n",
       "1            1.032666            2.107364e-01            4.322201   \n",
       "2            1.520786            8.052259e-13            3.968912   \n",
       "\n",
       "   tbp_lv_norm_color  tbp_lv_perimeterMM  tbp_lv_radial_color_std_max  \\\n",
       "0           1.143374            9.387248                     0.304827   \n",
       "1           0.000000            6.340311                     0.000000   \n",
       "2           0.721739            8.130868                     0.230742   \n",
       "\n",
       "   tbp_lv_stdL  tbp_lv_stdLExt  tbp_lv_symm_2axis  tbp_lv_symm_2axis_angle  \\\n",
       "0     1.281532        2.299935           0.479339                       20   \n",
       "1     1.271940        2.011223           0.426230                       25   \n",
       "2     1.080308        2.705857           0.366071                      110   \n",
       "\n",
       "    tbp_lv_x     tbp_lv_y    tbp_lv_z  \\\n",
       "0 -155.06510  1511.222000  113.980100   \n",
       "1 -112.36924   629.535889  -15.019287   \n",
       "2  -84.29282  1303.978000  -28.576050   \n",
       "\n",
       "                                                                   attribution  \\\n",
       "0                                       Memorial Sloan Kettering Cancer Center   \n",
       "1  Frazer Institute, The University of Queensland, Dermatology Research Centre   \n",
       "2                                                                  FNQH Cairns   \n",
       "\n",
       "  copyright_license  \n",
       "0             CC-BY  \n",
       "1             CC-BY  \n",
       "2             CC-BY  "
      ]
     },
     "execution_count": 66,
     "metadata": {},
     "output_type": "execute_result"
    }
   ],
   "source": [
    "testing_meta_data = pd.read_csv('/kaggle/input/isic-2024-challenge/test-metadata.csv')\n",
    "testing_meta_data.head()"
   ]
  },
  {
   "cell_type": "markdown",
   "id": "12ffc456",
   "metadata": {
    "papermill": {
     "duration": 0.093757,
     "end_time": "2025-03-22T15:32:15.585793",
     "exception": false,
     "start_time": "2025-03-22T15:32:15.492036",
     "status": "completed"
    },
    "tags": []
   },
   "source": [
    "## Read test images"
   ]
  },
  {
   "cell_type": "code",
   "execution_count": 67,
   "id": "188f58eb",
   "metadata": {
    "execution": {
     "iopub.execute_input": "2025-03-22T15:32:15.687972Z",
     "iopub.status.busy": "2025-03-22T15:32:15.687042Z",
     "iopub.status.idle": "2025-03-22T15:32:16.036964Z",
     "shell.execute_reply": "2025-03-22T15:32:16.035903Z"
    },
    "papermill": {
     "duration": 0.40239,
     "end_time": "2025-03-22T15:32:16.038713",
     "exception": false,
     "start_time": "2025-03-22T15:32:15.636323",
     "status": "completed"
    },
    "tags": []
   },
   "outputs": [
    {
     "name": "stdout",
     "output_type": "stream",
     "text": [
      "(3, 2)\n"
     ]
    }
   ],
   "source": [
    "# Initialize an empty list to store the data\n",
    "testing_image_data = []\n",
    "\n",
    "with h5py.File('/kaggle/input/isic-2024-challenge/test-image.hdf5', 'r') as f:\n",
    "    with concurrent.futures.ThreadPoolExecutor() as executor:\n",
    "        futures = [executor.submit(load_image, id, f) for id in f.keys()]\n",
    "        for future in concurrent.futures.as_completed(futures):\n",
    "            testing_image_data.append(future.result())\n",
    "\n",
    "# Convert the list to a DataFrame\n",
    "testing_image_data = pd.DataFrame(testing_image_data, columns=['isic_id', 'image_data'])\n",
    "\n",
    "# Display the first few rows to verify\n",
    "print(testing_image_data.shape)\n"
   ]
  },
  {
   "cell_type": "markdown",
   "id": "7ee12c9b",
   "metadata": {
    "papermill": {
     "duration": 0.050628,
     "end_time": "2025-03-22T15:32:16.142385",
     "exception": false,
     "start_time": "2025-03-22T15:32:16.091757",
     "status": "completed"
    },
    "tags": []
   },
   "source": [
    "## SQL Query again"
   ]
  },
  {
   "cell_type": "code",
   "execution_count": 68,
   "id": "fb13c07d",
   "metadata": {
    "execution": {
     "iopub.execute_input": "2025-03-22T15:32:16.245872Z",
     "iopub.status.busy": "2025-03-22T15:32:16.245264Z",
     "iopub.status.idle": "2025-03-22T15:32:16.256207Z",
     "shell.execute_reply": "2025-03-22T15:32:16.255360Z"
    },
    "papermill": {
     "duration": 0.063163,
     "end_time": "2025-03-22T15:32:16.257807",
     "exception": false,
     "start_time": "2025-03-22T15:32:16.194644",
     "status": "completed"
    },
    "tags": []
   },
   "outputs": [
    {
     "data": {
      "text/plain": [
       "(3, 1)"
      ]
     },
     "execution_count": 68,
     "metadata": {},
     "output_type": "execute_result"
    }
   ],
   "source": [
    "\n",
    "# SQLITE so we shall collect only the ids which have meta data AND image data  \n",
    "\n",
    "conn = sqlite3.connect(':memory:')\n",
    "\n",
    "testing_meta_data['isic_id'].to_sql('testing_meta_data', conn, index=False, if_exists='replace')\n",
    "testing_image_data['isic_id'].to_sql('testing_image_data', conn, index=False, if_exists='replace')\n",
    "\n",
    "# Perform SQL queries\n",
    "query = \"\"\"\n",
    "SELECT p.isic_id\n",
    "FROM `testing_meta_data` AS p \n",
    "INNER JOIN `testing_image_data` AS o\n",
    "    ON p.isic_id = o.isic_id\n",
    "ORDER BY p.isic_id\n",
    "\"\"\"\n",
    "testing_ids = pd.read_sql_query(query, conn)\n",
    "\n",
    "# Sort the ids in order\n",
    "testing_ids = testing_ids.sort_values(by='isic_id', ascending=False)\n",
    "\n",
    "# Display the result\n",
    "testing_ids.shape"
   ]
  },
  {
   "cell_type": "code",
   "execution_count": 69,
   "id": "1705978a",
   "metadata": {
    "execution": {
     "iopub.execute_input": "2025-03-22T15:32:16.358254Z",
     "iopub.status.busy": "2025-03-22T15:32:16.357988Z",
     "iopub.status.idle": "2025-03-22T15:32:16.365628Z",
     "shell.execute_reply": "2025-03-22T15:32:16.364804Z"
    },
    "papermill": {
     "duration": 0.059618,
     "end_time": "2025-03-22T15:32:16.367232",
     "exception": false,
     "start_time": "2025-03-22T15:32:16.307614",
     "status": "completed"
    },
    "tags": []
   },
   "outputs": [
    {
     "data": {
      "text/plain": [
       "0    ISIC_0015657\n",
       "1    ISIC_0015729\n",
       "2    ISIC_0015740\n",
       "Name: isic_id, dtype: object"
      ]
     },
     "execution_count": 69,
     "metadata": {},
     "output_type": "execute_result"
    }
   ],
   "source": [
    "meta_test = testing_meta_data[testing_meta_data['isic_id'].isin(testing_ids['isic_id'])]  \n",
    "image_test = testing_image_data[testing_image_data['isic_id'].isin(testing_ids['isic_id'])]\n",
    "meta_test['isic_id'].head()"
   ]
  },
  {
   "cell_type": "markdown",
   "id": "e41b65b4",
   "metadata": {
    "papermill": {
     "duration": 0.04999,
     "end_time": "2025-03-22T15:32:16.470890",
     "exception": false,
     "start_time": "2025-03-22T15:32:16.420900",
     "status": "completed"
    },
    "tags": []
   },
   "source": [
    "## Feature engineering for test meta data"
   ]
  },
  {
   "cell_type": "code",
   "execution_count": 70,
   "id": "d3e6e024",
   "metadata": {
    "execution": {
     "iopub.execute_input": "2025-03-22T15:32:16.572062Z",
     "iopub.status.busy": "2025-03-22T15:32:16.571748Z",
     "iopub.status.idle": "2025-03-22T15:32:16.597386Z",
     "shell.execute_reply": "2025-03-22T15:32:16.596587Z"
    },
    "papermill": {
     "duration": 0.07825,
     "end_time": "2025-03-22T15:32:16.598863",
     "exception": false,
     "start_time": "2025-03-22T15:32:16.520613",
     "status": "completed"
    },
    "tags": []
   },
   "outputs": [
    {
     "data": {
      "text/html": [
       "<div>\n",
       "<style scoped>\n",
       "    .dataframe tbody tr th:only-of-type {\n",
       "        vertical-align: middle;\n",
       "    }\n",
       "\n",
       "    .dataframe tbody tr th {\n",
       "        vertical-align: top;\n",
       "    }\n",
       "\n",
       "    .dataframe thead th {\n",
       "        text-align: right;\n",
       "    }\n",
       "</style>\n",
       "<table border=\"1\" class=\"dataframe\">\n",
       "  <thead>\n",
       "    <tr style=\"text-align: right;\">\n",
       "      <th></th>\n",
       "      <th>sex</th>\n",
       "      <th>age_approx</th>\n",
       "      <th>clin_size_long_diam_mm</th>\n",
       "      <th>tbp_tile_type</th>\n",
       "      <th>tbp_lv_A</th>\n",
       "      <th>tbp_lv_Aext</th>\n",
       "      <th>tbp_lv_B</th>\n",
       "      <th>tbp_lv_Bext</th>\n",
       "      <th>tbp_lv_C</th>\n",
       "      <th>tbp_lv_Cext</th>\n",
       "      <th>tbp_lv_H</th>\n",
       "      <th>tbp_lv_Hext</th>\n",
       "      <th>tbp_lv_L</th>\n",
       "      <th>tbp_lv_Lext</th>\n",
       "      <th>tbp_lv_areaMM2</th>\n",
       "      <th>tbp_lv_area_perim_ratio</th>\n",
       "      <th>tbp_lv_color_std_mean</th>\n",
       "      <th>tbp_lv_deltaA</th>\n",
       "      <th>tbp_lv_deltaB</th>\n",
       "      <th>tbp_lv_deltaL</th>\n",
       "      <th>tbp_lv_deltaLBnorm</th>\n",
       "      <th>tbp_lv_eccentricity</th>\n",
       "      <th>tbp_lv_location</th>\n",
       "      <th>tbp_lv_minorAxisMM</th>\n",
       "      <th>tbp_lv_nevi_confidence</th>\n",
       "      <th>tbp_lv_norm_border</th>\n",
       "      <th>tbp_lv_norm_color</th>\n",
       "      <th>tbp_lv_perimeterMM</th>\n",
       "      <th>tbp_lv_radial_color_std_max</th>\n",
       "      <th>tbp_lv_stdL</th>\n",
       "      <th>tbp_lv_stdLExt</th>\n",
       "      <th>tbp_lv_symm_2axis</th>\n",
       "      <th>tbp_lv_symm_2axis_angle</th>\n",
       "      <th>tbp_lv_x</th>\n",
       "      <th>tbp_lv_y</th>\n",
       "      <th>tbp_lv_z</th>\n",
       "    </tr>\n",
       "  </thead>\n",
       "  <tbody>\n",
       "    <tr>\n",
       "      <th>0</th>\n",
       "      <td>male</td>\n",
       "      <td>45.0</td>\n",
       "      <td>2.70</td>\n",
       "      <td>3D: XP</td>\n",
       "      <td>22.80433</td>\n",
       "      <td>20.007270</td>\n",
       "      <td>28.38412</td>\n",
       "      <td>27.043640</td>\n",
       "      <td>36.410100</td>\n",
       "      <td>33.640000</td>\n",
       "      <td>51.220960</td>\n",
       "      <td>53.505430</td>\n",
       "      <td>24.97985</td>\n",
       "      <td>31.114600</td>\n",
       "      <td>3.846876</td>\n",
       "      <td>22.907010</td>\n",
       "      <td>0.461149</td>\n",
       "      <td>2.797056</td>\n",
       "      <td>1.340481</td>\n",
       "      <td>-6.134747</td>\n",
       "      <td>6.843057</td>\n",
       "      <td>0.664465</td>\n",
       "      <td>Torso Back Top Third</td>\n",
       "      <td>2.187644</td>\n",
       "      <td>1.698104e-02</td>\n",
       "      <td>5.435366</td>\n",
       "      <td>1.143374</td>\n",
       "      <td>9.387248</td>\n",
       "      <td>0.304827</td>\n",
       "      <td>1.281532</td>\n",
       "      <td>2.299935</td>\n",
       "      <td>0.479339</td>\n",
       "      <td>20</td>\n",
       "      <td>-155.06510</td>\n",
       "      <td>1511.222000</td>\n",
       "      <td>113.980100</td>\n",
       "    </tr>\n",
       "    <tr>\n",
       "      <th>1</th>\n",
       "      <td>female</td>\n",
       "      <td>35.0</td>\n",
       "      <td>2.52</td>\n",
       "      <td>3D: XP</td>\n",
       "      <td>16.64867</td>\n",
       "      <td>9.657964</td>\n",
       "      <td>31.31752</td>\n",
       "      <td>27.524318</td>\n",
       "      <td>35.467806</td>\n",
       "      <td>29.169579</td>\n",
       "      <td>62.004494</td>\n",
       "      <td>70.664619</td>\n",
       "      <td>59.90409</td>\n",
       "      <td>68.141071</td>\n",
       "      <td>2.120473</td>\n",
       "      <td>18.957821</td>\n",
       "      <td>0.000000</td>\n",
       "      <td>6.990705</td>\n",
       "      <td>3.793202</td>\n",
       "      <td>-8.236981</td>\n",
       "      <td>6.083388</td>\n",
       "      <td>0.926698</td>\n",
       "      <td>Left Leg - Upper</td>\n",
       "      <td>1.032666</td>\n",
       "      <td>2.107364e-01</td>\n",
       "      <td>4.322201</td>\n",
       "      <td>0.000000</td>\n",
       "      <td>6.340311</td>\n",
       "      <td>0.000000</td>\n",
       "      <td>1.271940</td>\n",
       "      <td>2.011223</td>\n",
       "      <td>0.426230</td>\n",
       "      <td>25</td>\n",
       "      <td>-112.36924</td>\n",
       "      <td>629.535889</td>\n",
       "      <td>-15.019287</td>\n",
       "    </tr>\n",
       "    <tr>\n",
       "      <th>2</th>\n",
       "      <td>male</td>\n",
       "      <td>65.0</td>\n",
       "      <td>3.16</td>\n",
       "      <td>3D: XP</td>\n",
       "      <td>24.25384</td>\n",
       "      <td>19.937380</td>\n",
       "      <td>30.46368</td>\n",
       "      <td>28.384240</td>\n",
       "      <td>38.939500</td>\n",
       "      <td>34.686660</td>\n",
       "      <td>51.474730</td>\n",
       "      <td>54.915410</td>\n",
       "      <td>35.81945</td>\n",
       "      <td>41.358640</td>\n",
       "      <td>3.396510</td>\n",
       "      <td>19.464400</td>\n",
       "      <td>0.251236</td>\n",
       "      <td>4.316465</td>\n",
       "      <td>2.079433</td>\n",
       "      <td>-5.539191</td>\n",
       "      <td>5.446997</td>\n",
       "      <td>0.894776</td>\n",
       "      <td>Torso Back Top Third</td>\n",
       "      <td>1.520786</td>\n",
       "      <td>8.052259e-13</td>\n",
       "      <td>3.968912</td>\n",
       "      <td>0.721739</td>\n",
       "      <td>8.130868</td>\n",
       "      <td>0.230742</td>\n",
       "      <td>1.080308</td>\n",
       "      <td>2.705857</td>\n",
       "      <td>0.366071</td>\n",
       "      <td>110</td>\n",
       "      <td>-84.29282</td>\n",
       "      <td>1303.978000</td>\n",
       "      <td>-28.576050</td>\n",
       "    </tr>\n",
       "  </tbody>\n",
       "</table>\n",
       "</div>"
      ],
      "text/plain": [
       "      sex  age_approx  clin_size_long_diam_mm tbp_tile_type  tbp_lv_A  \\\n",
       "0    male        45.0                    2.70        3D: XP  22.80433   \n",
       "1  female        35.0                    2.52        3D: XP  16.64867   \n",
       "2    male        65.0                    3.16        3D: XP  24.25384   \n",
       "\n",
       "   tbp_lv_Aext  tbp_lv_B  tbp_lv_Bext   tbp_lv_C  tbp_lv_Cext   tbp_lv_H  \\\n",
       "0    20.007270  28.38412    27.043640  36.410100    33.640000  51.220960   \n",
       "1     9.657964  31.31752    27.524318  35.467806    29.169579  62.004494   \n",
       "2    19.937380  30.46368    28.384240  38.939500    34.686660  51.474730   \n",
       "\n",
       "   tbp_lv_Hext  tbp_lv_L  tbp_lv_Lext  tbp_lv_areaMM2  \\\n",
       "0    53.505430  24.97985    31.114600        3.846876   \n",
       "1    70.664619  59.90409    68.141071        2.120473   \n",
       "2    54.915410  35.81945    41.358640        3.396510   \n",
       "\n",
       "   tbp_lv_area_perim_ratio  tbp_lv_color_std_mean  tbp_lv_deltaA  \\\n",
       "0                22.907010               0.461149       2.797056   \n",
       "1                18.957821               0.000000       6.990705   \n",
       "2                19.464400               0.251236       4.316465   \n",
       "\n",
       "   tbp_lv_deltaB  tbp_lv_deltaL  tbp_lv_deltaLBnorm  tbp_lv_eccentricity  \\\n",
       "0       1.340481      -6.134747            6.843057             0.664465   \n",
       "1       3.793202      -8.236981            6.083388             0.926698   \n",
       "2       2.079433      -5.539191            5.446997             0.894776   \n",
       "\n",
       "        tbp_lv_location  tbp_lv_minorAxisMM  tbp_lv_nevi_confidence  \\\n",
       "0  Torso Back Top Third            2.187644            1.698104e-02   \n",
       "1      Left Leg - Upper            1.032666            2.107364e-01   \n",
       "2  Torso Back Top Third            1.520786            8.052259e-13   \n",
       "\n",
       "   tbp_lv_norm_border  tbp_lv_norm_color  tbp_lv_perimeterMM  \\\n",
       "0            5.435366           1.143374            9.387248   \n",
       "1            4.322201           0.000000            6.340311   \n",
       "2            3.968912           0.721739            8.130868   \n",
       "\n",
       "   tbp_lv_radial_color_std_max  tbp_lv_stdL  tbp_lv_stdLExt  \\\n",
       "0                     0.304827     1.281532        2.299935   \n",
       "1                     0.000000     1.271940        2.011223   \n",
       "2                     0.230742     1.080308        2.705857   \n",
       "\n",
       "   tbp_lv_symm_2axis  tbp_lv_symm_2axis_angle   tbp_lv_x     tbp_lv_y  \\\n",
       "0           0.479339                       20 -155.06510  1511.222000   \n",
       "1           0.426230                       25 -112.36924   629.535889   \n",
       "2           0.366071                      110  -84.29282  1303.978000   \n",
       "\n",
       "     tbp_lv_z  \n",
       "0  113.980100  \n",
       "1  -15.019287  \n",
       "2  -28.576050  "
      ]
     },
     "execution_count": 70,
     "metadata": {},
     "output_type": "execute_result"
    }
   ],
   "source": [
    "\n",
    "features = ['sex', 'age_approx','clin_size_long_diam_mm','tbp_tile_type','tbp_lv_A','tbp_lv_Aext','tbp_lv_B','tbp_lv_Bext',\n",
    "           'tbp_lv_C','tbp_lv_Cext','tbp_lv_H','tbp_lv_Hext','tbp_lv_L','tbp_lv_Lext','tbp_lv_areaMM2','tbp_lv_area_perim_ratio',\n",
    "            'tbp_lv_color_std_mean','tbp_lv_deltaA','tbp_lv_deltaB','tbp_lv_deltaL','tbp_lv_deltaLBnorm','tbp_lv_eccentricity',\n",
    "            'tbp_lv_location','tbp_lv_minorAxisMM','tbp_lv_nevi_confidence','tbp_lv_norm_border','tbp_lv_norm_color',\n",
    "            'tbp_lv_perimeterMM','tbp_lv_radial_color_std_max','tbp_lv_stdL','tbp_lv_stdLExt','tbp_lv_symm_2axis','tbp_lv_symm_2axis_angle',\n",
    "           'tbp_lv_x','tbp_lv_y','tbp_lv_z']\n",
    "\n",
    "# Now we do the preprocessing step we did earlier witht the training set\n",
    "meta_test_df = meta_test[features]\n",
    "\n",
    "meta_test_df.head()"
   ]
  },
  {
   "cell_type": "code",
   "execution_count": 71,
   "id": "fe5275ed",
   "metadata": {
    "execution": {
     "iopub.execute_input": "2025-03-22T15:32:16.700897Z",
     "iopub.status.busy": "2025-03-22T15:32:16.700633Z",
     "iopub.status.idle": "2025-03-22T15:32:16.706692Z",
     "shell.execute_reply": "2025-03-22T15:32:16.705849Z"
    },
    "papermill": {
     "duration": 0.059548,
     "end_time": "2025-03-22T15:32:16.708298",
     "exception": false,
     "start_time": "2025-03-22T15:32:16.648750",
     "status": "completed"
    },
    "tags": []
   },
   "outputs": [],
   "source": [
    "def feature_engineer_test(dataset, training_columns=None):\n",
    "    # Fill NaN values with a placeholder\n",
    "    dataset['sex'].fillna('Unknown', inplace=True) # Fill nan sex with unknown\n",
    "    dataset['age_approx'].fillna(dataset['age_approx'].mean(), inplace=True) # Fill unknown ages with mean age \n",
    "    \n",
    "    columns = ['sex', 'tbp_tile_type', 'tbp_lv_location']  # Columns to be one-hot encoded\n",
    "    dataset = pd.get_dummies(dataset, columns=columns)\n",
    "    \n",
    "    # Normalize all columns except one hot encoded columns (Dont want to affect the one hot encoded ones)\n",
    "    feature_cols = [col for col in dataset.columns if dataset[col].dtype != 'bool']\n",
    "    scaler = MinMaxScaler()\n",
    "    dataset[feature_cols] = scaler.fit_transform(dataset[feature_cols])\n",
    "    \n",
    "    # WE convert all the onehot encoded boolean columns into actual binary int values\n",
    "    for column in dataset.select_dtypes(include=['bool']).columns:\n",
    "        dataset[column] = dataset[column].astype(int)\n",
    "        \n",
    "    # Just making sure this is int type    \n",
    "    dataset['age_approx'] = dataset['age_approx'].astype(int)\n",
    "    \n",
    "    # If training_columns is provided, reindex the dataset to ensure it has the same columns\n",
    "    if training_columns is not None:\n",
    "        dataset = dataset.reindex(columns=training_columns, fill_value=0)\n",
    "        \n",
    "        \n",
    "    \n",
    "    \n",
    "    return dataset"
   ]
  },
  {
   "cell_type": "code",
   "execution_count": 72,
   "id": "f282cfab",
   "metadata": {
    "execution": {
     "iopub.execute_input": "2025-03-22T15:32:16.811511Z",
     "iopub.status.busy": "2025-03-22T15:32:16.810926Z",
     "iopub.status.idle": "2025-03-22T15:32:16.860293Z",
     "shell.execute_reply": "2025-03-22T15:32:16.859319Z"
    },
    "papermill": {
     "duration": 0.102874,
     "end_time": "2025-03-22T15:32:16.862185",
     "exception": false,
     "start_time": "2025-03-22T15:32:16.759311",
     "status": "completed"
    },
    "tags": []
   },
   "outputs": [
    {
     "name": "stderr",
     "output_type": "stream",
     "text": [
      "/tmp/ipykernel_24/2196696025.py:3: FutureWarning: A value is trying to be set on a copy of a DataFrame or Series through chained assignment using an inplace method.\n",
      "The behavior will change in pandas 3.0. This inplace method will never work because the intermediate object on which we are setting values always behaves as a copy.\n",
      "\n",
      "For example, when doing 'df[col].method(value, inplace=True)', try using 'df.method({col: value}, inplace=True)' or df[col] = df[col].method(value) instead, to perform the operation inplace on the original object.\n",
      "\n",
      "\n",
      "  dataset['sex'].fillna('Unknown', inplace=True) # Fill nan sex with unknown\n",
      "/tmp/ipykernel_24/2196696025.py:3: SettingWithCopyWarning: \n",
      "A value is trying to be set on a copy of a slice from a DataFrame\n",
      "\n",
      "See the caveats in the documentation: https://pandas.pydata.org/pandas-docs/stable/user_guide/indexing.html#returning-a-view-versus-a-copy\n",
      "  dataset['sex'].fillna('Unknown', inplace=True) # Fill nan sex with unknown\n",
      "/tmp/ipykernel_24/2196696025.py:4: FutureWarning: A value is trying to be set on a copy of a DataFrame or Series through chained assignment using an inplace method.\n",
      "The behavior will change in pandas 3.0. This inplace method will never work because the intermediate object on which we are setting values always behaves as a copy.\n",
      "\n",
      "For example, when doing 'df[col].method(value, inplace=True)', try using 'df.method({col: value}, inplace=True)' or df[col] = df[col].method(value) instead, to perform the operation inplace on the original object.\n",
      "\n",
      "\n",
      "  dataset['age_approx'].fillna(dataset['age_approx'].mean(), inplace=True) # Fill unknown ages with mean age\n",
      "/tmp/ipykernel_24/2196696025.py:4: SettingWithCopyWarning: \n",
      "A value is trying to be set on a copy of a slice from a DataFrame\n",
      "\n",
      "See the caveats in the documentation: https://pandas.pydata.org/pandas-docs/stable/user_guide/indexing.html#returning-a-view-versus-a-copy\n",
      "  dataset['age_approx'].fillna(dataset['age_approx'].mean(), inplace=True) # Fill unknown ages with mean age\n"
     ]
    },
    {
     "data": {
      "text/html": [
       "<div>\n",
       "<style scoped>\n",
       "    .dataframe tbody tr th:only-of-type {\n",
       "        vertical-align: middle;\n",
       "    }\n",
       "\n",
       "    .dataframe tbody tr th {\n",
       "        vertical-align: top;\n",
       "    }\n",
       "\n",
       "    .dataframe thead th {\n",
       "        text-align: right;\n",
       "    }\n",
       "</style>\n",
       "<table border=\"1\" class=\"dataframe\">\n",
       "  <thead>\n",
       "    <tr style=\"text-align: right;\">\n",
       "      <th></th>\n",
       "      <th>age_approx</th>\n",
       "      <th>clin_size_long_diam_mm</th>\n",
       "      <th>tbp_lv_A</th>\n",
       "      <th>tbp_lv_Aext</th>\n",
       "      <th>tbp_lv_B</th>\n",
       "      <th>tbp_lv_Bext</th>\n",
       "      <th>tbp_lv_C</th>\n",
       "      <th>tbp_lv_Cext</th>\n",
       "      <th>tbp_lv_H</th>\n",
       "      <th>tbp_lv_Hext</th>\n",
       "      <th>tbp_lv_L</th>\n",
       "      <th>tbp_lv_Lext</th>\n",
       "      <th>tbp_lv_areaMM2</th>\n",
       "      <th>tbp_lv_area_perim_ratio</th>\n",
       "      <th>tbp_lv_color_std_mean</th>\n",
       "      <th>tbp_lv_deltaA</th>\n",
       "      <th>tbp_lv_deltaB</th>\n",
       "      <th>tbp_lv_deltaL</th>\n",
       "      <th>tbp_lv_deltaLBnorm</th>\n",
       "      <th>tbp_lv_eccentricity</th>\n",
       "      <th>tbp_lv_minorAxisMM</th>\n",
       "      <th>tbp_lv_nevi_confidence</th>\n",
       "      <th>tbp_lv_norm_border</th>\n",
       "      <th>tbp_lv_norm_color</th>\n",
       "      <th>tbp_lv_perimeterMM</th>\n",
       "      <th>tbp_lv_radial_color_std_max</th>\n",
       "      <th>tbp_lv_stdL</th>\n",
       "      <th>tbp_lv_stdLExt</th>\n",
       "      <th>tbp_lv_symm_2axis</th>\n",
       "      <th>tbp_lv_symm_2axis_angle</th>\n",
       "      <th>tbp_lv_x</th>\n",
       "      <th>tbp_lv_y</th>\n",
       "      <th>tbp_lv_z</th>\n",
       "      <th>sex_Unknown</th>\n",
       "      <th>sex_female</th>\n",
       "      <th>sex_male</th>\n",
       "      <th>tbp_tile_type_3D: XP</th>\n",
       "      <th>tbp_tile_type_3D: white</th>\n",
       "      <th>tbp_lv_location_Head &amp; Neck</th>\n",
       "      <th>tbp_lv_location_Left Arm</th>\n",
       "      <th>tbp_lv_location_Left Arm - Lower</th>\n",
       "      <th>tbp_lv_location_Left Arm - Upper</th>\n",
       "      <th>tbp_lv_location_Left Leg</th>\n",
       "      <th>tbp_lv_location_Left Leg - Lower</th>\n",
       "      <th>tbp_lv_location_Left Leg - Upper</th>\n",
       "      <th>tbp_lv_location_Right Arm</th>\n",
       "      <th>tbp_lv_location_Right Arm - Lower</th>\n",
       "      <th>tbp_lv_location_Right Arm - Upper</th>\n",
       "      <th>tbp_lv_location_Right Leg</th>\n",
       "      <th>tbp_lv_location_Right Leg - Lower</th>\n",
       "      <th>tbp_lv_location_Right Leg - Upper</th>\n",
       "      <th>tbp_lv_location_Torso Back</th>\n",
       "      <th>tbp_lv_location_Torso Back Bottom Third</th>\n",
       "      <th>tbp_lv_location_Torso Back Middle Third</th>\n",
       "      <th>tbp_lv_location_Torso Back Top Third</th>\n",
       "      <th>tbp_lv_location_Torso Front</th>\n",
       "      <th>tbp_lv_location_Torso Front Bottom Half</th>\n",
       "      <th>tbp_lv_location_Torso Front Top Half</th>\n",
       "      <th>tbp_lv_location_Unknown</th>\n",
       "    </tr>\n",
       "  </thead>\n",
       "  <tbody>\n",
       "    <tr>\n",
       "      <th>0</th>\n",
       "      <td>0</td>\n",
       "      <td>0.28125</td>\n",
       "      <td>0.809405</td>\n",
       "      <td>1.000000</td>\n",
       "      <td>0.000000</td>\n",
       "      <td>0.000000</td>\n",
       "      <td>0.271422</td>\n",
       "      <td>0.810287</td>\n",
       "      <td>0.000000</td>\n",
       "      <td>0.000000</td>\n",
       "      <td>0.000000</td>\n",
       "      <td>0.000000</td>\n",
       "      <td>1.00000</td>\n",
       "      <td>1.000000</td>\n",
       "      <td>1.000000</td>\n",
       "      <td>0.000000</td>\n",
       "      <td>0.000000</td>\n",
       "      <td>0.779243</td>\n",
       "      <td>1.000000</td>\n",
       "      <td>0.000000</td>\n",
       "      <td>1.000000</td>\n",
       "      <td>0.08058</td>\n",
       "      <td>1.000000</td>\n",
       "      <td>1.000000</td>\n",
       "      <td>1.000000</td>\n",
       "      <td>1.00000</td>\n",
       "      <td>1.00000</td>\n",
       "      <td>0.415632</td>\n",
       "      <td>1.000000</td>\n",
       "      <td>0.000000</td>\n",
       "      <td>0.000000</td>\n",
       "      <td>1.000000</td>\n",
       "      <td>1.000000</td>\n",
       "      <td>0</td>\n",
       "      <td>0</td>\n",
       "      <td>1</td>\n",
       "      <td>1</td>\n",
       "      <td>0</td>\n",
       "      <td>0</td>\n",
       "      <td>0</td>\n",
       "      <td>0</td>\n",
       "      <td>0</td>\n",
       "      <td>0</td>\n",
       "      <td>0</td>\n",
       "      <td>0</td>\n",
       "      <td>0</td>\n",
       "      <td>0</td>\n",
       "      <td>0</td>\n",
       "      <td>0</td>\n",
       "      <td>0</td>\n",
       "      <td>0</td>\n",
       "      <td>0</td>\n",
       "      <td>0</td>\n",
       "      <td>0</td>\n",
       "      <td>1</td>\n",
       "      <td>0</td>\n",
       "      <td>0</td>\n",
       "      <td>0</td>\n",
       "      <td>0</td>\n",
       "    </tr>\n",
       "    <tr>\n",
       "      <th>1</th>\n",
       "      <td>0</td>\n",
       "      <td>0.00000</td>\n",
       "      <td>0.000000</td>\n",
       "      <td>0.000000</td>\n",
       "      <td>1.000000</td>\n",
       "      <td>0.358555</td>\n",
       "      <td>0.000000</td>\n",
       "      <td>0.000000</td>\n",
       "      <td>1.000000</td>\n",
       "      <td>1.000000</td>\n",
       "      <td>1.000000</td>\n",
       "      <td>1.000000</td>\n",
       "      <td>0.00000</td>\n",
       "      <td>0.000000</td>\n",
       "      <td>0.000000</td>\n",
       "      <td>1.000000</td>\n",
       "      <td>1.000000</td>\n",
       "      <td>0.000000</td>\n",
       "      <td>0.455848</td>\n",
       "      <td>1.000000</td>\n",
       "      <td>0.000000</td>\n",
       "      <td>1.00000</td>\n",
       "      <td>0.240914</td>\n",
       "      <td>0.000000</td>\n",
       "      <td>0.000000</td>\n",
       "      <td>0.00000</td>\n",
       "      <td>0.95233</td>\n",
       "      <td>0.000000</td>\n",
       "      <td>0.531116</td>\n",
       "      <td>0.055556</td>\n",
       "      <td>0.603285</td>\n",
       "      <td>0.000000</td>\n",
       "      <td>0.095098</td>\n",
       "      <td>0</td>\n",
       "      <td>1</td>\n",
       "      <td>0</td>\n",
       "      <td>1</td>\n",
       "      <td>0</td>\n",
       "      <td>0</td>\n",
       "      <td>0</td>\n",
       "      <td>0</td>\n",
       "      <td>0</td>\n",
       "      <td>0</td>\n",
       "      <td>0</td>\n",
       "      <td>1</td>\n",
       "      <td>0</td>\n",
       "      <td>0</td>\n",
       "      <td>0</td>\n",
       "      <td>0</td>\n",
       "      <td>0</td>\n",
       "      <td>0</td>\n",
       "      <td>0</td>\n",
       "      <td>0</td>\n",
       "      <td>0</td>\n",
       "      <td>0</td>\n",
       "      <td>0</td>\n",
       "      <td>0</td>\n",
       "      <td>0</td>\n",
       "      <td>0</td>\n",
       "    </tr>\n",
       "    <tr>\n",
       "      <th>2</th>\n",
       "      <td>0</td>\n",
       "      <td>1.00000</td>\n",
       "      <td>1.000000</td>\n",
       "      <td>0.993247</td>\n",
       "      <td>0.708925</td>\n",
       "      <td>1.000000</td>\n",
       "      <td>1.000000</td>\n",
       "      <td>1.000000</td>\n",
       "      <td>0.023533</td>\n",
       "      <td>0.082171</td>\n",
       "      <td>0.310375</td>\n",
       "      <td>0.276668</td>\n",
       "      <td>0.73913</td>\n",
       "      <td>0.128274</td>\n",
       "      <td>0.544804</td>\n",
       "      <td>0.362312</td>\n",
       "      <td>0.301278</td>\n",
       "      <td>1.000000</td>\n",
       "      <td>0.000000</td>\n",
       "      <td>0.878269</td>\n",
       "      <td>0.422623</td>\n",
       "      <td>0.00000</td>\n",
       "      <td>0.000000</td>\n",
       "      <td>0.631236</td>\n",
       "      <td>0.587658</td>\n",
       "      <td>0.75696</td>\n",
       "      <td>0.00000</td>\n",
       "      <td>1.000000</td>\n",
       "      <td>0.000000</td>\n",
       "      <td>1.000000</td>\n",
       "      <td>1.000000</td>\n",
       "      <td>0.764946</td>\n",
       "      <td>0.000000</td>\n",
       "      <td>0</td>\n",
       "      <td>0</td>\n",
       "      <td>1</td>\n",
       "      <td>1</td>\n",
       "      <td>0</td>\n",
       "      <td>0</td>\n",
       "      <td>0</td>\n",
       "      <td>0</td>\n",
       "      <td>0</td>\n",
       "      <td>0</td>\n",
       "      <td>0</td>\n",
       "      <td>0</td>\n",
       "      <td>0</td>\n",
       "      <td>0</td>\n",
       "      <td>0</td>\n",
       "      <td>0</td>\n",
       "      <td>0</td>\n",
       "      <td>0</td>\n",
       "      <td>0</td>\n",
       "      <td>0</td>\n",
       "      <td>0</td>\n",
       "      <td>1</td>\n",
       "      <td>0</td>\n",
       "      <td>0</td>\n",
       "      <td>0</td>\n",
       "      <td>0</td>\n",
       "    </tr>\n",
       "  </tbody>\n",
       "</table>\n",
       "</div>"
      ],
      "text/plain": [
       "   age_approx  clin_size_long_diam_mm  tbp_lv_A  tbp_lv_Aext  tbp_lv_B  \\\n",
       "0           0                 0.28125  0.809405     1.000000  0.000000   \n",
       "1           0                 0.00000  0.000000     0.000000  1.000000   \n",
       "2           0                 1.00000  1.000000     0.993247  0.708925   \n",
       "\n",
       "   tbp_lv_Bext  tbp_lv_C  tbp_lv_Cext  tbp_lv_H  tbp_lv_Hext  tbp_lv_L  \\\n",
       "0     0.000000  0.271422     0.810287  0.000000     0.000000  0.000000   \n",
       "1     0.358555  0.000000     0.000000  1.000000     1.000000  1.000000   \n",
       "2     1.000000  1.000000     1.000000  0.023533     0.082171  0.310375   \n",
       "\n",
       "   tbp_lv_Lext  tbp_lv_areaMM2  tbp_lv_area_perim_ratio  \\\n",
       "0     0.000000         1.00000                 1.000000   \n",
       "1     1.000000         0.00000                 0.000000   \n",
       "2     0.276668         0.73913                 0.128274   \n",
       "\n",
       "   tbp_lv_color_std_mean  tbp_lv_deltaA  tbp_lv_deltaB  tbp_lv_deltaL  \\\n",
       "0               1.000000       0.000000       0.000000       0.779243   \n",
       "1               0.000000       1.000000       1.000000       0.000000   \n",
       "2               0.544804       0.362312       0.301278       1.000000   \n",
       "\n",
       "   tbp_lv_deltaLBnorm  tbp_lv_eccentricity  tbp_lv_minorAxisMM  \\\n",
       "0            1.000000             0.000000            1.000000   \n",
       "1            0.455848             1.000000            0.000000   \n",
       "2            0.000000             0.878269            0.422623   \n",
       "\n",
       "   tbp_lv_nevi_confidence  tbp_lv_norm_border  tbp_lv_norm_color  \\\n",
       "0                 0.08058            1.000000           1.000000   \n",
       "1                 1.00000            0.240914           0.000000   \n",
       "2                 0.00000            0.000000           0.631236   \n",
       "\n",
       "   tbp_lv_perimeterMM  tbp_lv_radial_color_std_max  tbp_lv_stdL  \\\n",
       "0            1.000000                      1.00000      1.00000   \n",
       "1            0.000000                      0.00000      0.95233   \n",
       "2            0.587658                      0.75696      0.00000   \n",
       "\n",
       "   tbp_lv_stdLExt  tbp_lv_symm_2axis  tbp_lv_symm_2axis_angle  tbp_lv_x  \\\n",
       "0        0.415632           1.000000                 0.000000  0.000000   \n",
       "1        0.000000           0.531116                 0.055556  0.603285   \n",
       "2        1.000000           0.000000                 1.000000  1.000000   \n",
       "\n",
       "   tbp_lv_y  tbp_lv_z  sex_Unknown  sex_female  sex_male  \\\n",
       "0  1.000000  1.000000            0           0         1   \n",
       "1  0.000000  0.095098            0           1         0   \n",
       "2  0.764946  0.000000            0           0         1   \n",
       "\n",
       "   tbp_tile_type_3D: XP  tbp_tile_type_3D: white  tbp_lv_location_Head & Neck  \\\n",
       "0                     1                        0                            0   \n",
       "1                     1                        0                            0   \n",
       "2                     1                        0                            0   \n",
       "\n",
       "   tbp_lv_location_Left Arm  tbp_lv_location_Left Arm - Lower  \\\n",
       "0                         0                                 0   \n",
       "1                         0                                 0   \n",
       "2                         0                                 0   \n",
       "\n",
       "   tbp_lv_location_Left Arm - Upper  tbp_lv_location_Left Leg  \\\n",
       "0                                 0                         0   \n",
       "1                                 0                         0   \n",
       "2                                 0                         0   \n",
       "\n",
       "   tbp_lv_location_Left Leg - Lower  tbp_lv_location_Left Leg - Upper  \\\n",
       "0                                 0                                 0   \n",
       "1                                 0                                 1   \n",
       "2                                 0                                 0   \n",
       "\n",
       "   tbp_lv_location_Right Arm  tbp_lv_location_Right Arm - Lower  \\\n",
       "0                          0                                  0   \n",
       "1                          0                                  0   \n",
       "2                          0                                  0   \n",
       "\n",
       "   tbp_lv_location_Right Arm - Upper  tbp_lv_location_Right Leg  \\\n",
       "0                                  0                          0   \n",
       "1                                  0                          0   \n",
       "2                                  0                          0   \n",
       "\n",
       "   tbp_lv_location_Right Leg - Lower  tbp_lv_location_Right Leg - Upper  \\\n",
       "0                                  0                                  0   \n",
       "1                                  0                                  0   \n",
       "2                                  0                                  0   \n",
       "\n",
       "   tbp_lv_location_Torso Back  tbp_lv_location_Torso Back Bottom Third  \\\n",
       "0                           0                                        0   \n",
       "1                           0                                        0   \n",
       "2                           0                                        0   \n",
       "\n",
       "   tbp_lv_location_Torso Back Middle Third  \\\n",
       "0                                        0   \n",
       "1                                        0   \n",
       "2                                        0   \n",
       "\n",
       "   tbp_lv_location_Torso Back Top Third  tbp_lv_location_Torso Front  \\\n",
       "0                                     1                            0   \n",
       "1                                     0                            0   \n",
       "2                                     1                            0   \n",
       "\n",
       "   tbp_lv_location_Torso Front Bottom Half  \\\n",
       "0                                        0   \n",
       "1                                        0   \n",
       "2                                        0   \n",
       "\n",
       "   tbp_lv_location_Torso Front Top Half  tbp_lv_location_Unknown  \n",
       "0                                     0                        0  \n",
       "1                                     0                        0  \n",
       "2                                     0                        0  "
      ]
     },
     "execution_count": 72,
     "metadata": {},
     "output_type": "execute_result"
    }
   ],
   "source": [
    "\n",
    "# Save the columns after one-hot encoding of the training set so the columns are identical \n",
    "training_columns = meta_train_df_1.columns\n",
    "\n",
    "meta_test_df = feature_engineer_test(meta_test_df, training_columns=training_columns)\n",
    "\n",
    "meta_test_df = meta_test_df.drop(['target'], axis=1)\n",
    "\n",
    "meta_test_df.head()"
   ]
  },
  {
   "cell_type": "code",
   "execution_count": 73,
   "id": "5f6ce630",
   "metadata": {
    "execution": {
     "iopub.execute_input": "2025-03-22T15:32:16.966307Z",
     "iopub.status.busy": "2025-03-22T15:32:16.966057Z",
     "iopub.status.idle": "2025-03-22T15:32:16.970004Z",
     "shell.execute_reply": "2025-03-22T15:32:16.969175Z"
    },
    "papermill": {
     "duration": 0.057316,
     "end_time": "2025-03-22T15:32:16.971601",
     "exception": false,
     "start_time": "2025-03-22T15:32:16.914285",
     "status": "completed"
    },
    "tags": []
   },
   "outputs": [
    {
     "name": "stdout",
     "output_type": "stream",
     "text": [
      "(3, 59)\n"
     ]
    }
   ],
   "source": [
    "print(meta_test_df.shape)\n"
   ]
  },
  {
   "cell_type": "markdown",
   "id": "01aa9a3d",
   "metadata": {
    "papermill": {
     "duration": 0.050617,
     "end_time": "2025-03-22T15:32:17.073351",
     "exception": false,
     "start_time": "2025-03-22T15:32:17.022734",
     "status": "completed"
    },
    "tags": []
   },
   "source": [
    "### Xgboost feature retrieval"
   ]
  },
  {
   "cell_type": "code",
   "execution_count": 74,
   "id": "8c7e60bf",
   "metadata": {
    "execution": {
     "iopub.execute_input": "2025-03-22T15:32:17.175773Z",
     "iopub.status.busy": "2025-03-22T15:32:17.175372Z",
     "iopub.status.idle": "2025-03-22T15:32:17.187901Z",
     "shell.execute_reply": "2025-03-22T15:32:17.187095Z"
    },
    "papermill": {
     "duration": 0.065949,
     "end_time": "2025-03-22T15:32:17.189994",
     "exception": false,
     "start_time": "2025-03-22T15:32:17.124045",
     "status": "completed"
    },
    "tags": []
   },
   "outputs": [
    {
     "name": "stdout",
     "output_type": "stream",
     "text": [
      "done\n"
     ]
    }
   ],
   "source": [
    "# Now its boosting time\n",
    "# Get the features\n",
    "xgboost_features_test_1 = boost_model_1.apply(meta_test_df)\n",
    "#xgboost_features_test_2 = boost_model_2.apply(meta_test_df)\n",
    "\n",
    "print('done')"
   ]
  },
  {
   "cell_type": "code",
   "execution_count": 75,
   "id": "40eed2bb",
   "metadata": {
    "execution": {
     "iopub.execute_input": "2025-03-22T15:32:17.296472Z",
     "iopub.status.busy": "2025-03-22T15:32:17.296153Z",
     "iopub.status.idle": "2025-03-22T15:32:17.300427Z",
     "shell.execute_reply": "2025-03-22T15:32:17.299640Z"
    },
    "papermill": {
     "duration": 0.057398,
     "end_time": "2025-03-22T15:32:17.302057",
     "exception": false,
     "start_time": "2025-03-22T15:32:17.244659",
     "status": "completed"
    },
    "tags": []
   },
   "outputs": [
    {
     "name": "stdout",
     "output_type": "stream",
     "text": [
      "(3, 21)\n"
     ]
    }
   ],
   "source": [
    "print(xgboost_features_test_1.shape)\n",
    "# print(xgboost_features_test_2.shape)\n"
   ]
  },
  {
   "cell_type": "markdown",
   "id": "553f4a09",
   "metadata": {
    "papermill": {
     "duration": 0.050352,
     "end_time": "2025-03-22T15:32:17.403140",
     "exception": false,
     "start_time": "2025-03-22T15:32:17.352788",
     "status": "completed"
    },
    "tags": []
   },
   "source": [
    "### cnn features retrieval"
   ]
  },
  {
   "cell_type": "code",
   "execution_count": 76,
   "id": "4e5b195a",
   "metadata": {
    "execution": {
     "iopub.execute_input": "2025-03-22T15:32:17.507602Z",
     "iopub.status.busy": "2025-03-22T15:32:17.506983Z",
     "iopub.status.idle": "2025-03-22T15:32:17.513023Z",
     "shell.execute_reply": "2025-03-22T15:32:17.512229Z"
    },
    "papermill": {
     "duration": 0.059696,
     "end_time": "2025-03-22T15:32:17.514700",
     "exception": false,
     "start_time": "2025-03-22T15:32:17.455004",
     "status": "completed"
    },
    "tags": []
   },
   "outputs": [
    {
     "name": "stdout",
     "output_type": "stream",
     "text": [
      "done\n"
     ]
    }
   ],
   "source": [
    "\n",
    "def image_data_generator_test(image_series, batch_size, target_size):\n",
    "    num_samples = len(image_series)\n",
    "    while True:  # Loop forever so the generator never terminates\n",
    "        for offset in range(0, num_samples, batch_size):\n",
    "            batch_images = image_series[offset:offset + batch_size]\n",
    "\n",
    "            images = []\n",
    "            for image in batch_images:\n",
    "                # Assuming the images are stored as NumPy arrays\n",
    "                image = np.array(Image.open(io.BytesIO(image))) # Take image as numpy array\n",
    "                image = np.array(image, dtype='float32')  # Ensure correct data type\n",
    "                image = tf.image.resize(image, target_size)\n",
    "                images.append(image)\n",
    "\n",
    "            # Normalize pixel values if needed\n",
    "            images = np.array(images) / 255.0\n",
    "\n",
    "            yield images\n",
    "\n",
    "print('done')"
   ]
  },
  {
   "cell_type": "code",
   "execution_count": 77,
   "id": "ee9c9135",
   "metadata": {
    "execution": {
     "iopub.execute_input": "2025-03-22T15:32:17.617828Z",
     "iopub.status.busy": "2025-03-22T15:32:17.617607Z",
     "iopub.status.idle": "2025-03-22T15:32:18.461070Z",
     "shell.execute_reply": "2025-03-22T15:32:18.460100Z"
    },
    "papermill": {
     "duration": 0.898039,
     "end_time": "2025-03-22T15:32:18.463215",
     "exception": false,
     "start_time": "2025-03-22T15:32:17.565176",
     "status": "completed"
    },
    "tags": []
   },
   "outputs": [
    {
     "name": "stdout",
     "output_type": "stream",
     "text": [
      "done\n"
     ]
    },
    {
     "name": "stderr",
     "output_type": "stream",
     "text": [
      "W0000 00:00:1742657538.454707      99 graph_launch.cc:671] Fallback to op-by-op mode because memset node breaks graph update\n"
     ]
    }
   ],
   "source": [
    "# CNN FEATURE EXTRACTION using test set \n",
    "\n",
    "X_image_test_1 = image_test['image_data']\n",
    "\n",
    "test_generator_1 = image_data_generator_test(image_series=X_image_test_1, batch_size=batch_size, target_size=target_size)\n",
    "\n",
    "# A new model with all the features of the cnn model, \n",
    "# without the final output layer\n",
    "cnn_feature_extractor_1 = Model(inputs=cnn_model_1.input, outputs=cnn_model_1.layers[-2].output) \n",
    "\n",
    "# Initialize empty NumPy arrays (you may need to initialize with a small size first)\n",
    "cnn_features_test_1 = np.empty((0, cnn_feature_extractor_1.output_shape[1]))  # Adjust shape based on your feature size\n",
    "\n",
    "# Manually iterate over the test_generator\n",
    "for images in test_generator_1:\n",
    "    features = cnn_feature_extractor_1.predict(images, verbose=0)\n",
    "    \n",
    "    # Concatenate the features and labels directly\n",
    "    cnn_features_test_1 = np.concatenate([cnn_features_test_1, features])\n",
    "    \n",
    "    # Stop when you've processed the entire training set\n",
    "    if cnn_features_test_1.shape[0] >= len(X_image_test_1):\n",
    "        break\n",
    "\n",
    "print('done')"
   ]
  },
  {
   "cell_type": "markdown",
   "id": "1d4a3c4a",
   "metadata": {
    "papermill": {
     "duration": 0.051158,
     "end_time": "2025-03-22T15:32:18.567433",
     "exception": false,
     "start_time": "2025-03-22T15:32:18.516275",
     "status": "completed"
    },
    "tags": []
   },
   "source": [
    "## uSE this to predict usimg cnn\n"
   ]
  },
  {
   "cell_type": "code",
   "execution_count": 78,
   "id": "8224e2c9",
   "metadata": {
    "execution": {
     "iopub.execute_input": "2025-03-22T15:32:18.673912Z",
     "iopub.status.busy": "2025-03-22T15:32:18.673197Z",
     "iopub.status.idle": "2025-03-22T15:32:19.019490Z",
     "shell.execute_reply": "2025-03-22T15:32:19.018427Z"
    },
    "papermill": {
     "duration": 0.401348,
     "end_time": "2025-03-22T15:32:19.021210",
     "exception": false,
     "start_time": "2025-03-22T15:32:18.619862",
     "status": "completed"
    },
    "tags": []
   },
   "outputs": [
    {
     "name": "stdout",
     "output_type": "stream",
     "text": [
      "done\n"
     ]
    }
   ],
   "source": [
    "test_generator_3 = image_data_generator_test(image_series=X_image_test_1, batch_size=batch_size, target_size=target_size)\n",
    "\n",
    "# Initialize empty NumPy arrays (you may need to initialize with a small size first)\n",
    "predictions_3 = np.empty((0, 1)) # Adjust shape based on your feature size\n",
    "\n",
    "# Manually iterate over the test_generator\n",
    "for images in test_generator_3:\n",
    "    features = cnn_model_3.predict(images, verbose=0)\n",
    "    \n",
    "    # Concatenate the features and labels directly\n",
    "    predictions_3 = np.concatenate([predictions_3, features])\n",
    "    \n",
    "    # Stop when you've processed the entire training set\n",
    "    if predictions_3.shape[0] >= len(X_image_test_1):\n",
    "        break\n",
    "    \n",
    "print('done')"
   ]
  },
  {
   "cell_type": "code",
   "execution_count": 79,
   "id": "851de4be",
   "metadata": {
    "execution": {
     "iopub.execute_input": "2025-03-22T15:32:19.125629Z",
     "iopub.status.busy": "2025-03-22T15:32:19.125307Z",
     "iopub.status.idle": "2025-03-22T15:32:19.129257Z",
     "shell.execute_reply": "2025-03-22T15:32:19.128518Z"
    },
    "papermill": {
     "duration": 0.057362,
     "end_time": "2025-03-22T15:32:19.130933",
     "exception": false,
     "start_time": "2025-03-22T15:32:19.073571",
     "status": "completed"
    },
    "tags": []
   },
   "outputs": [],
   "source": [
    "# # CNN FEATURE EXTRACTION using test set \n",
    "\n",
    "# X_image_test_2 = image_test['image_data']\n",
    "\n",
    "# test_generator_2 = image_data_generator_test(image_series=X_image_test_2, batch_size=batch_size, target_size=target_size)\n",
    "\n",
    "# # A new model with all the features of the cnn model, \n",
    "# # without the final output layer\n",
    "# cnn_feature_extractor_2 = Model(inputs=cnn_model_2.input, outputs=cnn_model_2.layers[-2].output) \n",
    "\n",
    "# # Initialize empty NumPy arrays (you may need to initialize with a small size first)\n",
    "# cnn_features_test_2 = np.empty((0, cnn_feature_extractor_2.output_shape[1]))  # Adjust shape based on your feature size\n",
    "\n",
    "# # Manually iterate over the test_generator\n",
    "# for images in test_generator_2:\n",
    "#     features = cnn_feature_extractor_2.predict(images, verbose=0)\n",
    "    \n",
    "#     # Concatenate the features and labels directly\n",
    "#     cnn_features_test_2 = np.concatenate([cnn_features_test_2, features])\n",
    "    \n",
    "#     # Stop when you've processed the entire training set\n",
    "#     if cnn_features_test_2.shape[0] >= len(X_image_test_2):\n",
    "#         break\n",
    "\n",
    "# print('done')"
   ]
  },
  {
   "cell_type": "markdown",
   "id": "2c56f837",
   "metadata": {
    "papermill": {
     "duration": 0.051992,
     "end_time": "2025-03-22T15:32:19.233832",
     "exception": false,
     "start_time": "2025-03-22T15:32:19.181840",
     "status": "completed"
    },
    "tags": []
   },
   "source": [
    "### Combine features"
   ]
  },
  {
   "cell_type": "code",
   "execution_count": 80,
   "id": "48bc2878",
   "metadata": {
    "execution": {
     "iopub.execute_input": "2025-03-22T15:32:19.336264Z",
     "iopub.status.busy": "2025-03-22T15:32:19.335769Z",
     "iopub.status.idle": "2025-03-22T15:32:19.340248Z",
     "shell.execute_reply": "2025-03-22T15:32:19.339495Z"
    },
    "papermill": {
     "duration": 0.057701,
     "end_time": "2025-03-22T15:32:19.341923",
     "exception": false,
     "start_time": "2025-03-22T15:32:19.284222",
     "status": "completed"
    },
    "tags": []
   },
   "outputs": [
    {
     "name": "stdout",
     "output_type": "stream",
     "text": [
      "done\n"
     ]
    }
   ],
   "source": [
    "# Concatenate the features\n",
    "combined_features_test_1 = np.concatenate([xgboost_features_test_1, cnn_features_test_1], axis=1)\n",
    "# combined_features_test_2 = np.concatenate([xgboost_features_test_2, cnn_features_test_2], axis=1)\n",
    "\n",
    "\n",
    "print('done')"
   ]
  },
  {
   "cell_type": "markdown",
   "id": "039ed321",
   "metadata": {
    "papermill": {
     "duration": 0.050617,
     "end_time": "2025-03-22T15:32:19.443398",
     "exception": false,
     "start_time": "2025-03-22T15:32:19.392781",
     "status": "completed"
    },
    "tags": []
   },
   "source": [
    "# Final predictions"
   ]
  },
  {
   "cell_type": "code",
   "execution_count": 81,
   "id": "1009aae7",
   "metadata": {
    "execution": {
     "iopub.execute_input": "2025-03-22T15:32:19.547372Z",
     "iopub.status.busy": "2025-03-22T15:32:19.546831Z",
     "iopub.status.idle": "2025-03-22T15:32:19.970104Z",
     "shell.execute_reply": "2025-03-22T15:32:19.969367Z"
    },
    "papermill": {
     "duration": 0.477315,
     "end_time": "2025-03-22T15:32:19.971633",
     "exception": false,
     "start_time": "2025-03-22T15:32:19.494318",
     "status": "completed"
    },
    "tags": []
   },
   "outputs": [
    {
     "name": "stdout",
     "output_type": "stream",
     "text": [
      "\u001b[1m1/1\u001b[0m \u001b[32m━━━━━━━━━━━━━━━━━━━━\u001b[0m\u001b[37m\u001b[0m \u001b[1m0s\u001b[0m 166ms/step\n",
      "(3, 1)\n",
      "(3, 1)\n",
      "(3, 1)\n",
      "(3, 1)\n",
      "\u001b[1m1/1\u001b[0m \u001b[32m━━━━━━━━━━━━━━━━━━━━\u001b[0m\u001b[37m\u001b[0m \u001b[1m0s\u001b[0m 162ms/step\n"
     ]
    },
    {
     "data": {
      "text/plain": [
       "array([[0.5305247 ],\n",
       "       [0.46601233],\n",
       "       [0.5303059 ]], dtype=float32)"
      ]
     },
     "execution_count": 81,
     "metadata": {},
     "output_type": "execute_result"
    }
   ],
   "source": [
    "# Make predictions\n",
    "predictions_1 = first_model_1.predict(combined_features_test_1)\n",
    "# predictions_2 = final_model_2.predict(combined_features_test_2)\n",
    "predictions_2 = boost_model_2.predict(meta_test_df) # XGBOOST \n",
    "# predictions_3 = cnn_model_3.predict(meta_test_df) # CNN\n",
    "predictions_4 = catboost_model.predict(meta_test_df)# CATBOOST\n",
    "\n",
    "predictions_1 = predictions_1.reshape(-1, 1)\n",
    "predictions_2 = predictions_2.reshape(-1, 1)\n",
    "predictions_3 = predictions_3.reshape(-1, 1)\n",
    "predictions_4 = predictions_4.reshape(-1, 1)\n",
    "print(predictions_1.shape)\n",
    "print(predictions_2.shape)\n",
    "print(predictions_3.shape)\n",
    "print(predictions_4.shape)\n",
    "\n",
    "# Combine outputs for stacking \n",
    "combined_outputs_test = np.concatenate(\n",
    "    [predictions_1, predictions_2, predictions_3, predictions_4], axis=1\n",
    ")\n",
    "\n",
    "predictions = final_model.predict(combined_outputs_test)\n",
    "# predictions = (0.75*predictions_1+predictions_2+0.5*predictions_3+predictions_4)/4\n",
    "# predictions = predictions_2\n",
    "\n",
    "\n",
    "predictions"
   ]
  },
  {
   "cell_type": "code",
   "execution_count": 82,
   "id": "54d19e6c",
   "metadata": {
    "execution": {
     "iopub.execute_input": "2025-03-22T15:32:20.077352Z",
     "iopub.status.busy": "2025-03-22T15:32:20.077068Z",
     "iopub.status.idle": "2025-03-22T15:32:20.086374Z",
     "shell.execute_reply": "2025-03-22T15:32:20.085557Z"
    },
    "papermill": {
     "duration": 0.063638,
     "end_time": "2025-03-22T15:32:20.088417",
     "exception": false,
     "start_time": "2025-03-22T15:32:20.024779",
     "status": "completed"
    },
    "tags": []
   },
   "outputs": [
    {
     "name": "stdout",
     "output_type": "stream",
     "text": [
      "Shape of predictions: (3, 1)\n"
     ]
    },
    {
     "data": {
      "text/html": [
       "<div>\n",
       "<style scoped>\n",
       "    .dataframe tbody tr th:only-of-type {\n",
       "        vertical-align: middle;\n",
       "    }\n",
       "\n",
       "    .dataframe tbody tr th {\n",
       "        vertical-align: top;\n",
       "    }\n",
       "\n",
       "    .dataframe thead th {\n",
       "        text-align: right;\n",
       "    }\n",
       "</style>\n",
       "<table border=\"1\" class=\"dataframe\">\n",
       "  <thead>\n",
       "    <tr style=\"text-align: right;\">\n",
       "      <th></th>\n",
       "      <th>isic_id</th>\n",
       "      <th>target</th>\n",
       "    </tr>\n",
       "  </thead>\n",
       "  <tbody>\n",
       "    <tr>\n",
       "      <th>0</th>\n",
       "      <td>ISIC_0015657</td>\n",
       "      <td>0.530525</td>\n",
       "    </tr>\n",
       "    <tr>\n",
       "      <th>1</th>\n",
       "      <td>ISIC_0015729</td>\n",
       "      <td>0.466012</td>\n",
       "    </tr>\n",
       "    <tr>\n",
       "      <th>2</th>\n",
       "      <td>ISIC_0015740</td>\n",
       "      <td>0.530306</td>\n",
       "    </tr>\n",
       "  </tbody>\n",
       "</table>\n",
       "</div>"
      ],
      "text/plain": [
       "        isic_id    target\n",
       "0  ISIC_0015657  0.530525\n",
       "1  ISIC_0015729  0.466012\n",
       "2  ISIC_0015740  0.530306"
      ]
     },
     "execution_count": 82,
     "metadata": {},
     "output_type": "execute_result"
    }
   ],
   "source": [
    "\n",
    "# Debug: Print shapes\n",
    "print(\"Shape of predictions:\", predictions.shape)\n",
    "\n",
    "# Flatten the predictions array and convert to binary labels\n",
    "predictions_flat = predictions.ravel()\n",
    "# predictions_binary = (predictions_flat > 0.5).astype(int)\n",
    "\n",
    "# Create the output DataFrame\n",
    "output = pd.DataFrame({'isic_id': meta_test['isic_id'].tolist(), 'target': predictions_flat})\n",
    "output.head()"
   ]
  },
  {
   "cell_type": "code",
   "execution_count": 83,
   "id": "09a275c8",
   "metadata": {
    "execution": {
     "iopub.execute_input": "2025-03-22T15:32:20.198699Z",
     "iopub.status.busy": "2025-03-22T15:32:20.198281Z",
     "iopub.status.idle": "2025-03-22T15:32:20.207040Z",
     "shell.execute_reply": "2025-03-22T15:32:20.206276Z"
    },
    "papermill": {
     "duration": 0.064609,
     "end_time": "2025-03-22T15:32:20.208643",
     "exception": false,
     "start_time": "2025-03-22T15:32:20.144034",
     "status": "completed"
    },
    "tags": []
   },
   "outputs": [
    {
     "name": "stdout",
     "output_type": "stream",
     "text": [
      "Your submission was successfully saved!\n"
     ]
    }
   ],
   "source": [
    "\n",
    "# Save to CSV\n",
    "output.to_csv('submission.csv', index=False)\n",
    "print(\"Your submission was successfully saved!\")"
   ]
  }
 ],
 "metadata": {
  "kaggle": {
   "accelerator": "nvidiaTeslaT4",
   "dataSources": [
    {
     "databundleVersionId": 9094797,
     "sourceId": 63056,
     "sourceType": "competition"
    }
   ],
   "dockerImageVersionId": 30746,
   "isGpuEnabled": true,
   "isInternetEnabled": false,
   "language": "python",
   "sourceType": "notebook"
  },
  "kernelspec": {
   "display_name": "Python 3",
   "language": "python",
   "name": "python3"
  },
  "language_info": {
   "codemirror_mode": {
    "name": "ipython",
    "version": 3
   },
   "file_extension": ".py",
   "mimetype": "text/x-python",
   "name": "python",
   "nbconvert_exporter": "python",
   "pygments_lexer": "ipython3",
   "version": "3.10.13"
  },
  "papermill": {
   "default_parameters": {},
   "duration": 1496.964705,
   "end_time": "2025-03-22T15:32:24.444521",
   "environment_variables": {},
   "exception": null,
   "input_path": "__notebook__.ipynb",
   "output_path": "__notebook__.ipynb",
   "parameters": {},
   "start_time": "2025-03-22T15:07:27.479816",
   "version": "2.5.0"
  }
 },
 "nbformat": 4,
 "nbformat_minor": 5
}
